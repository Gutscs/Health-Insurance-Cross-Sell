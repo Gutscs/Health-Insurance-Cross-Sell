{
 "cells": [
  {
   "cell_type": "markdown",
   "id": "484389bf",
   "metadata": {
    "ExecuteTime": {
     "end_time": "2022-02-14T22:34:32.288895Z",
     "start_time": "2022-02-14T22:34:32.272889Z"
    }
   },
   "source": [
    "# 1. Imports"
   ]
  },
  {
   "cell_type": "code",
   "execution_count": 1,
   "id": "052a9682",
   "metadata": {
    "ExecuteTime": {
     "end_time": "2022-03-15T22:12:54.718028Z",
     "start_time": "2022-03-15T22:12:51.470032Z"
    }
   },
   "outputs": [],
   "source": [
    "import psycopg2           as pg\n",
    "import pandas             as pd\n",
    "import numpy              as np\n",
    "import seaborn            as sns\n",
    "import matplotlib.patches as mpatches\n",
    "import scikitplot         as skplt\n",
    "import seaborn            as sns\n",
    "\n",
    "import os \n",
    "import pickle\n",
    "\n",
    "from dotenv                  import load_dotenv\n",
    "from IPython.core.display    import HTML\n",
    "from IPython.display         import Image\n",
    "\n",
    "from sklearn.preprocessing   import StandardScaler, MinMaxScaler\n",
    "from sklearn.model_selection import train_test_split\n",
    "from sklearn.ensemble        import ExtraTreesClassifier\n",
    "from sklearn.neighbors       import KNeighborsClassifier\n",
    "from sklearn.linear_model    import LogisticRegression\n",
    "from sklearn.metrics         import roc_auc_score\n",
    "from sklearn.model_selection import KFold\n",
    "\n",
    "from matplotlib            import pyplot as plt"
   ]
  },
  {
   "cell_type": "markdown",
   "id": "e2281ef1",
   "metadata": {},
   "source": [
    "## 1.1.Helper Functions"
   ]
  },
  {
   "cell_type": "code",
   "execution_count": 94,
   "id": "4563124e",
   "metadata": {
    "ExecuteTime": {
     "end_time": "2022-03-15T23:58:36.001009Z",
     "start_time": "2022-03-15T23:58:35.986006Z"
    }
   },
   "outputs": [],
   "source": [
    "def jupyter_settings():\n",
    "    %matplotlib inline\n",
    "    %pylab inline\n",
    "\n",
    "    plt.style.use( 'bmh' )\n",
    "    plt.rcParams['figure.figsize'] = [20,8]\n",
    "    plt.rcParams['font.size'] = 11\n",
    "\n",
    "    display( HTML( '<style>.container { width:80% !important; }</style>' ) )\n",
    "    pd.options.display.max_columns = None\n",
    "    pd.options.display.max_rows = None\n",
    "    pd.set_option( 'display.expand_frame_repr', False )\n",
    "    pd.set_option( 'display.max_columns', None )\n",
    "\n",
    "    sns.set_style(\"darkgrid\")\n",
    "    sns.set_palette(\"muted\")\n",
    "    \n",
    "    \n",
    "def precision_at_k( y, yhat, k=50 ):\n",
    "    # propensity score\n",
    "    data = pd.DataFrame()\n",
    "    data['response'] = y\n",
    "    data['score'] = yhat\n",
    "\n",
    "    # sort clients by propensity score\n",
    "    data = data.sort_values( 'score', ascending=False )\n",
    "    \n",
    "    # reset index\n",
    "    data = data.reset_index( drop=True )\n",
    "\n",
    "    # creating ranking order\n",
    "    data['ranking'] = data.index + 1\n",
    "    \n",
    "    data['precision_at_k'] = data['response'].cumsum() / data['ranking']\n",
    "    \n",
    "\n",
    "    return data.loc[k, 'precision_at_k']\n",
    "\n",
    "\n",
    "def recall_at_k( y, yhat, k=50 ):\n",
    "     # propensity score\n",
    "    data = pd.DataFrame()\n",
    "    data['response'] = y\n",
    "    data['score'] = yhat\n",
    "    \n",
    "    # sort clients by propensity score\n",
    "    data = data.sort_values( 'score', ascending=False )\n",
    "    \n",
    "    # reset index\n",
    "    data = data.reset_index( drop=True )\n",
    "\n",
    "    # creating ranking order\n",
    "    data['ranking'] = data.index + 1\n",
    "    \n",
    "    data['recall_at_k'] = data['response'].cumsum() / data['response'].sum()\n",
    "\n",
    "    return data.loc[k, 'recall_at_k']\n",
    "\n",
    "\n",
    "def ml_metrics( model_name, y, yhat, k):\n",
    "    precision_atk  = precision_at_k( y, yhat, k )\n",
    "    recall_atk     = recall_at_k( y, yhat, k )\n",
    "    roc_auc_scr    = roc_auc_score( y, yhat )\n",
    "\n",
    "    return pd.DataFrame( { 'Model Name'    : model_name,\n",
    "                           'Precision at K': precision_atk,\n",
    "                           'Recall at K'   : recall_atk,  \n",
    "                           'ROC AUC Score' : roc_auc_scr}, index=[0] )"
   ]
  },
  {
   "cell_type": "code",
   "execution_count": 95,
   "id": "2361c063",
   "metadata": {
    "ExecuteTime": {
     "end_time": "2022-03-15T23:58:37.636005Z",
     "start_time": "2022-03-15T23:58:37.617002Z"
    }
   },
   "outputs": [
    {
     "name": "stdout",
     "output_type": "stream",
     "text": [
      "Populating the interactive namespace from numpy and matplotlib\n"
     ]
    },
    {
     "data": {
      "text/html": [
       "<style>.container { width:80% !important; }</style>"
      ],
      "text/plain": [
       "<IPython.core.display.HTML object>"
      ]
     },
     "metadata": {},
     "output_type": "display_data"
    }
   ],
   "source": [
    "jupyter_settings()"
   ]
  },
  {
   "cell_type": "markdown",
   "id": "9dfd9ea0",
   "metadata": {
    "heading_collapsed": true
   },
   "source": [
    "## 1.2. Collect Data Using Psycopg2"
   ]
  },
  {
   "cell_type": "code",
   "execution_count": 4,
   "id": "0cb9fffa",
   "metadata": {
    "ExecuteTime": {
     "end_time": "2022-03-15T00:17:18.527255Z",
     "start_time": "2022-03-15T00:17:18.513252Z"
    },
    "hidden": true
   },
   "outputs": [],
   "source": [
    "# DB Credentials\n",
    "load_dotenv()\n",
    "\n",
    "host = os.environ.get( 'host' )\n",
    "port = os.environ.get( 'port' )\n",
    "database = os.environ.get( 'database' )\n",
    "username = os.environ.get( 'user' )\n",
    "pwd = os.environ.get( 'pwd' )"
   ]
  },
  {
   "cell_type": "code",
   "execution_count": 5,
   "id": "4bab5e61",
   "metadata": {
    "ExecuteTime": {
     "end_time": "2022-03-15T00:17:19.885866Z",
     "start_time": "2022-03-15T00:17:18.528256Z"
    },
    "hidden": true
   },
   "outputs": [],
   "source": [
    "# create DB connection\n",
    "conn = pg.connect( user=username,\n",
    "                   password=pwd,\n",
    "                   host=host,\n",
    "                   port=port,\n",
    "                   database=database )"
   ]
  },
  {
   "cell_type": "markdown",
   "id": "c4fa9bb7",
   "metadata": {
    "ExecuteTime": {
     "end_time": "2022-02-14T22:35:02.174886Z",
     "start_time": "2022-02-14T22:35:02.171895Z"
    },
    "hidden": true
   },
   "source": [
    "### 1.2.1. Schema Query"
   ]
  },
  {
   "cell_type": "code",
   "execution_count": 6,
   "id": "19dfa82d",
   "metadata": {
    "ExecuteTime": {
     "end_time": "2022-03-15T00:17:20.200123Z",
     "start_time": "2022-03-15T00:17:19.885866Z"
    },
    "hidden": true
   },
   "outputs": [
    {
     "data": {
      "text/plain": [
       "[('pg_toast',),\n",
       " ('pg_temp_1',),\n",
       " ('pg_toast_temp_1',),\n",
       " ('pg_catalog',),\n",
       " ('information_schema',),\n",
       " ('public',),\n",
       " ('pa004',),\n",
       " ('pg_temp_4',),\n",
       " ('pg_toast_temp_4',),\n",
       " ('pa005',),\n",
       " ('pg_temp_9',),\n",
       " ('pg_toast_temp_9',)]"
      ]
     },
     "execution_count": 6,
     "metadata": {},
     "output_type": "execute_result"
    }
   ],
   "source": [
    "# create cursor and execute query\n",
    "cursor = conn.cursor()\n",
    "\n",
    "query_schema = \"\"\"\n",
    "    SELECT nspname\n",
    "    FROM pg_catalog.pg_namespace\n",
    "\"\"\"\n",
    "\n",
    "cursor.execute( query_schema )\n",
    "record = cursor.fetchall()\n",
    "record"
   ]
  },
  {
   "cell_type": "markdown",
   "id": "10bd988e",
   "metadata": {
    "hidden": true
   },
   "source": [
    "### 1.2.2. Tables Query "
   ]
  },
  {
   "cell_type": "code",
   "execution_count": 7,
   "id": "2edb27d4",
   "metadata": {
    "ExecuteTime": {
     "end_time": "2022-03-15T00:17:20.360102Z",
     "start_time": "2022-03-15T00:17:20.201123Z"
    },
    "hidden": true
   },
   "outputs": [
    {
     "data": {
      "text/plain": [
       "[('users',), ('vehicle',), ('insurance',)]"
      ]
     },
     "execution_count": 7,
     "metadata": {},
     "output_type": "execute_result"
    }
   ],
   "source": [
    "# create cursor and execute query\n",
    "cursor = conn.cursor()\n",
    "\n",
    "query_tables = \"\"\"\n",
    "    SELECT tablename\n",
    "    FROM pg_tables\n",
    "    WHERE schemaname='pa004'\n",
    "\"\"\"\n",
    "\n",
    "cursor.execute( query_tables )\n",
    "record = cursor.fetchall()\n",
    "record"
   ]
  },
  {
   "cell_type": "markdown",
   "id": "6b1b83b9",
   "metadata": {
    "hidden": true
   },
   "source": [
    "### 1.2.3. Collect Data"
   ]
  },
  {
   "cell_type": "code",
   "execution_count": 8,
   "id": "d3224e29",
   "metadata": {
    "ExecuteTime": {
     "end_time": "2022-03-15T00:17:20.530578Z",
     "start_time": "2022-03-15T00:17:20.361103Z"
    },
    "hidden": true
   },
   "outputs": [
    {
     "data": {
      "text/plain": [
       "[(1, 'Male', 44, 28.0, 26.0),\n",
       " (2, 'Male', 76, 3.0, 26.0),\n",
       " (3, 'Male', 47, 28.0, 26.0),\n",
       " (4, 'Male', 21, 11.0, 152.0),\n",
       " (5, 'Female', 29, 41.0, 152.0),\n",
       " (6, 'Female', 24, 33.0, 160.0),\n",
       " (7, 'Male', 23, 11.0, 152.0),\n",
       " (8, 'Female', 56, 28.0, 26.0),\n",
       " (9, 'Female', 24, 3.0, 152.0),\n",
       " (10, 'Female', 32, 6.0, 152.0)]"
      ]
     },
     "execution_count": 8,
     "metadata": {},
     "output_type": "execute_result"
    }
   ],
   "source": [
    "# create cursor and execute query\n",
    "cursor = conn.cursor()\n",
    "\n",
    "query_tables_users = \"\"\"\n",
    "    SELECT *\n",
    "    FROM pa004.users u\n",
    "    LIMIT 10\n",
    "\"\"\"\n",
    "\n",
    "cursor.execute( query_tables_users )\n",
    "record = cursor.fetchall()\n",
    "record"
   ]
  },
  {
   "cell_type": "code",
   "execution_count": 9,
   "id": "62952016",
   "metadata": {
    "ExecuteTime": {
     "end_time": "2022-03-15T00:17:20.546587Z",
     "start_time": "2022-03-15T00:17:20.531579Z"
    },
    "hidden": true
   },
   "outputs": [],
   "source": [
    "# close cursor and connection\n",
    "cursor.close()\n",
    "conn.close()"
   ]
  },
  {
   "cell_type": "code",
   "execution_count": 10,
   "id": "426ef482",
   "metadata": {
    "ExecuteTime": {
     "end_time": "2022-03-15T00:17:20.561590Z",
     "start_time": "2022-03-15T00:17:20.549588Z"
    },
    "hidden": true
   },
   "outputs": [
    {
     "data": {
      "text/html": [
       "<div>\n",
       "<style scoped>\n",
       "    .dataframe tbody tr th:only-of-type {\n",
       "        vertical-align: middle;\n",
       "    }\n",
       "\n",
       "    .dataframe tbody tr th {\n",
       "        vertical-align: top;\n",
       "    }\n",
       "\n",
       "    .dataframe thead th {\n",
       "        text-align: right;\n",
       "    }\n",
       "</style>\n",
       "<table border=\"1\" class=\"dataframe\">\n",
       "  <thead>\n",
       "    <tr style=\"text-align: right;\">\n",
       "      <th></th>\n",
       "      <th>0</th>\n",
       "      <th>1</th>\n",
       "      <th>2</th>\n",
       "      <th>3</th>\n",
       "      <th>4</th>\n",
       "    </tr>\n",
       "  </thead>\n",
       "  <tbody>\n",
       "    <tr>\n",
       "      <th>0</th>\n",
       "      <td>1</td>\n",
       "      <td>Male</td>\n",
       "      <td>44</td>\n",
       "      <td>28.0</td>\n",
       "      <td>26.0</td>\n",
       "    </tr>\n",
       "    <tr>\n",
       "      <th>1</th>\n",
       "      <td>2</td>\n",
       "      <td>Male</td>\n",
       "      <td>76</td>\n",
       "      <td>3.0</td>\n",
       "      <td>26.0</td>\n",
       "    </tr>\n",
       "    <tr>\n",
       "      <th>2</th>\n",
       "      <td>3</td>\n",
       "      <td>Male</td>\n",
       "      <td>47</td>\n",
       "      <td>28.0</td>\n",
       "      <td>26.0</td>\n",
       "    </tr>\n",
       "    <tr>\n",
       "      <th>3</th>\n",
       "      <td>4</td>\n",
       "      <td>Male</td>\n",
       "      <td>21</td>\n",
       "      <td>11.0</td>\n",
       "      <td>152.0</td>\n",
       "    </tr>\n",
       "    <tr>\n",
       "      <th>4</th>\n",
       "      <td>5</td>\n",
       "      <td>Female</td>\n",
       "      <td>29</td>\n",
       "      <td>41.0</td>\n",
       "      <td>152.0</td>\n",
       "    </tr>\n",
       "  </tbody>\n",
       "</table>\n",
       "</div>"
      ],
      "text/plain": [
       "   0       1   2     3      4\n",
       "0  1    Male  44  28.0   26.0\n",
       "1  2    Male  76   3.0   26.0\n",
       "2  3    Male  47  28.0   26.0\n",
       "3  4    Male  21  11.0  152.0\n",
       "4  5  Female  29  41.0  152.0"
      ]
     },
     "execution_count": 10,
     "metadata": {},
     "output_type": "execute_result"
    }
   ],
   "source": [
    "# convert to dataframe\n",
    "data = pd.DataFrame( record )\n",
    "data.head()"
   ]
  },
  {
   "cell_type": "markdown",
   "id": "df6151ba",
   "metadata": {
    "heading_collapsed": true
   },
   "source": [
    "## 1.3. Collect Data Using Pandas"
   ]
  },
  {
   "cell_type": "code",
   "execution_count": 11,
   "id": "46f21b59",
   "metadata": {
    "ExecuteTime": {
     "end_time": "2022-03-15T00:17:21.708297Z",
     "start_time": "2022-03-15T00:17:20.562590Z"
    },
    "hidden": true
   },
   "outputs": [],
   "source": [
    "# create DB connection\n",
    "conn = pg.connect( user=username,\n",
    "                   password=pwd,\n",
    "                   host=host,\n",
    "                   port=port,\n",
    "                   database=database )"
   ]
  },
  {
   "cell_type": "code",
   "execution_count": 12,
   "id": "72045cf5",
   "metadata": {
    "ExecuteTime": {
     "end_time": "2022-03-15T00:17:22.005750Z",
     "start_time": "2022-03-15T00:17:21.709297Z"
    },
    "hidden": true
   },
   "outputs": [
    {
     "data": {
      "text/html": [
       "<div>\n",
       "<style scoped>\n",
       "    .dataframe tbody tr th:only-of-type {\n",
       "        vertical-align: middle;\n",
       "    }\n",
       "\n",
       "    .dataframe tbody tr th {\n",
       "        vertical-align: top;\n",
       "    }\n",
       "\n",
       "    .dataframe thead th {\n",
       "        text-align: right;\n",
       "    }\n",
       "</style>\n",
       "<table border=\"1\" class=\"dataframe\">\n",
       "  <thead>\n",
       "    <tr style=\"text-align: right;\">\n",
       "      <th></th>\n",
       "      <th>id</th>\n",
       "      <th>gender</th>\n",
       "      <th>age</th>\n",
       "      <th>region_code</th>\n",
       "      <th>policy_sales_channel</th>\n",
       "    </tr>\n",
       "  </thead>\n",
       "  <tbody>\n",
       "    <tr>\n",
       "      <th>0</th>\n",
       "      <td>1</td>\n",
       "      <td>Male</td>\n",
       "      <td>44</td>\n",
       "      <td>28.0</td>\n",
       "      <td>26.0</td>\n",
       "    </tr>\n",
       "    <tr>\n",
       "      <th>1</th>\n",
       "      <td>2</td>\n",
       "      <td>Male</td>\n",
       "      <td>76</td>\n",
       "      <td>3.0</td>\n",
       "      <td>26.0</td>\n",
       "    </tr>\n",
       "    <tr>\n",
       "      <th>2</th>\n",
       "      <td>3</td>\n",
       "      <td>Male</td>\n",
       "      <td>47</td>\n",
       "      <td>28.0</td>\n",
       "      <td>26.0</td>\n",
       "    </tr>\n",
       "    <tr>\n",
       "      <th>3</th>\n",
       "      <td>4</td>\n",
       "      <td>Male</td>\n",
       "      <td>21</td>\n",
       "      <td>11.0</td>\n",
       "      <td>152.0</td>\n",
       "    </tr>\n",
       "    <tr>\n",
       "      <th>4</th>\n",
       "      <td>5</td>\n",
       "      <td>Female</td>\n",
       "      <td>29</td>\n",
       "      <td>41.0</td>\n",
       "      <td>152.0</td>\n",
       "    </tr>\n",
       "  </tbody>\n",
       "</table>\n",
       "</div>"
      ],
      "text/plain": [
       "   id  gender  age  region_code  policy_sales_channel\n",
       "0   1    Male   44         28.0                  26.0\n",
       "1   2    Male   76          3.0                  26.0\n",
       "2   3    Male   47         28.0                  26.0\n",
       "3   4    Male   21         11.0                 152.0\n",
       "4   5  Female   29         41.0                 152.0"
      ]
     },
     "execution_count": 12,
     "metadata": {},
     "output_type": "execute_result"
    }
   ],
   "source": [
    "# users table query\n",
    "query = \"\"\"\n",
    "    SELECT *\n",
    "    FROM pa004.users\n",
    "    LIMIT 10\n",
    "\"\"\"\n",
    "\n",
    "df = pd.read_sql( query, conn )\n",
    "df.head()"
   ]
  },
  {
   "cell_type": "code",
   "execution_count": 13,
   "id": "2337e87e",
   "metadata": {
    "ExecuteTime": {
     "end_time": "2022-03-15T00:17:22.162368Z",
     "start_time": "2022-03-15T00:17:22.006751Z"
    },
    "hidden": true
   },
   "outputs": [
    {
     "data": {
      "text/html": [
       "<div>\n",
       "<style scoped>\n",
       "    .dataframe tbody tr th:only-of-type {\n",
       "        vertical-align: middle;\n",
       "    }\n",
       "\n",
       "    .dataframe tbody tr th {\n",
       "        vertical-align: top;\n",
       "    }\n",
       "\n",
       "    .dataframe thead th {\n",
       "        text-align: right;\n",
       "    }\n",
       "</style>\n",
       "<table border=\"1\" class=\"dataframe\">\n",
       "  <thead>\n",
       "    <tr style=\"text-align: right;\">\n",
       "      <th></th>\n",
       "      <th>id</th>\n",
       "      <th>driving_license</th>\n",
       "      <th>vehicle_age</th>\n",
       "      <th>vehicle_damage</th>\n",
       "    </tr>\n",
       "  </thead>\n",
       "  <tbody>\n",
       "    <tr>\n",
       "      <th>0</th>\n",
       "      <td>1</td>\n",
       "      <td>1</td>\n",
       "      <td>&gt; 2 Years</td>\n",
       "      <td>Yes</td>\n",
       "    </tr>\n",
       "    <tr>\n",
       "      <th>1</th>\n",
       "      <td>2</td>\n",
       "      <td>1</td>\n",
       "      <td>1-2 Year</td>\n",
       "      <td>No</td>\n",
       "    </tr>\n",
       "    <tr>\n",
       "      <th>2</th>\n",
       "      <td>3</td>\n",
       "      <td>1</td>\n",
       "      <td>&gt; 2 Years</td>\n",
       "      <td>Yes</td>\n",
       "    </tr>\n",
       "    <tr>\n",
       "      <th>3</th>\n",
       "      <td>4</td>\n",
       "      <td>1</td>\n",
       "      <td>&lt; 1 Year</td>\n",
       "      <td>No</td>\n",
       "    </tr>\n",
       "    <tr>\n",
       "      <th>4</th>\n",
       "      <td>5</td>\n",
       "      <td>1</td>\n",
       "      <td>&lt; 1 Year</td>\n",
       "      <td>No</td>\n",
       "    </tr>\n",
       "  </tbody>\n",
       "</table>\n",
       "</div>"
      ],
      "text/plain": [
       "   id  driving_license vehicle_age vehicle_damage\n",
       "0   1                1   > 2 Years            Yes\n",
       "1   2                1    1-2 Year             No\n",
       "2   3                1   > 2 Years            Yes\n",
       "3   4                1    < 1 Year             No\n",
       "4   5                1    < 1 Year             No"
      ]
     },
     "execution_count": 13,
     "metadata": {},
     "output_type": "execute_result"
    }
   ],
   "source": [
    "# vehicle table query\n",
    "query = \"\"\"\n",
    "    SELECT *\n",
    "    FROM pa004.vehicle\n",
    "    LIMIT 10\n",
    "\"\"\"\n",
    "\n",
    "df = pd.read_sql( query, conn )\n",
    "df.head()"
   ]
  },
  {
   "cell_type": "code",
   "execution_count": 14,
   "id": "1022350b",
   "metadata": {
    "ExecuteTime": {
     "end_time": "2022-03-15T00:17:22.319733Z",
     "start_time": "2022-03-15T00:17:22.163369Z"
    },
    "hidden": true
   },
   "outputs": [
    {
     "data": {
      "text/html": [
       "<div>\n",
       "<style scoped>\n",
       "    .dataframe tbody tr th:only-of-type {\n",
       "        vertical-align: middle;\n",
       "    }\n",
       "\n",
       "    .dataframe tbody tr th {\n",
       "        vertical-align: top;\n",
       "    }\n",
       "\n",
       "    .dataframe thead th {\n",
       "        text-align: right;\n",
       "    }\n",
       "</style>\n",
       "<table border=\"1\" class=\"dataframe\">\n",
       "  <thead>\n",
       "    <tr style=\"text-align: right;\">\n",
       "      <th></th>\n",
       "      <th>id</th>\n",
       "      <th>previously_insured</th>\n",
       "      <th>annual_premium</th>\n",
       "      <th>vintage</th>\n",
       "      <th>response</th>\n",
       "    </tr>\n",
       "  </thead>\n",
       "  <tbody>\n",
       "    <tr>\n",
       "      <th>0</th>\n",
       "      <td>1</td>\n",
       "      <td>0</td>\n",
       "      <td>40454.0</td>\n",
       "      <td>217</td>\n",
       "      <td>1</td>\n",
       "    </tr>\n",
       "    <tr>\n",
       "      <th>1</th>\n",
       "      <td>2</td>\n",
       "      <td>0</td>\n",
       "      <td>33536.0</td>\n",
       "      <td>183</td>\n",
       "      <td>0</td>\n",
       "    </tr>\n",
       "    <tr>\n",
       "      <th>2</th>\n",
       "      <td>3</td>\n",
       "      <td>0</td>\n",
       "      <td>38294.0</td>\n",
       "      <td>27</td>\n",
       "      <td>1</td>\n",
       "    </tr>\n",
       "    <tr>\n",
       "      <th>3</th>\n",
       "      <td>4</td>\n",
       "      <td>1</td>\n",
       "      <td>28619.0</td>\n",
       "      <td>203</td>\n",
       "      <td>0</td>\n",
       "    </tr>\n",
       "    <tr>\n",
       "      <th>4</th>\n",
       "      <td>5</td>\n",
       "      <td>1</td>\n",
       "      <td>27496.0</td>\n",
       "      <td>39</td>\n",
       "      <td>0</td>\n",
       "    </tr>\n",
       "  </tbody>\n",
       "</table>\n",
       "</div>"
      ],
      "text/plain": [
       "   id  previously_insured  annual_premium  vintage  response\n",
       "0   1                   0         40454.0      217         1\n",
       "1   2                   0         33536.0      183         0\n",
       "2   3                   0         38294.0       27         1\n",
       "3   4                   1         28619.0      203         0\n",
       "4   5                   1         27496.0       39         0"
      ]
     },
     "execution_count": 14,
     "metadata": {},
     "output_type": "execute_result"
    }
   ],
   "source": [
    "# insurance table query\n",
    "query = \"\"\"\n",
    "    SELECT *\n",
    "    FROM pa004.insurance\n",
    "    LIMIT 10\n",
    "\"\"\"\n",
    "\n",
    "df = pd.read_sql( query, conn )\n",
    "df.head()"
   ]
  },
  {
   "cell_type": "code",
   "execution_count": 15,
   "id": "7fcd3654",
   "metadata": {
    "ExecuteTime": {
     "end_time": "2022-03-15T00:17:37.046255Z",
     "start_time": "2022-03-15T00:17:22.320738Z"
    },
    "hidden": true
   },
   "outputs": [
    {
     "data": {
      "text/html": [
       "<div>\n",
       "<style scoped>\n",
       "    .dataframe tbody tr th:only-of-type {\n",
       "        vertical-align: middle;\n",
       "    }\n",
       "\n",
       "    .dataframe tbody tr th {\n",
       "        vertical-align: top;\n",
       "    }\n",
       "\n",
       "    .dataframe thead th {\n",
       "        text-align: right;\n",
       "    }\n",
       "</style>\n",
       "<table border=\"1\" class=\"dataframe\">\n",
       "  <thead>\n",
       "    <tr style=\"text-align: right;\">\n",
       "      <th></th>\n",
       "      <th>id</th>\n",
       "      <th>gender</th>\n",
       "      <th>age</th>\n",
       "      <th>region_code</th>\n",
       "      <th>policy_sales_channel</th>\n",
       "      <th>id</th>\n",
       "      <th>driving_license</th>\n",
       "      <th>vehicle_age</th>\n",
       "      <th>vehicle_damage</th>\n",
       "      <th>id</th>\n",
       "      <th>previously_insured</th>\n",
       "      <th>annual_premium</th>\n",
       "      <th>vintage</th>\n",
       "      <th>response</th>\n",
       "    </tr>\n",
       "  </thead>\n",
       "  <tbody>\n",
       "    <tr>\n",
       "      <th>0</th>\n",
       "      <td>7</td>\n",
       "      <td>Male</td>\n",
       "      <td>23</td>\n",
       "      <td>11.0</td>\n",
       "      <td>152.0</td>\n",
       "      <td>7</td>\n",
       "      <td>1</td>\n",
       "      <td>&lt; 1 Year</td>\n",
       "      <td>Yes</td>\n",
       "      <td>7</td>\n",
       "      <td>0</td>\n",
       "      <td>23367.0</td>\n",
       "      <td>249</td>\n",
       "      <td>0</td>\n",
       "    </tr>\n",
       "    <tr>\n",
       "      <th>1</th>\n",
       "      <td>13</td>\n",
       "      <td>Female</td>\n",
       "      <td>41</td>\n",
       "      <td>15.0</td>\n",
       "      <td>14.0</td>\n",
       "      <td>13</td>\n",
       "      <td>1</td>\n",
       "      <td>1-2 Year</td>\n",
       "      <td>No</td>\n",
       "      <td>13</td>\n",
       "      <td>1</td>\n",
       "      <td>31409.0</td>\n",
       "      <td>221</td>\n",
       "      <td>0</td>\n",
       "    </tr>\n",
       "    <tr>\n",
       "      <th>2</th>\n",
       "      <td>18</td>\n",
       "      <td>Female</td>\n",
       "      <td>25</td>\n",
       "      <td>35.0</td>\n",
       "      <td>152.0</td>\n",
       "      <td>18</td>\n",
       "      <td>1</td>\n",
       "      <td>&lt; 1 Year</td>\n",
       "      <td>No</td>\n",
       "      <td>18</td>\n",
       "      <td>1</td>\n",
       "      <td>46622.0</td>\n",
       "      <td>299</td>\n",
       "      <td>0</td>\n",
       "    </tr>\n",
       "    <tr>\n",
       "      <th>3</th>\n",
       "      <td>31</td>\n",
       "      <td>Female</td>\n",
       "      <td>26</td>\n",
       "      <td>8.0</td>\n",
       "      <td>160.0</td>\n",
       "      <td>31</td>\n",
       "      <td>1</td>\n",
       "      <td>&lt; 1 Year</td>\n",
       "      <td>No</td>\n",
       "      <td>31</td>\n",
       "      <td>0</td>\n",
       "      <td>2630.0</td>\n",
       "      <td>136</td>\n",
       "      <td>0</td>\n",
       "    </tr>\n",
       "    <tr>\n",
       "      <th>4</th>\n",
       "      <td>39</td>\n",
       "      <td>Male</td>\n",
       "      <td>45</td>\n",
       "      <td>8.0</td>\n",
       "      <td>124.0</td>\n",
       "      <td>39</td>\n",
       "      <td>1</td>\n",
       "      <td>1-2 Year</td>\n",
       "      <td>Yes</td>\n",
       "      <td>39</td>\n",
       "      <td>0</td>\n",
       "      <td>42297.0</td>\n",
       "      <td>264</td>\n",
       "      <td>0</td>\n",
       "    </tr>\n",
       "  </tbody>\n",
       "</table>\n",
       "</div>"
      ],
      "text/plain": [
       "   id  gender  age  region_code  policy_sales_channel  id  driving_license vehicle_age vehicle_damage  id  previously_insured  annual_premium  vintage  response\n",
       "0   7    Male   23         11.0                 152.0   7                1    < 1 Year            Yes   7                   0         23367.0      249         0\n",
       "1  13  Female   41         15.0                  14.0  13                1    1-2 Year             No  13                   1         31409.0      221         0\n",
       "2  18  Female   25         35.0                 152.0  18                1    < 1 Year             No  18                   1         46622.0      299         0\n",
       "3  31  Female   26          8.0                 160.0  31                1    < 1 Year             No  31                   0          2630.0      136         0\n",
       "4  39    Male   45          8.0                 124.0  39                1    1-2 Year            Yes  39                   0         42297.0      264         0"
      ]
     },
     "execution_count": 15,
     "metadata": {},
     "output_type": "execute_result"
    }
   ],
   "source": [
    "# join tables\n",
    "query = \"\"\"\n",
    "    SELECT *\n",
    "    FROM pa004.users u LEFT JOIN pa004.vehicle v ON ( u.id = v.id )\n",
    "                       LEFT JOIN pa004.insurance i ON ( u.id = i.id )\n",
    "\"\"\"\n",
    "\n",
    "df_raw = pd.read_sql( query, conn )\n",
    "df_raw.head()"
   ]
  },
  {
   "cell_type": "code",
   "execution_count": 16,
   "id": "91721d81",
   "metadata": {
    "ExecuteTime": {
     "end_time": "2022-03-15T00:17:37.062259Z",
     "start_time": "2022-03-15T00:17:37.047256Z"
    },
    "hidden": true
   },
   "outputs": [],
   "source": [
    "# close cursor and connection\n",
    "cursor.close()\n",
    "conn.close()"
   ]
  },
  {
   "cell_type": "code",
   "execution_count": 17,
   "id": "59d659ad",
   "metadata": {
    "ExecuteTime": {
     "end_time": "2022-03-15T00:17:38.490738Z",
     "start_time": "2022-03-15T00:17:37.063259Z"
    },
    "hidden": true,
    "scrolled": false
   },
   "outputs": [],
   "source": [
    "# saving dataset\n",
    "df_raw = df_raw.loc[:,~df_raw.columns.duplicated()]\n",
    "df_raw.to_csv(\"./data/data.csv\", encoding='utf-8', index=False)"
   ]
  },
  {
   "cell_type": "markdown",
   "id": "7f435b6a",
   "metadata": {},
   "source": [
    "## 1.4. Loading Data "
   ]
  },
  {
   "cell_type": "code",
   "execution_count": 4,
   "id": "2ef9bd05",
   "metadata": {
    "ExecuteTime": {
     "end_time": "2022-03-15T22:13:00.766557Z",
     "start_time": "2022-03-15T22:13:00.449025Z"
    }
   },
   "outputs": [
    {
     "data": {
      "text/html": [
       "<div>\n",
       "<style scoped>\n",
       "    .dataframe tbody tr th:only-of-type {\n",
       "        vertical-align: middle;\n",
       "    }\n",
       "\n",
       "    .dataframe tbody tr th {\n",
       "        vertical-align: top;\n",
       "    }\n",
       "\n",
       "    .dataframe thead th {\n",
       "        text-align: right;\n",
       "    }\n",
       "</style>\n",
       "<table border=\"1\" class=\"dataframe\">\n",
       "  <thead>\n",
       "    <tr style=\"text-align: right;\">\n",
       "      <th></th>\n",
       "      <th>id</th>\n",
       "      <th>gender</th>\n",
       "      <th>age</th>\n",
       "      <th>region_code</th>\n",
       "      <th>policy_sales_channel</th>\n",
       "      <th>driving_license</th>\n",
       "      <th>vehicle_age</th>\n",
       "      <th>vehicle_damage</th>\n",
       "      <th>previously_insured</th>\n",
       "      <th>annual_premium</th>\n",
       "      <th>vintage</th>\n",
       "      <th>response</th>\n",
       "    </tr>\n",
       "  </thead>\n",
       "  <tbody>\n",
       "    <tr>\n",
       "      <th>0</th>\n",
       "      <td>7</td>\n",
       "      <td>Male</td>\n",
       "      <td>23</td>\n",
       "      <td>11.0</td>\n",
       "      <td>152.0</td>\n",
       "      <td>1</td>\n",
       "      <td>&lt; 1 Year</td>\n",
       "      <td>Yes</td>\n",
       "      <td>0</td>\n",
       "      <td>23367.0</td>\n",
       "      <td>249</td>\n",
       "      <td>0</td>\n",
       "    </tr>\n",
       "    <tr>\n",
       "      <th>1</th>\n",
       "      <td>13</td>\n",
       "      <td>Female</td>\n",
       "      <td>41</td>\n",
       "      <td>15.0</td>\n",
       "      <td>14.0</td>\n",
       "      <td>1</td>\n",
       "      <td>1-2 Year</td>\n",
       "      <td>No</td>\n",
       "      <td>1</td>\n",
       "      <td>31409.0</td>\n",
       "      <td>221</td>\n",
       "      <td>0</td>\n",
       "    </tr>\n",
       "    <tr>\n",
       "      <th>2</th>\n",
       "      <td>18</td>\n",
       "      <td>Female</td>\n",
       "      <td>25</td>\n",
       "      <td>35.0</td>\n",
       "      <td>152.0</td>\n",
       "      <td>1</td>\n",
       "      <td>&lt; 1 Year</td>\n",
       "      <td>No</td>\n",
       "      <td>1</td>\n",
       "      <td>46622.0</td>\n",
       "      <td>299</td>\n",
       "      <td>0</td>\n",
       "    </tr>\n",
       "    <tr>\n",
       "      <th>3</th>\n",
       "      <td>31</td>\n",
       "      <td>Female</td>\n",
       "      <td>26</td>\n",
       "      <td>8.0</td>\n",
       "      <td>160.0</td>\n",
       "      <td>1</td>\n",
       "      <td>&lt; 1 Year</td>\n",
       "      <td>No</td>\n",
       "      <td>0</td>\n",
       "      <td>2630.0</td>\n",
       "      <td>136</td>\n",
       "      <td>0</td>\n",
       "    </tr>\n",
       "    <tr>\n",
       "      <th>4</th>\n",
       "      <td>39</td>\n",
       "      <td>Male</td>\n",
       "      <td>45</td>\n",
       "      <td>8.0</td>\n",
       "      <td>124.0</td>\n",
       "      <td>1</td>\n",
       "      <td>1-2 Year</td>\n",
       "      <td>Yes</td>\n",
       "      <td>0</td>\n",
       "      <td>42297.0</td>\n",
       "      <td>264</td>\n",
       "      <td>0</td>\n",
       "    </tr>\n",
       "  </tbody>\n",
       "</table>\n",
       "</div>"
      ],
      "text/plain": [
       "   id  gender  age  region_code  policy_sales_channel  driving_license vehicle_age vehicle_damage  previously_insured  annual_premium  vintage  response\n",
       "0   7    Male   23         11.0                 152.0                1    < 1 Year            Yes                   0         23367.0      249         0\n",
       "1  13  Female   41         15.0                  14.0                1    1-2 Year             No                   1         31409.0      221         0\n",
       "2  18  Female   25         35.0                 152.0                1    < 1 Year             No                   1         46622.0      299         0\n",
       "3  31  Female   26          8.0                 160.0                1    < 1 Year             No                   0          2630.0      136         0\n",
       "4  39    Male   45          8.0                 124.0                1    1-2 Year            Yes                   0         42297.0      264         0"
      ]
     },
     "execution_count": 4,
     "metadata": {},
     "output_type": "execute_result"
    }
   ],
   "source": [
    "df1 = pd.read_csv( 'data/data.csv')\n",
    "df1.head()"
   ]
  },
  {
   "cell_type": "markdown",
   "id": "0d1f4b90",
   "metadata": {
    "heading_collapsed": true
   },
   "source": [
    "# 2. Data Description"
   ]
  },
  {
   "cell_type": "code",
   "execution_count": 5,
   "id": "a3e08d16",
   "metadata": {
    "ExecuteTime": {
     "end_time": "2022-03-15T22:13:07.894799Z",
     "start_time": "2022-03-15T22:13:07.879795Z"
    },
    "hidden": true
   },
   "outputs": [],
   "source": [
    "df2 = df1.copy()"
   ]
  },
  {
   "cell_type": "markdown",
   "id": "710ad4c0",
   "metadata": {
    "hidden": true
   },
   "source": [
    "## 2.1. Renaming Columns"
   ]
  },
  {
   "cell_type": "code",
   "execution_count": 20,
   "id": "7017f483",
   "metadata": {
    "ExecuteTime": {
     "end_time": "2022-03-15T00:17:38.826738Z",
     "start_time": "2022-03-15T00:17:38.811734Z"
    },
    "hidden": true
   },
   "outputs": [
    {
     "data": {
      "text/plain": [
       "Index(['id', 'gender', 'age', 'region_code', 'policy_sales_channel',\n",
       "       'driving_license', 'vehicle_age', 'vehicle_damage',\n",
       "       'previously_insured', 'annual_premium', 'vintage', 'response'],\n",
       "      dtype='object')"
      ]
     },
     "execution_count": 20,
     "metadata": {},
     "output_type": "execute_result"
    }
   ],
   "source": [
    "# to lower case\n",
    "cols_new = df2.columns.str.lower()\n",
    "\n",
    "# rename columns\n",
    "df2.columns = cols_new\n",
    "df2.columns"
   ]
  },
  {
   "cell_type": "markdown",
   "id": "735817e1",
   "metadata": {
    "hidden": true
   },
   "source": [
    "## 2.2. Data Dimensions"
   ]
  },
  {
   "cell_type": "code",
   "execution_count": 21,
   "id": "8eabdd53",
   "metadata": {
    "ExecuteTime": {
     "end_time": "2022-03-15T00:17:38.841743Z",
     "start_time": "2022-03-15T00:17:38.827739Z"
    },
    "hidden": true
   },
   "outputs": [
    {
     "name": "stdout",
     "output_type": "stream",
     "text": [
      "Number of rows: 381109\n",
      "Number of columns: 12\n"
     ]
    }
   ],
   "source": [
    "print( f'Number of rows: {df2.shape[0]}'  )\n",
    "print( f'Number of columns: {df2.shape[1]}'  )"
   ]
  },
  {
   "cell_type": "markdown",
   "id": "ae2747ae",
   "metadata": {
    "hidden": true
   },
   "source": [
    "## 2.3. Data Types"
   ]
  },
  {
   "cell_type": "code",
   "execution_count": 22,
   "id": "147a079b",
   "metadata": {
    "ExecuteTime": {
     "end_time": "2022-03-15T00:17:38.857747Z",
     "start_time": "2022-03-15T00:17:38.842743Z"
    },
    "hidden": true
   },
   "outputs": [
    {
     "data": {
      "text/plain": [
       "id                        int64\n",
       "gender                   object\n",
       "age                       int64\n",
       "region_code             float64\n",
       "policy_sales_channel    float64\n",
       "driving_license           int64\n",
       "vehicle_age              object\n",
       "vehicle_damage           object\n",
       "previously_insured        int64\n",
       "annual_premium          float64\n",
       "vintage                   int64\n",
       "response                  int64\n",
       "dtype: object"
      ]
     },
     "execution_count": 22,
     "metadata": {},
     "output_type": "execute_result"
    }
   ],
   "source": [
    "df2.dtypes "
   ]
  },
  {
   "cell_type": "markdown",
   "id": "ba54a7c3",
   "metadata": {
    "hidden": true
   },
   "source": [
    "## 2.4. Check NA"
   ]
  },
  {
   "cell_type": "code",
   "execution_count": 23,
   "id": "87b7887f",
   "metadata": {
    "ExecuteTime": {
     "end_time": "2022-03-15T00:17:38.904757Z",
     "start_time": "2022-03-15T00:17:38.858747Z"
    },
    "hidden": true
   },
   "outputs": [
    {
     "data": {
      "text/plain": [
       "id                      0\n",
       "gender                  0\n",
       "age                     0\n",
       "region_code             0\n",
       "policy_sales_channel    0\n",
       "driving_license         0\n",
       "vehicle_age             0\n",
       "vehicle_damage          0\n",
       "previously_insured      0\n",
       "annual_premium          0\n",
       "vintage                 0\n",
       "response                0\n",
       "dtype: int64"
      ]
     },
     "execution_count": 23,
     "metadata": {},
     "output_type": "execute_result"
    }
   ],
   "source": [
    "df2.isna().sum()"
   ]
  },
  {
   "cell_type": "markdown",
   "id": "6e615195",
   "metadata": {
    "hidden": true
   },
   "source": [
    "## 2.5. Descriptive Statistics"
   ]
  },
  {
   "cell_type": "markdown",
   "id": "5eb4d8e5",
   "metadata": {
    "hidden": true
   },
   "source": [
    "### 2.5.1. Numerical Attributes"
   ]
  },
  {
   "cell_type": "code",
   "execution_count": 24,
   "id": "84acf221",
   "metadata": {
    "ExecuteTime": {
     "end_time": "2022-03-15T00:17:38.934764Z",
     "start_time": "2022-03-15T00:17:38.905757Z"
    },
    "hidden": true
   },
   "outputs": [
    {
     "data": {
      "text/html": [
       "<div>\n",
       "<style scoped>\n",
       "    .dataframe tbody tr th:only-of-type {\n",
       "        vertical-align: middle;\n",
       "    }\n",
       "\n",
       "    .dataframe tbody tr th {\n",
       "        vertical-align: top;\n",
       "    }\n",
       "\n",
       "    .dataframe thead th {\n",
       "        text-align: right;\n",
       "    }\n",
       "</style>\n",
       "<table border=\"1\" class=\"dataframe\">\n",
       "  <thead>\n",
       "    <tr style=\"text-align: right;\">\n",
       "      <th></th>\n",
       "      <th>id</th>\n",
       "      <th>age</th>\n",
       "      <th>region_code</th>\n",
       "      <th>policy_sales_channel</th>\n",
       "      <th>driving_license</th>\n",
       "      <th>previously_insured</th>\n",
       "      <th>annual_premium</th>\n",
       "      <th>vintage</th>\n",
       "      <th>response</th>\n",
       "    </tr>\n",
       "  </thead>\n",
       "  <tbody>\n",
       "    <tr>\n",
       "      <th>0</th>\n",
       "      <td>7</td>\n",
       "      <td>23</td>\n",
       "      <td>11.0</td>\n",
       "      <td>152.0</td>\n",
       "      <td>1</td>\n",
       "      <td>0</td>\n",
       "      <td>23367.0</td>\n",
       "      <td>249</td>\n",
       "      <td>0</td>\n",
       "    </tr>\n",
       "    <tr>\n",
       "      <th>1</th>\n",
       "      <td>13</td>\n",
       "      <td>41</td>\n",
       "      <td>15.0</td>\n",
       "      <td>14.0</td>\n",
       "      <td>1</td>\n",
       "      <td>1</td>\n",
       "      <td>31409.0</td>\n",
       "      <td>221</td>\n",
       "      <td>0</td>\n",
       "    </tr>\n",
       "    <tr>\n",
       "      <th>2</th>\n",
       "      <td>18</td>\n",
       "      <td>25</td>\n",
       "      <td>35.0</td>\n",
       "      <td>152.0</td>\n",
       "      <td>1</td>\n",
       "      <td>1</td>\n",
       "      <td>46622.0</td>\n",
       "      <td>299</td>\n",
       "      <td>0</td>\n",
       "    </tr>\n",
       "    <tr>\n",
       "      <th>3</th>\n",
       "      <td>31</td>\n",
       "      <td>26</td>\n",
       "      <td>8.0</td>\n",
       "      <td>160.0</td>\n",
       "      <td>1</td>\n",
       "      <td>0</td>\n",
       "      <td>2630.0</td>\n",
       "      <td>136</td>\n",
       "      <td>0</td>\n",
       "    </tr>\n",
       "    <tr>\n",
       "      <th>4</th>\n",
       "      <td>39</td>\n",
       "      <td>45</td>\n",
       "      <td>8.0</td>\n",
       "      <td>124.0</td>\n",
       "      <td>1</td>\n",
       "      <td>0</td>\n",
       "      <td>42297.0</td>\n",
       "      <td>264</td>\n",
       "      <td>0</td>\n",
       "    </tr>\n",
       "  </tbody>\n",
       "</table>\n",
       "</div>"
      ],
      "text/plain": [
       "   id  age  region_code  policy_sales_channel  driving_license  previously_insured  annual_premium  vintage  response\n",
       "0   7   23         11.0                 152.0                1                   0         23367.0      249         0\n",
       "1  13   41         15.0                  14.0                1                   1         31409.0      221         0\n",
       "2  18   25         35.0                 152.0                1                   1         46622.0      299         0\n",
       "3  31   26          8.0                 160.0                1                   0          2630.0      136         0\n",
       "4  39   45          8.0                 124.0                1                   0         42297.0      264         0"
      ]
     },
     "execution_count": 24,
     "metadata": {},
     "output_type": "execute_result"
    }
   ],
   "source": [
    "# dataset with only numerical attributes\n",
    "num_attributes = df2.select_dtypes( include=[ 'int64', 'float64' ] )\n",
    "num_attributes.head()"
   ]
  },
  {
   "cell_type": "code",
   "execution_count": 25,
   "id": "f3cfcbe0",
   "metadata": {
    "ExecuteTime": {
     "end_time": "2022-03-15T00:17:39.536899Z",
     "start_time": "2022-03-15T00:17:38.935765Z"
    },
    "hidden": true
   },
   "outputs": [
    {
     "data": {
      "text/html": [
       "<div>\n",
       "<style scoped>\n",
       "    .dataframe tbody tr th:only-of-type {\n",
       "        vertical-align: middle;\n",
       "    }\n",
       "\n",
       "    .dataframe tbody tr th {\n",
       "        vertical-align: top;\n",
       "    }\n",
       "\n",
       "    .dataframe thead th {\n",
       "        text-align: right;\n",
       "    }\n",
       "</style>\n",
       "<table border=\"1\" class=\"dataframe\">\n",
       "  <thead>\n",
       "    <tr style=\"text-align: right;\">\n",
       "      <th></th>\n",
       "      <th>attributes</th>\n",
       "      <th>min</th>\n",
       "      <th>max</th>\n",
       "      <th>range</th>\n",
       "      <th>mean</th>\n",
       "      <th>median</th>\n",
       "      <th>std</th>\n",
       "      <th>skew</th>\n",
       "      <th>kurtosis</th>\n",
       "    </tr>\n",
       "  </thead>\n",
       "  <tbody>\n",
       "    <tr>\n",
       "      <th>0</th>\n",
       "      <td>id</td>\n",
       "      <td>1.0</td>\n",
       "      <td>381109.0</td>\n",
       "      <td>381108.0</td>\n",
       "      <td>190555.000000</td>\n",
       "      <td>190555.0</td>\n",
       "      <td>110016.691870</td>\n",
       "      <td>-8.071174e-18</td>\n",
       "      <td>-1.200000</td>\n",
       "    </tr>\n",
       "    <tr>\n",
       "      <th>1</th>\n",
       "      <td>age</td>\n",
       "      <td>20.0</td>\n",
       "      <td>85.0</td>\n",
       "      <td>65.0</td>\n",
       "      <td>38.822584</td>\n",
       "      <td>36.0</td>\n",
       "      <td>15.511591</td>\n",
       "      <td>6.725390e-01</td>\n",
       "      <td>-0.565655</td>\n",
       "    </tr>\n",
       "    <tr>\n",
       "      <th>2</th>\n",
       "      <td>region_code</td>\n",
       "      <td>0.0</td>\n",
       "      <td>52.0</td>\n",
       "      <td>52.0</td>\n",
       "      <td>26.388807</td>\n",
       "      <td>28.0</td>\n",
       "      <td>13.229871</td>\n",
       "      <td>-1.152664e-01</td>\n",
       "      <td>-0.867857</td>\n",
       "    </tr>\n",
       "    <tr>\n",
       "      <th>3</th>\n",
       "      <td>policy_sales_channel</td>\n",
       "      <td>1.0</td>\n",
       "      <td>163.0</td>\n",
       "      <td>162.0</td>\n",
       "      <td>112.034295</td>\n",
       "      <td>133.0</td>\n",
       "      <td>54.203924</td>\n",
       "      <td>-9.000081e-01</td>\n",
       "      <td>-0.970810</td>\n",
       "    </tr>\n",
       "    <tr>\n",
       "      <th>4</th>\n",
       "      <td>driving_license</td>\n",
       "      <td>0.0</td>\n",
       "      <td>1.0</td>\n",
       "      <td>1.0</td>\n",
       "      <td>0.997869</td>\n",
       "      <td>1.0</td>\n",
       "      <td>0.046109</td>\n",
       "      <td>-2.159518e+01</td>\n",
       "      <td>464.354302</td>\n",
       "    </tr>\n",
       "    <tr>\n",
       "      <th>5</th>\n",
       "      <td>previously_insured</td>\n",
       "      <td>0.0</td>\n",
       "      <td>1.0</td>\n",
       "      <td>1.0</td>\n",
       "      <td>0.458210</td>\n",
       "      <td>0.0</td>\n",
       "      <td>0.498251</td>\n",
       "      <td>1.677471e-01</td>\n",
       "      <td>-1.971871</td>\n",
       "    </tr>\n",
       "    <tr>\n",
       "      <th>6</th>\n",
       "      <td>annual_premium</td>\n",
       "      <td>2630.0</td>\n",
       "      <td>540165.0</td>\n",
       "      <td>537535.0</td>\n",
       "      <td>30564.389581</td>\n",
       "      <td>31669.0</td>\n",
       "      <td>17213.132474</td>\n",
       "      <td>1.766087e+00</td>\n",
       "      <td>34.004569</td>\n",
       "    </tr>\n",
       "    <tr>\n",
       "      <th>7</th>\n",
       "      <td>vintage</td>\n",
       "      <td>10.0</td>\n",
       "      <td>299.0</td>\n",
       "      <td>289.0</td>\n",
       "      <td>154.347397</td>\n",
       "      <td>154.0</td>\n",
       "      <td>83.671194</td>\n",
       "      <td>3.029517e-03</td>\n",
       "      <td>-1.200688</td>\n",
       "    </tr>\n",
       "    <tr>\n",
       "      <th>8</th>\n",
       "      <td>response</td>\n",
       "      <td>0.0</td>\n",
       "      <td>1.0</td>\n",
       "      <td>1.0</td>\n",
       "      <td>0.122563</td>\n",
       "      <td>0.0</td>\n",
       "      <td>0.327935</td>\n",
       "      <td>2.301906e+00</td>\n",
       "      <td>3.298788</td>\n",
       "    </tr>\n",
       "  </tbody>\n",
       "</table>\n",
       "</div>"
      ],
      "text/plain": [
       "             attributes     min       max     range           mean    median            std          skew    kurtosis\n",
       "0                    id     1.0  381109.0  381108.0  190555.000000  190555.0  110016.691870 -8.071174e-18   -1.200000\n",
       "1                   age    20.0      85.0      65.0      38.822584      36.0      15.511591  6.725390e-01   -0.565655\n",
       "2           region_code     0.0      52.0      52.0      26.388807      28.0      13.229871 -1.152664e-01   -0.867857\n",
       "3  policy_sales_channel     1.0     163.0     162.0     112.034295     133.0      54.203924 -9.000081e-01   -0.970810\n",
       "4       driving_license     0.0       1.0       1.0       0.997869       1.0       0.046109 -2.159518e+01  464.354302\n",
       "5    previously_insured     0.0       1.0       1.0       0.458210       0.0       0.498251  1.677471e-01   -1.971871\n",
       "6        annual_premium  2630.0  540165.0  537535.0   30564.389581   31669.0   17213.132474  1.766087e+00   34.004569\n",
       "7               vintage    10.0     299.0     289.0     154.347397     154.0      83.671194  3.029517e-03   -1.200688\n",
       "8              response     0.0       1.0       1.0       0.122563       0.0       0.327935  2.301906e+00    3.298788"
      ]
     },
     "execution_count": 25,
     "metadata": {},
     "output_type": "execute_result"
    }
   ],
   "source": [
    "# Central Tendency\n",
    "_mean = pd.DataFrame(num_attributes.apply(np.mean)).T\n",
    "_median = pd.DataFrame(num_attributes.apply(np.median)).T\n",
    "\n",
    "# Dispersion\n",
    "_min = pd.DataFrame(num_attributes.apply(min)).T\n",
    "_max = pd.DataFrame(num_attributes.apply(max)).T\n",
    "_range = pd.DataFrame(num_attributes.apply(lambda x: x.max() - x.min())).T\n",
    "_std = pd.DataFrame(num_attributes.apply(np.std)).T\n",
    "_skew = pd.DataFrame(num_attributes.apply(lambda x: x.skew())).T\n",
    "_kurtosis = pd.DataFrame(num_attributes.apply(lambda x: x.kurtosis())).T\n",
    "\n",
    "# concatenate\n",
    "summary = pd.concat([_min, _max, _range, _mean, _median, _std, _skew, _kurtosis]).T.reset_index()\n",
    "summary.columns = ['attributes','min','max','range','mean','median','std','skew','kurtosis']\n",
    "summary"
   ]
  },
  {
   "cell_type": "markdown",
   "id": "b771603e",
   "metadata": {
    "hidden": true
   },
   "source": [
    "* Although \"driving_license\", \"previously_insured\" and \"response\" have numerical values, they are considered as categorical attributes, because the numbers represent categories."
   ]
  },
  {
   "cell_type": "markdown",
   "id": "17d10b56",
   "metadata": {
    "hidden": true
   },
   "source": [
    "### 2.5.2 Categorical Attributes"
   ]
  },
  {
   "cell_type": "code",
   "execution_count": 26,
   "id": "1f44005a",
   "metadata": {
    "ExecuteTime": {
     "end_time": "2022-03-15T00:17:39.568906Z",
     "start_time": "2022-03-15T00:17:39.537900Z"
    },
    "hidden": true
   },
   "outputs": [
    {
     "data": {
      "text/html": [
       "<div>\n",
       "<style scoped>\n",
       "    .dataframe tbody tr th:only-of-type {\n",
       "        vertical-align: middle;\n",
       "    }\n",
       "\n",
       "    .dataframe tbody tr th {\n",
       "        vertical-align: top;\n",
       "    }\n",
       "\n",
       "    .dataframe thead th {\n",
       "        text-align: right;\n",
       "    }\n",
       "</style>\n",
       "<table border=\"1\" class=\"dataframe\">\n",
       "  <thead>\n",
       "    <tr style=\"text-align: right;\">\n",
       "      <th></th>\n",
       "      <th>gender</th>\n",
       "      <th>vehicle_age</th>\n",
       "      <th>vehicle_damage</th>\n",
       "      <th>driving_license</th>\n",
       "      <th>previously_insured</th>\n",
       "      <th>response</th>\n",
       "    </tr>\n",
       "  </thead>\n",
       "  <tbody>\n",
       "    <tr>\n",
       "      <th>0</th>\n",
       "      <td>Male</td>\n",
       "      <td>&lt; 1 Year</td>\n",
       "      <td>Yes</td>\n",
       "      <td>1</td>\n",
       "      <td>0</td>\n",
       "      <td>0</td>\n",
       "    </tr>\n",
       "    <tr>\n",
       "      <th>1</th>\n",
       "      <td>Female</td>\n",
       "      <td>1-2 Year</td>\n",
       "      <td>No</td>\n",
       "      <td>1</td>\n",
       "      <td>1</td>\n",
       "      <td>0</td>\n",
       "    </tr>\n",
       "    <tr>\n",
       "      <th>2</th>\n",
       "      <td>Female</td>\n",
       "      <td>&lt; 1 Year</td>\n",
       "      <td>No</td>\n",
       "      <td>1</td>\n",
       "      <td>1</td>\n",
       "      <td>0</td>\n",
       "    </tr>\n",
       "    <tr>\n",
       "      <th>3</th>\n",
       "      <td>Female</td>\n",
       "      <td>&lt; 1 Year</td>\n",
       "      <td>No</td>\n",
       "      <td>1</td>\n",
       "      <td>0</td>\n",
       "      <td>0</td>\n",
       "    </tr>\n",
       "    <tr>\n",
       "      <th>4</th>\n",
       "      <td>Male</td>\n",
       "      <td>1-2 Year</td>\n",
       "      <td>Yes</td>\n",
       "      <td>1</td>\n",
       "      <td>0</td>\n",
       "      <td>0</td>\n",
       "    </tr>\n",
       "  </tbody>\n",
       "</table>\n",
       "</div>"
      ],
      "text/plain": [
       "   gender vehicle_age vehicle_damage  driving_license  previously_insured  response\n",
       "0    Male    < 1 Year            Yes                1                   0         0\n",
       "1  Female    1-2 Year             No                1                   1         0\n",
       "2  Female    < 1 Year             No                1                   1         0\n",
       "3  Female    < 1 Year             No                1                   0         0\n",
       "4    Male    1-2 Year            Yes                1                   0         0"
      ]
     },
     "execution_count": 26,
     "metadata": {},
     "output_type": "execute_result"
    }
   ],
   "source": [
    "cat_attributes = df2[['gender', 'vehicle_age', 'vehicle_damage', 'driving_license', 'previously_insured', 'response']]\n",
    "cat_attributes.head()"
   ]
  },
  {
   "cell_type": "code",
   "execution_count": 27,
   "id": "605a95a0",
   "metadata": {
    "ExecuteTime": {
     "end_time": "2022-03-15T00:17:39.648924Z",
     "start_time": "2022-03-15T00:17:39.569906Z"
    },
    "hidden": true
   },
   "outputs": [
    {
     "data": {
      "text/plain": [
       "gender                2\n",
       "vehicle_age           3\n",
       "vehicle_damage        2\n",
       "driving_license       2\n",
       "previously_insured    2\n",
       "response              2\n",
       "dtype: int64"
      ]
     },
     "execution_count": 27,
     "metadata": {},
     "output_type": "execute_result"
    }
   ],
   "source": [
    "# Qtd. of unique attributes per feature\n",
    "cat_attributes.apply(lambda x: x.unique().shape[0])"
   ]
  },
  {
   "cell_type": "code",
   "execution_count": 28,
   "id": "11ef8192",
   "metadata": {
    "ExecuteTime": {
     "end_time": "2022-03-15T00:17:40.545977Z",
     "start_time": "2022-03-15T00:17:39.651925Z"
    },
    "hidden": true
   },
   "outputs": [
    {
     "data": {
      "image/png": "[encoded data removed]",
      "text/plain": [
       "<Figure size 1440x576 with 6 Axes>"
      ]
     },
     "metadata": {},
     "output_type": "display_data"
    }
   ],
   "source": [
    "fig, axes = plt.subplots(2,3)\n",
    "\n",
    "sns.countplot( x='gender'             , data=cat_attributes, ax=axes[0,0] )\n",
    "sns.countplot( x='vehicle_age'        , data=cat_attributes, ax=axes[0,1] )\n",
    "sns.countplot( x='vehicle_damage'     , data=cat_attributes, ax=axes[0,2] )\n",
    "sns.countplot( x='driving_license'    , data=cat_attributes, ax=axes[1,0] )\n",
    "sns.countplot( x='previously_insured' , data=cat_attributes, ax=axes[1,1] )\n",
    "sns.countplot( x='response'           , data=cat_attributes, ax=axes[1,2] );"
   ]
  },
  {
   "cell_type": "markdown",
   "id": "16f41967",
   "metadata": {},
   "source": [
    "# 3. Feature Engineering"
   ]
  },
  {
   "cell_type": "markdown",
   "id": "e64edc28",
   "metadata": {
    "ExecuteTime": {
     "end_time": "2022-03-13T22:47:56.837541Z",
     "start_time": "2022-03-13T22:47:56.823538Z"
    },
    "heading_collapsed": true
   },
   "source": [
    "## 3.1. Mind Map"
   ]
  },
  {
   "cell_type": "markdown",
   "id": "2d30ad6b",
   "metadata": {
    "hidden": true
   },
   "source": [
    "![mindmap.png](img\\mindmap.png)"
   ]
  },
  {
   "cell_type": "markdown",
   "id": "0aa3d087",
   "metadata": {},
   "source": [
    "## 3.2. Creating Hypotheses"
   ]
  },
  {
   "cell_type": "markdown",
   "id": "bf4066c0",
   "metadata": {},
   "source": [
    "Creating hypotheses for the features that could have some influence in the phenomenon."
   ]
  },
  {
   "cell_type": "markdown",
   "id": "1038ac91",
   "metadata": {
    "heading_collapsed": true
   },
   "source": [
    "### 3.2.1. Customer's Hypotheses \n",
    "\n",
    "**1.** Younger and eldest customers are more likely to obtain vehicle insurance.\n",
    "\n",
    "**2.** Female customers are more likely to obtain vehicle insurance than male customers.\n",
    "\n",
    "**3.** Customers who don't have vehicle insurance are more likely to obtain vehicle insurance.\n",
    "\n",
    "**4.** Customers who have a driving license are more likely to obtain vehicle insurance.\n",
    "\n",
    "**5.** Customers who live in a dangerous region are more likely to obtain vehicle insurance."
   ]
  },
  {
   "cell_type": "markdown",
   "id": "17db2b59",
   "metadata": {
    "heading_collapsed": true
   },
   "source": [
    "### 3.2.2. Vehicle's Hypotheses \n",
    "\n",
    "**1.** Customers with newer vehicles are more likely to obtain vehicle insurance.\n",
    "\n",
    "**2.** Customers who got his/her vehicle damaged in the past are more likely to obtain vehicle insurance."
   ]
  },
  {
   "cell_type": "markdown",
   "id": "e18e34ab",
   "metadata": {},
   "source": [
    "### 3.2.3. Company & Customer's Hypotheses \n",
    "\n",
    "**1.** Customers who have been associated with the company for a long time are more likely to obtain vehicle insurance.\n",
    "\n",
    "**2.** Customers who have a higher annual premium are more likely to obtain vehicle insurance.\n",
    "\n",
    "**3.** Customers who were contacted in a more personal way, like a call or in person, are more likely to obtain vehicle insurance."
   ]
  },
  {
   "cell_type": "markdown",
   "id": "16409ff0",
   "metadata": {
    "heading_collapsed": true
   },
   "source": [
    "## 3.3. Main Hypotheses List"
   ]
  },
  {
   "cell_type": "markdown",
   "id": "11da498f",
   "metadata": {
    "hidden": true
   },
   "source": [
    "These hypotheses were chosen based on the available data."
   ]
  },
  {
   "cell_type": "markdown",
   "id": "ee65c7ab",
   "metadata": {
    "hidden": true
   },
   "source": [
    "**H1.** Younger and eldest customers are more likely to obtain vehicle insurance.\n",
    "\n",
    "**H2.** Female customers are more likely to obtain vehicle insurance than male customers.\n",
    "\n",
    "**H3.** Customers who don't have vehicle insurance are more likely to obtain vehicle insurance.\n",
    "\n",
    "**H4.** Customers who have a driving license are more likely to obtain vehicle insurance.\n",
    "\n",
    "**H5.** Customers with newer vehicles are more likely to obtain vehicle insurance.\n",
    "\n",
    "**H6.** Customers who got his/her vehicle damaged in the past are more likely to obtain vehicle insurance.\n",
    "\n",
    "**H7.** Customers who have been associated with the company for a long time are more likely to obtain vehicle insurance.\n",
    "\n",
    "**H8.** Customers who have a higher annual premium are more likely to obtain vehicle insurance."
   ]
  },
  {
   "cell_type": "markdown",
   "id": "23fc6ccb",
   "metadata": {},
   "source": [
    "## 3.4. Creating New Features"
   ]
  },
  {
   "cell_type": "code",
   "execution_count": 6,
   "id": "8deadc4d",
   "metadata": {
    "ExecuteTime": {
     "end_time": "2022-03-15T22:13:13.044124Z",
     "start_time": "2022-03-15T22:13:13.025120Z"
    }
   },
   "outputs": [],
   "source": [
    "df3 = df2.copy()"
   ]
  },
  {
   "cell_type": "code",
   "execution_count": 7,
   "id": "3785cb4a",
   "metadata": {
    "ExecuteTime": {
     "end_time": "2022-03-15T22:13:15.824818Z",
     "start_time": "2022-03-15T22:13:15.631012Z"
    }
   },
   "outputs": [
    {
     "data": {
      "text/html": [
       "<div>\n",
       "<style scoped>\n",
       "    .dataframe tbody tr th:only-of-type {\n",
       "        vertical-align: middle;\n",
       "    }\n",
       "\n",
       "    .dataframe tbody tr th {\n",
       "        vertical-align: top;\n",
       "    }\n",
       "\n",
       "    .dataframe thead th {\n",
       "        text-align: right;\n",
       "    }\n",
       "</style>\n",
       "<table border=\"1\" class=\"dataframe\">\n",
       "  <thead>\n",
       "    <tr style=\"text-align: right;\">\n",
       "      <th></th>\n",
       "      <th>id</th>\n",
       "      <th>gender</th>\n",
       "      <th>age</th>\n",
       "      <th>region_code</th>\n",
       "      <th>policy_sales_channel</th>\n",
       "      <th>driving_license</th>\n",
       "      <th>vehicle_age</th>\n",
       "      <th>vehicle_damage</th>\n",
       "      <th>previously_insured</th>\n",
       "      <th>annual_premium</th>\n",
       "      <th>vintage</th>\n",
       "      <th>response</th>\n",
       "    </tr>\n",
       "  </thead>\n",
       "  <tbody>\n",
       "    <tr>\n",
       "      <th>0</th>\n",
       "      <td>7</td>\n",
       "      <td>Male</td>\n",
       "      <td>23</td>\n",
       "      <td>11.0</td>\n",
       "      <td>152.0</td>\n",
       "      <td>1</td>\n",
       "      <td>below_1_year</td>\n",
       "      <td>1</td>\n",
       "      <td>0</td>\n",
       "      <td>23367.0</td>\n",
       "      <td>249</td>\n",
       "      <td>0</td>\n",
       "    </tr>\n",
       "    <tr>\n",
       "      <th>1</th>\n",
       "      <td>13</td>\n",
       "      <td>Female</td>\n",
       "      <td>41</td>\n",
       "      <td>15.0</td>\n",
       "      <td>14.0</td>\n",
       "      <td>1</td>\n",
       "      <td>between_1_2_years</td>\n",
       "      <td>0</td>\n",
       "      <td>1</td>\n",
       "      <td>31409.0</td>\n",
       "      <td>221</td>\n",
       "      <td>0</td>\n",
       "    </tr>\n",
       "    <tr>\n",
       "      <th>2</th>\n",
       "      <td>18</td>\n",
       "      <td>Female</td>\n",
       "      <td>25</td>\n",
       "      <td>35.0</td>\n",
       "      <td>152.0</td>\n",
       "      <td>1</td>\n",
       "      <td>below_1_year</td>\n",
       "      <td>0</td>\n",
       "      <td>1</td>\n",
       "      <td>46622.0</td>\n",
       "      <td>299</td>\n",
       "      <td>0</td>\n",
       "    </tr>\n",
       "    <tr>\n",
       "      <th>3</th>\n",
       "      <td>31</td>\n",
       "      <td>Female</td>\n",
       "      <td>26</td>\n",
       "      <td>8.0</td>\n",
       "      <td>160.0</td>\n",
       "      <td>1</td>\n",
       "      <td>below_1_year</td>\n",
       "      <td>0</td>\n",
       "      <td>0</td>\n",
       "      <td>2630.0</td>\n",
       "      <td>136</td>\n",
       "      <td>0</td>\n",
       "    </tr>\n",
       "    <tr>\n",
       "      <th>4</th>\n",
       "      <td>39</td>\n",
       "      <td>Male</td>\n",
       "      <td>45</td>\n",
       "      <td>8.0</td>\n",
       "      <td>124.0</td>\n",
       "      <td>1</td>\n",
       "      <td>between_1_2_years</td>\n",
       "      <td>1</td>\n",
       "      <td>0</td>\n",
       "      <td>42297.0</td>\n",
       "      <td>264</td>\n",
       "      <td>0</td>\n",
       "    </tr>\n",
       "  </tbody>\n",
       "</table>\n",
       "</div>"
      ],
      "text/plain": [
       "   id  gender  age  region_code  policy_sales_channel  driving_license        vehicle_age  vehicle_damage  previously_insured  annual_premium  vintage  response\n",
       "0   7    Male   23         11.0                 152.0                1       below_1_year               1                   0         23367.0      249         0\n",
       "1  13  Female   41         15.0                  14.0                1  between_1_2_years               0                   1         31409.0      221         0\n",
       "2  18  Female   25         35.0                 152.0                1       below_1_year               0                   1         46622.0      299         0\n",
       "3  31  Female   26          8.0                 160.0                1       below_1_year               0                   0          2630.0      136         0\n",
       "4  39    Male   45          8.0                 124.0                1  between_1_2_years               1                   0         42297.0      264         0"
      ]
     },
     "execution_count": 7,
     "metadata": {},
     "output_type": "execute_result"
    }
   ],
   "source": [
    "# vehicle age\n",
    "df3['vehicle_age'] = df3['vehicle_age'].apply( lambda x: 'over_2_years'      if x == '> 2 Years' else\n",
    "                                                         'between_1_2_years' if x == '1-2 Year' else \n",
    "                                                         'below_1_year' )\n",
    "\n",
    "# vehicle damage\n",
    "df3['vehicle_damage'] = df3['vehicle_damage'].apply(lambda x: 1 if x == 'Yes' else 0)\n",
    "\n",
    "\n",
    "# check\n",
    "df3.head()"
   ]
  },
  {
   "cell_type": "markdown",
   "id": "514c5c68",
   "metadata": {
    "heading_collapsed": true
   },
   "source": [
    "# 4. Data Filtering"
   ]
  },
  {
   "cell_type": "code",
   "execution_count": 8,
   "id": "417b42ad",
   "metadata": {
    "ExecuteTime": {
     "end_time": "2022-03-15T22:13:19.849015Z",
     "start_time": "2022-03-15T22:13:19.820010Z"
    },
    "hidden": true
   },
   "outputs": [],
   "source": [
    "df4 = df3.copy()"
   ]
  },
  {
   "cell_type": "markdown",
   "id": "1f65e7b8",
   "metadata": {
    "heading_collapsed": true
   },
   "source": [
    "# 5. EDA"
   ]
  },
  {
   "cell_type": "code",
   "execution_count": 9,
   "id": "af159c37",
   "metadata": {
    "ExecuteTime": {
     "end_time": "2022-03-15T22:13:23.164008Z",
     "start_time": "2022-03-15T22:13:23.151005Z"
    },
    "hidden": true
   },
   "outputs": [],
   "source": [
    "df5 = df4.copy()"
   ]
  },
  {
   "cell_type": "markdown",
   "id": "e8743817",
   "metadata": {
    "heading_collapsed": true,
    "hidden": true
   },
   "source": [
    "## 5.1. Univariate Analysis"
   ]
  },
  {
   "cell_type": "markdown",
   "id": "ce129203",
   "metadata": {
    "ExecuteTime": {
     "end_time": "2022-02-16T23:17:33.942364Z",
     "start_time": "2022-02-16T23:17:33.934370Z"
    },
    "heading_collapsed": true,
    "hidden": true
   },
   "source": [
    "### 5.1.1. Age"
   ]
  },
  {
   "cell_type": "code",
   "execution_count": 33,
   "id": "5c059c4a",
   "metadata": {
    "ExecuteTime": {
     "end_time": "2022-03-15T00:17:40.927065Z",
     "start_time": "2022-03-15T00:17:40.801036Z"
    },
    "hidden": true
   },
   "outputs": [
    {
     "data": {
      "image/png": "[encoded data removed]",
      "text/plain": [
       "<Figure size 1440x576 with 1 Axes>"
      ]
     },
     "metadata": {},
     "output_type": "display_data"
    }
   ],
   "source": [
    "sns.boxplot( x='response', y='age', data=df5  );"
   ]
  },
  {
   "cell_type": "code",
   "execution_count": 34,
   "id": "76eb1315",
   "metadata": {
    "ExecuteTime": {
     "end_time": "2022-03-15T00:17:41.498193Z",
     "start_time": "2022-03-15T00:17:40.928064Z"
    },
    "hidden": true
   },
   "outputs": [
    {
     "data": {
      "image/png": "[encoded data removed]",
      "text/plain": [
       "<Figure size 1440x576 with 2 Axes>"
      ]
     },
     "metadata": {},
     "output_type": "display_data"
    }
   ],
   "source": [
    "fig, axes = plt.subplots(1,2)\n",
    "\n",
    "sns.histplot( df5[ df5['response'] == 0 ]['age'], ax=axes[0] )\n",
    "sns.histplot( df5[ df5['response'] == 1 ]['age'], ax=axes[1] );"
   ]
  },
  {
   "cell_type": "markdown",
   "id": "148af3ff",
   "metadata": {
    "hidden": true
   },
   "source": [
    "* We can see by the distribution that younger people are less interested about the insurance than older people.\n",
    "    * But we have much more cases of people who are not interested as we can see by comparing the y-axis magnitude."
   ]
  },
  {
   "cell_type": "markdown",
   "id": "985668e1",
   "metadata": {
    "heading_collapsed": true,
    "hidden": true
   },
   "source": [
    "### 5.1.2. Annual Premium"
   ]
  },
  {
   "cell_type": "code",
   "execution_count": 35,
   "id": "03748388",
   "metadata": {
    "ExecuteTime": {
     "end_time": "2022-03-15T00:17:41.703852Z",
     "start_time": "2022-03-15T00:17:41.499193Z"
    },
    "hidden": true
   },
   "outputs": [
    {
     "data": {
      "image/png": "[encoded data removed]",
      "text/plain": [
       "<Figure size 1440x576 with 1 Axes>"
      ]
     },
     "metadata": {},
     "output_type": "display_data"
    }
   ],
   "source": [
    "sns.boxplot( x='response', y='annual_premium', data=df5 );"
   ]
  },
  {
   "cell_type": "markdown",
   "id": "61a69fa3",
   "metadata": {
    "hidden": true
   },
   "source": [
    "* There is a lot of outliers, so it's hard to analyze the distribution"
   ]
  },
  {
   "cell_type": "code",
   "execution_count": 36,
   "id": "4f9fbe75",
   "metadata": {
    "ExecuteTime": {
     "end_time": "2022-03-15T00:17:43.037815Z",
     "start_time": "2022-03-15T00:17:41.704851Z"
    },
    "hidden": true
   },
   "outputs": [
    {
     "data": {
      "image/png": "[encoded data removed]",
      "text/plain": [
       "<Figure size 1440x576 with 1 Axes>"
      ]
     },
     "metadata": {},
     "output_type": "display_data"
    }
   ],
   "source": [
    "df_aux = df5[ df5['annual_premium'] < 80000 ]\n",
    "sns.boxplot( x='response', y='annual_premium', data=df_aux );"
   ]
  },
  {
   "cell_type": "code",
   "execution_count": 37,
   "id": "b88fd211",
   "metadata": {
    "ExecuteTime": {
     "end_time": "2022-03-15T00:17:43.701964Z",
     "start_time": "2022-03-15T00:17:43.038815Z"
    },
    "hidden": true
   },
   "outputs": [
    {
     "data": {
      "image/png": "[encoded data removed]",
      "text/plain": [
       "<Figure size 1440x576 with 2 Axes>"
      ]
     },
     "metadata": {},
     "output_type": "display_data"
    }
   ],
   "source": [
    "fig, axes = plt.subplots(1,2)\n",
    "\n",
    "sns.histplot( df5[ (df5['annual_premium'] > 10000) & (df5['annual_premium'] < 80000) & (df5['response'] == 0) ]['annual_premium'] , ax=axes[0])\n",
    "sns.histplot( df5[ (df5['annual_premium'] > 10000) & (df5['annual_premium'] < 80000) & (df5['response'] == 1) ]['annual_premium'] , ax=axes[1]);"
   ]
  },
  {
   "cell_type": "markdown",
   "id": "8fc5d673",
   "metadata": {
    "hidden": true
   },
   "source": [
    "* We can see that the distribution for each response is very similar. This feature alone probably doesn't help the prediction."
   ]
  },
  {
   "cell_type": "markdown",
   "id": "f77d333c",
   "metadata": {
    "heading_collapsed": true,
    "hidden": true
   },
   "source": [
    "### 5.1.3. Driving License"
   ]
  },
  {
   "cell_type": "code",
   "execution_count": 38,
   "id": "b79df4cf",
   "metadata": {
    "ExecuteTime": {
     "end_time": "2022-03-15T00:17:43.859821Z",
     "start_time": "2022-03-15T00:17:43.702964Z"
    },
    "hidden": true
   },
   "outputs": [
    {
     "data": {
      "image/png": "[encoded data removed]",
      "text/plain": [
       "<Figure size 1440x576 with 1 Axes>"
      ]
     },
     "metadata": {},
     "output_type": "display_data"
    }
   ],
   "source": [
    "sns.countplot( x='response', hue='driving_license',  data=df5);"
   ]
  },
  {
   "cell_type": "markdown",
   "id": "c23abec8",
   "metadata": {
    "hidden": true
   },
   "source": [
    "* We can see a huge difference in magnitude for people who has a driving license, but I think that we will need to analyse it with another feature, such as age."
   ]
  },
  {
   "cell_type": "markdown",
   "id": "de1bd70f",
   "metadata": {
    "heading_collapsed": true,
    "hidden": true
   },
   "source": [
    "### 5.1.4. Region Code"
   ]
  },
  {
   "cell_type": "code",
   "execution_count": 39,
   "id": "671380af",
   "metadata": {
    "ExecuteTime": {
     "end_time": "2022-03-15T00:17:44.048872Z",
     "start_time": "2022-03-15T00:17:43.860824Z"
    },
    "hidden": true
   },
   "outputs": [
    {
     "data": {
      "image/png": "[encoded data removed]",
      "text/plain": [
       "<Figure size 1440x576 with 1 Axes>"
      ]
     },
     "metadata": {},
     "output_type": "display_data"
    }
   ],
   "source": [
    "df_aux = df5[ ['id', 'region_code', 'response'] ].groupby( ['region_code', 'response'] ).count().reset_index()\n",
    "sns.scatterplot( x='region_code', y='id', hue='response', data=df_aux );"
   ]
  },
  {
   "cell_type": "markdown",
   "id": "0c088a71",
   "metadata": {
    "hidden": true
   },
   "source": [
    "* We can see there is no clear separation between interested and not interested people per region code, so this feature alone is not helpful."
   ]
  },
  {
   "cell_type": "markdown",
   "id": "9ebe25a8",
   "metadata": {
    "heading_collapsed": true,
    "hidden": true
   },
   "source": [
    "### 5.1.5. Previously Insured"
   ]
  },
  {
   "cell_type": "code",
   "execution_count": 40,
   "id": "cd7609e4",
   "metadata": {
    "ExecuteTime": {
     "end_time": "2022-03-15T00:17:44.096883Z",
     "start_time": "2022-03-15T00:17:44.049873Z"
    },
    "hidden": true
   },
   "outputs": [
    {
     "data": {
      "text/html": [
       "<div>\n",
       "<style scoped>\n",
       "    .dataframe tbody tr th:only-of-type {\n",
       "        vertical-align: middle;\n",
       "    }\n",
       "\n",
       "    .dataframe tbody tr th {\n",
       "        vertical-align: top;\n",
       "    }\n",
       "\n",
       "    .dataframe thead th {\n",
       "        text-align: right;\n",
       "    }\n",
       "</style>\n",
       "<table border=\"1\" class=\"dataframe\">\n",
       "  <thead>\n",
       "    <tr style=\"text-align: right;\">\n",
       "      <th>response</th>\n",
       "      <th>0</th>\n",
       "      <th>1</th>\n",
       "    </tr>\n",
       "    <tr>\n",
       "      <th>previously_insured</th>\n",
       "      <th></th>\n",
       "      <th></th>\n",
       "    </tr>\n",
       "  </thead>\n",
       "  <tbody>\n",
       "    <tr>\n",
       "      <th>0</th>\n",
       "      <td>0.774546</td>\n",
       "      <td>0.225454</td>\n",
       "    </tr>\n",
       "    <tr>\n",
       "      <th>1</th>\n",
       "      <td>0.999095</td>\n",
       "      <td>0.000905</td>\n",
       "    </tr>\n",
       "  </tbody>\n",
       "</table>\n",
       "</div>"
      ],
      "text/plain": [
       "response                   0         1\n",
       "previously_insured                    \n",
       "0                   0.774546  0.225454\n",
       "1                   0.999095  0.000905"
      ]
     },
     "execution_count": 40,
     "metadata": {},
     "output_type": "execute_result"
    }
   ],
   "source": [
    "pd.crosstab( df5['previously_insured'], df5['response'] ).apply( lambda x: x / x.sum(), axis=1 )"
   ]
  },
  {
   "cell_type": "markdown",
   "id": "dd2c81d3",
   "metadata": {
    "hidden": true
   },
   "source": [
    "* Almost everyone that already has a vehicle insurance doesn't want to get a new one."
   ]
  },
  {
   "cell_type": "markdown",
   "id": "50f0e789",
   "metadata": {
    "heading_collapsed": true,
    "hidden": true
   },
   "source": [
    "### 5.1.6. Vehicle Age"
   ]
  },
  {
   "cell_type": "code",
   "execution_count": 41,
   "id": "c636ad4b",
   "metadata": {
    "ExecuteTime": {
     "end_time": "2022-03-15T00:17:44.158859Z",
     "start_time": "2022-03-15T00:17:44.097886Z"
    },
    "hidden": true
   },
   "outputs": [
    {
     "data": {
      "text/html": [
       "<div>\n",
       "<style scoped>\n",
       "    .dataframe tbody tr th:only-of-type {\n",
       "        vertical-align: middle;\n",
       "    }\n",
       "\n",
       "    .dataframe tbody tr th {\n",
       "        vertical-align: top;\n",
       "    }\n",
       "\n",
       "    .dataframe thead th {\n",
       "        text-align: right;\n",
       "    }\n",
       "</style>\n",
       "<table border=\"1\" class=\"dataframe\">\n",
       "  <thead>\n",
       "    <tr style=\"text-align: right;\">\n",
       "      <th></th>\n",
       "      <th>vehicle_age</th>\n",
       "      <th>response</th>\n",
       "      <th>0</th>\n",
       "    </tr>\n",
       "  </thead>\n",
       "  <tbody>\n",
       "    <tr>\n",
       "      <th>1</th>\n",
       "      <td>below_1_year</td>\n",
       "      <td>0</td>\n",
       "      <td>0.413488</td>\n",
       "    </tr>\n",
       "    <tr>\n",
       "      <th>4</th>\n",
       "      <td>below_1_year</td>\n",
       "      <td>1</td>\n",
       "      <td>0.018897</td>\n",
       "    </tr>\n",
       "    <tr>\n",
       "      <th>0</th>\n",
       "      <td>between_1_2_years</td>\n",
       "      <td>0</td>\n",
       "      <td>0.434285</td>\n",
       "    </tr>\n",
       "    <tr>\n",
       "      <th>2</th>\n",
       "      <td>between_1_2_years</td>\n",
       "      <td>1</td>\n",
       "      <td>0.091328</td>\n",
       "    </tr>\n",
       "    <tr>\n",
       "      <th>3</th>\n",
       "      <td>over_2_years</td>\n",
       "      <td>0</td>\n",
       "      <td>0.029663</td>\n",
       "    </tr>\n",
       "    <tr>\n",
       "      <th>5</th>\n",
       "      <td>over_2_years</td>\n",
       "      <td>1</td>\n",
       "      <td>0.012338</td>\n",
       "    </tr>\n",
       "  </tbody>\n",
       "</table>\n",
       "</div>"
      ],
      "text/plain": [
       "         vehicle_age  response         0\n",
       "1       below_1_year         0  0.413488\n",
       "4       below_1_year         1  0.018897\n",
       "0  between_1_2_years         0  0.434285\n",
       "2  between_1_2_years         1  0.091328\n",
       "3       over_2_years         0  0.029663\n",
       "5       over_2_years         1  0.012338"
      ]
     },
     "execution_count": 41,
     "metadata": {},
     "output_type": "execute_result"
    }
   ],
   "source": [
    "df5[ ['vehicle_age', 'response'] ].value_counts( normalize=True ).reset_index().sort_values(by=['vehicle_age'])"
   ]
  },
  {
   "cell_type": "markdown",
   "id": "867cff2e",
   "metadata": {
    "hidden": true
   },
   "source": [
    "* For cars that has below 2 years there is a clear separation.\n",
    " * But over 2 years the percentage is very close, wich can be a problem for the model."
   ]
  },
  {
   "cell_type": "markdown",
   "id": "5f15ba01",
   "metadata": {
    "heading_collapsed": true,
    "hidden": true
   },
   "source": [
    "### 5.1.7. Policy Sales Channel"
   ]
  },
  {
   "cell_type": "code",
   "execution_count": 42,
   "id": "358a8c56",
   "metadata": {
    "ExecuteTime": {
     "end_time": "2022-03-15T00:17:47.461601Z",
     "start_time": "2022-03-15T00:17:44.159860Z"
    },
    "hidden": true
   },
   "outputs": [
    {
     "data": {
      "image/png": "[encoded data removed]",
      "text/plain": [
       "<Figure size 1440x576 with 1 Axes>"
      ]
     },
     "metadata": {},
     "output_type": "display_data"
    }
   ],
   "source": [
    "df_total = df5[ ['policy_sales_channel', 'response'] ].groupby( 'policy_sales_channel' ).count().reset_index()\n",
    "df_resp1 = df5[ ['policy_sales_channel', 'response'] ].groupby( 'policy_sales_channel' ).sum().reset_index()\n",
    "\n",
    "df_resp1['response'] = [i / j * 100 for i,j in zip(df_resp1['response'], df_total['response'])]\n",
    "df_total['response'] = 100\n",
    "\n",
    "bar1 = sns.barplot(x=\"policy_sales_channel\",  y=\"response\", data=df_total, color='darkblue')\n",
    "bar2 = sns.barplot(x=\"policy_sales_channel\", y=\"response\", data=df_resp1, color='lightblue')\n",
    "\n",
    "top_bar = mpatches.Patch(color='darkblue', label='response = 0')\n",
    "bottom_bar = mpatches.Patch(color='lightblue', label='response = 1')\n",
    "plt.legend(handles=[top_bar, bottom_bar]);"
   ]
  },
  {
   "cell_type": "markdown",
   "id": "80f2264e",
   "metadata": {
    "hidden": true
   },
   "source": [
    "* We can see that for most of the policy sales channel there is a clear difference between the percentages for each response, wich could indicate a good discriminatory feature."
   ]
  },
  {
   "cell_type": "markdown",
   "id": "3b4d7efc",
   "metadata": {
    "heading_collapsed": true,
    "hidden": true
   },
   "source": [
    "### 5.1.8. Vintage"
   ]
  },
  {
   "cell_type": "code",
   "execution_count": 43,
   "id": "08113a9f",
   "metadata": {
    "ExecuteTime": {
     "end_time": "2022-03-15T00:17:47.587630Z",
     "start_time": "2022-03-15T00:17:47.462601Z"
    },
    "hidden": true
   },
   "outputs": [
    {
     "data": {
      "image/png": "[encoded data removed]",
      "text/plain": [
       "<Figure size 1440x576 with 1 Axes>"
      ]
     },
     "metadata": {},
     "output_type": "display_data"
    }
   ],
   "source": [
    "sns.boxplot( x='response', y='vintage', data=df5  );"
   ]
  },
  {
   "cell_type": "code",
   "execution_count": 44,
   "id": "d171d4d1",
   "metadata": {
    "ExecuteTime": {
     "end_time": "2022-03-15T00:17:48.115534Z",
     "start_time": "2022-03-15T00:17:47.588629Z"
    },
    "hidden": true
   },
   "outputs": [
    {
     "data": {
      "image/png": "[encoded data removed]",
      "text/plain": [
       "<Figure size 1440x576 with 2 Axes>"
      ]
     },
     "metadata": {},
     "output_type": "display_data"
    }
   ],
   "source": [
    "fig, axes = plt.subplots(1,2)\n",
    "\n",
    "sns.histplot( df5[ df5['response'] == 0 ]['vintage'], ax=axes[0] )\n",
    "sns.histplot( df5[ df5['response'] == 1 ]['vintage'], ax=axes[1] );"
   ]
  },
  {
   "cell_type": "markdown",
   "id": "f560290c",
   "metadata": {
    "hidden": true
   },
   "source": [
    "## 5.2. Bivariate Analysis"
   ]
  },
  {
   "cell_type": "markdown",
   "id": "e59527b3",
   "metadata": {
    "heading_collapsed": true,
    "hidden": true
   },
   "source": [
    "### H1. Younger and eldest customers are more likely to obtain vehicle insurance.\n",
    "* **FALSE** - Younger and eldest customers are **less** likely to obtain vehicle insurance."
   ]
  },
  {
   "cell_type": "code",
   "execution_count": 45,
   "id": "55b35812",
   "metadata": {
    "ExecuteTime": {
     "end_time": "2022-03-15T00:17:49.079751Z",
     "start_time": "2022-03-15T00:17:48.116534Z"
    },
    "hidden": true
   },
   "outputs": [
    {
     "data": {
      "image/png": "[encoded data removed]",
      "text/plain": [
       "<Figure size 1440x576 with 1 Axes>"
      ]
     },
     "metadata": {},
     "output_type": "display_data"
    }
   ],
   "source": [
    "df_aux = df5[['age', 'response']].groupby( 'age' ).mean().reset_index()\n",
    "df_aux['response'] = df_aux['response'] * 100\n",
    "df_aux = df_aux.rename( columns={'response':'% of interested customers'} )\n",
    "sns.barplot( x='age', y='% of interested customers', data=df_aux );"
   ]
  },
  {
   "cell_type": "markdown",
   "id": "b2d5edf2",
   "metadata": {
    "ExecuteTime": {
     "end_time": "2022-03-14T00:43:31.416759Z",
     "start_time": "2022-03-14T00:43:31.404854Z"
    },
    "heading_collapsed": true,
    "hidden": true
   },
   "source": [
    "### H2. Female customers are more likely to obtain vehicle insurance than male customers.\n",
    "* **FALSE** - Female customers are **less** likely to obtain vehicle insurance than male customers."
   ]
  },
  {
   "cell_type": "code",
   "execution_count": 46,
   "id": "b4446263",
   "metadata": {
    "ExecuteTime": {
     "end_time": "2022-03-15T00:17:49.461836Z",
     "start_time": "2022-03-15T00:17:49.080751Z"
    },
    "hidden": true
   },
   "outputs": [
    {
     "data": {
      "image/png": "[encoded data removed]",
      "text/plain": [
       "<Figure size 1440x576 with 2 Axes>"
      ]
     },
     "metadata": {},
     "output_type": "display_data"
    }
   ],
   "source": [
    "plt.subplot(1,2,1)\n",
    "sns.countplot( x='gender', hue='response', data=df5 )\n",
    "\n",
    "plt.subplot(1,2,2)\n",
    "df_aux = df5[['gender','response']].groupby( 'gender' ).mean().reset_index()\n",
    "df_aux['response'] = df_aux['response'] * 100\n",
    "df_aux = df_aux.rename( columns={\"response\":'% of interested customers'} )\n",
    "sns.barplot( x='gender', y='% of interested customers', data=df_aux );"
   ]
  },
  {
   "cell_type": "markdown",
   "id": "c7bcad73",
   "metadata": {
    "heading_collapsed": true,
    "hidden": true
   },
   "source": [
    "### H3. Customers who don't have vehicle insurance are more likely to obtain vehicle insurance.\n",
    "* **TRUE** - Customers who don't have vehicle insurance are **more** likely to obtain vehicle insurance.\n",
    "    * But among those who don't have vehicle insurance, the customers that want it are a minority. "
   ]
  },
  {
   "cell_type": "code",
   "execution_count": 47,
   "id": "a0c1f6b5",
   "metadata": {
    "ExecuteTime": {
     "end_time": "2022-03-15T00:17:49.619872Z",
     "start_time": "2022-03-15T00:17:49.462837Z"
    },
    "hidden": true
   },
   "outputs": [
    {
     "data": {
      "image/png": "[encoded data removed]",
      "text/plain": [
       "<Figure size 1440x576 with 1 Axes>"
      ]
     },
     "metadata": {},
     "output_type": "display_data"
    }
   ],
   "source": [
    "sns.countplot( x='previously_insured', hue='response', data=df5 );"
   ]
  },
  {
   "cell_type": "markdown",
   "id": "edcabf15",
   "metadata": {
    "heading_collapsed": true,
    "hidden": true
   },
   "source": [
    "###  H4. Customers who have a driving license are more likely to obtain vehicle insurance.\n",
    "* **TRUE** -  Customers who have a driving license are **more** likely to obtain vehicle insurance.\n",
    "    - But among those who have a driving license, the customers that want it are a minority. "
   ]
  },
  {
   "cell_type": "code",
   "execution_count": 48,
   "id": "71e77694",
   "metadata": {
    "ExecuteTime": {
     "end_time": "2022-03-15T00:17:49.779907Z",
     "start_time": "2022-03-15T00:17:49.620873Z"
    },
    "hidden": true
   },
   "outputs": [
    {
     "data": {
      "image/png": "[encoded data removed]",
      "text/plain": [
       "<Figure size 1440x576 with 1 Axes>"
      ]
     },
     "metadata": {},
     "output_type": "display_data"
    }
   ],
   "source": [
    "sns.countplot( x='driving_license', hue='response', data=df5 );"
   ]
  },
  {
   "cell_type": "markdown",
   "id": "654293aa",
   "metadata": {
    "heading_collapsed": true,
    "hidden": true
   },
   "source": [
    "### H5. Customers with newer vehicles are more likely to obtain vehicle insurance.\n",
    "* **FALSE** - Customers with newer vehicles are **less** likely to obtain vehicle insurance."
   ]
  },
  {
   "cell_type": "code",
   "execution_count": 49,
   "id": "46a6b751",
   "metadata": {
    "ExecuteTime": {
     "end_time": "2022-03-15T00:17:50.095980Z",
     "start_time": "2022-03-15T00:17:49.780909Z"
    },
    "hidden": true
   },
   "outputs": [
    {
     "data": {
      "image/png": "[encoded data removed]",
      "text/plain": [
       "<Figure size 1440x576 with 1 Axes>"
      ]
     },
     "metadata": {},
     "output_type": "display_data"
    }
   ],
   "source": [
    "sns.countplot( x='vehicle_age', hue='response', data=df5 );"
   ]
  },
  {
   "cell_type": "markdown",
   "id": "1b468a24",
   "metadata": {
    "heading_collapsed": true,
    "hidden": true
   },
   "source": [
    "### H6. Customers who got his/her vehicle damaged in the past are more likely to obtain vehicle insurance.\n",
    "* **TRUE** -  Customers who got his/her vehicle damaged in the past are **more** likely to obtain vehicle insurance."
   ]
  },
  {
   "cell_type": "code",
   "execution_count": 50,
   "id": "8343dc6c",
   "metadata": {
    "ExecuteTime": {
     "end_time": "2022-03-15T00:17:50.256015Z",
     "start_time": "2022-03-15T00:17:50.096979Z"
    },
    "hidden": true
   },
   "outputs": [
    {
     "data": {
      "image/png": "[encoded data removed]",
      "text/plain": [
       "<Figure size 1440x576 with 1 Axes>"
      ]
     },
     "metadata": {},
     "output_type": "display_data"
    }
   ],
   "source": [
    "sns.countplot( x='vehicle_damage', hue='response', data=df5 );"
   ]
  },
  {
   "cell_type": "markdown",
   "id": "e6212dea",
   "metadata": {
    "heading_collapsed": true,
    "hidden": true
   },
   "source": [
    "### H7. Customers who have been associated with the company for a long time are more likely to obtain vehicle insurance.\n",
    "* **FALSE** - There is **no significant** difference between customers based on their association time."
   ]
  },
  {
   "cell_type": "code",
   "execution_count": 51,
   "id": "74553c66",
   "metadata": {
    "ExecuteTime": {
     "end_time": "2022-03-15T00:17:54.076877Z",
     "start_time": "2022-03-15T00:17:50.257015Z"
    },
    "hidden": true
   },
   "outputs": [
    {
     "data": {
      "image/png": "[encoded data removed]",
      "text/plain": [
       "<Figure size 1440x576 with 1 Axes>"
      ]
     },
     "metadata": {},
     "output_type": "display_data"
    }
   ],
   "source": [
    "df_aux = df5[['vintage', 'response']].groupby( 'vintage' ).mean().reset_index()\n",
    "df_aux['response'] = df_aux['response'] * 100\n",
    "df_aux = df_aux.rename( columns={'response':'% of interested customers'} )\n",
    "sns.barplot( x='vintage', y='% of interested customers', data=df_aux )\n",
    "plt.xticks(rotation=90);"
   ]
  },
  {
   "cell_type": "markdown",
   "id": "6920e189",
   "metadata": {
    "hidden": true
   },
   "source": [
    "### H8. Customers who have a higher annual premium are more likely to obtain vehicle insurance.\n",
    "* **FALSE** - There is **no direct correlation** between a high annual premium and the interest in vehicle insurance."
   ]
  },
  {
   "cell_type": "code",
   "execution_count": 52,
   "id": "9299a41f",
   "metadata": {
    "ExecuteTime": {
     "end_time": "2022-03-15T00:17:56.453410Z",
     "start_time": "2022-03-15T00:17:54.077877Z"
    },
    "hidden": true
   },
   "outputs": [
    {
     "data": {
      "image/png": "[encoded data removed]",
      "text/plain": [
       "<Figure size 1440x576 with 1 Axes>"
      ]
     },
     "metadata": {},
     "output_type": "display_data"
    }
   ],
   "source": [
    "df_aux = df5[['annual_premium', 'response']].copy()\n",
    "\n",
    "bins = list(np.arange(2500, 550000,5000))\n",
    "df_aux['annual_premium_binned'] = pd.cut(df_aux['annual_premium'], bins = bins)\n",
    "df_aux1 = df_aux[['annual_premium_binned','response']].groupby('annual_premium_binned').mean().reset_index()\n",
    "df_aux1['response'] = df_aux1['response'] * 100\n",
    "df_aux1 = df_aux1.rename( columns={'response':'% of interested customers'} )\n",
    "\n",
    "sns.barplot(x = 'annual_premium_binned', y = '% of interested customers', data = df_aux1)\n",
    "plt.xticks(rotation = 90);"
   ]
  },
  {
   "cell_type": "markdown",
   "id": "e50f80e2",
   "metadata": {},
   "source": [
    "# 6. Data Preparation"
   ]
  },
  {
   "cell_type": "code",
   "execution_count": 142,
   "id": "9563bbf0",
   "metadata": {
    "ExecuteTime": {
     "end_time": "2022-03-16T01:04:44.252020Z",
     "start_time": "2022-03-16T01:04:44.024840Z"
    }
   },
   "outputs": [],
   "source": [
    "X = df5.drop( 'response', axis=1 )\n",
    "Y = df5['response'].copy()\n",
    "\n",
    "x_train, x_validation, y_train, y_validation = train_test_split( X, Y, test_size=0.2 )\n",
    "\n",
    "df6 = pd.concat( [x_train, y_train], axis=1 )\n",
    "\n",
    "# save to use it later\n",
    "x_vald = x_validation.copy()\n",
    "y_vald = y_validation.copy()"
   ]
  },
  {
   "cell_type": "markdown",
   "id": "8ec62a65",
   "metadata": {},
   "source": [
    "## 6.1. Standardization"
   ]
  },
  {
   "cell_type": "code",
   "execution_count": 11,
   "id": "7833b33d",
   "metadata": {
    "ExecuteTime": {
     "end_time": "2022-03-15T22:13:34.413176Z",
     "start_time": "2022-03-15T22:13:34.384170Z"
    }
   },
   "outputs": [],
   "source": [
    "ss = StandardScaler()\n",
    "\n",
    "# annual_premium\n",
    "df6['annual_premium'] = ss.fit_transform( df6[['annual_premium']].values )\n",
    "pickle.dump( ss, open( 'features/annual_premium_scaler.pkl', 'wb' ) )"
   ]
  },
  {
   "cell_type": "markdown",
   "id": "7a9e052c",
   "metadata": {},
   "source": [
    "## 6.2. Rescaling"
   ]
  },
  {
   "cell_type": "code",
   "execution_count": 12,
   "id": "9d23b8e7",
   "metadata": {
    "ExecuteTime": {
     "end_time": "2022-03-15T22:13:35.037000Z",
     "start_time": "2022-03-15T22:13:35.012996Z"
    }
   },
   "outputs": [],
   "source": [
    "mms_age = MinMaxScaler()\n",
    "mms_vintage = MinMaxScaler()\n",
    "\n",
    "# age\n",
    "df6['age'] = mms_age.fit_transform( df6[['age']].values )\n",
    "pickle.dump( mms_age, open( 'features/age_scaler.pkl', 'wb' ) )\n",
    "\n",
    "# vintage\n",
    "df6['vintage'] = mms_vintage.fit_transform( df6[['vintage']].values )\n",
    "pickle.dump( mms_vintage, open( 'features/vintage_scaler.pkl', 'wb' ) )"
   ]
  },
  {
   "cell_type": "markdown",
   "id": "27c1b4d8",
   "metadata": {},
   "source": [
    "## 6.3. Encoding"
   ]
  },
  {
   "cell_type": "code",
   "execution_count": 13,
   "id": "ae5a739a",
   "metadata": {
    "ExecuteTime": {
     "end_time": "2022-03-15T22:13:35.739549Z",
     "start_time": "2022-03-15T22:13:35.609996Z"
    }
   },
   "outputs": [],
   "source": [
    "# gender - One Hot Enconding / Target Enconding\n",
    "target_encode_gender = df6.groupby( 'gender' )['response'].mean()\n",
    "df6['gender'] = df6['gender'].map( target_encode_gender )\n",
    "pickle.dump( target_encode_gender, open( 'features/target_encode_gender_scaler.pkl', 'wb' ) )\n",
    "\n",
    "# region code - Frequency Enconding / Target Enconding / Weighted Target Enconding\n",
    "target_encode_region_code = df6.groupby( 'region_code' )['response'].mean()\n",
    "df6['region_code'] = df6['region_code'].map( target_encode_region_code )\n",
    "pickle.dump( target_encode_region_code, open( 'features/target_encode_region_code_scaler.pkl', 'wb' ) )\n",
    "    \n",
    "# vehicle_age - One Hot Enconding / Order Enconding / Frequency Enconding\n",
    "df6 = pd.get_dummies( df6, prefix='vehicle_age', columns=['vehicle_age'] )\n",
    "\n",
    "# policy_sales_channel - Target Enconding / Frequency Enconding\n",
    "freq_policy_sales_channel = df6.groupby( 'policy_sales_channel' ).size() / len(df6)\n",
    "df6['policy_sales_channel'] = df6['policy_sales_channel'].map( freq_policy_sales_channel )\n",
    "pickle.dump( freq_policy_sales_channel, open( 'features/freq_policy_sales_channel_scaler.pkl', 'wb' ) )"
   ]
  },
  {
   "cell_type": "markdown",
   "id": "b50f881d",
   "metadata": {},
   "source": [
    "## 6.4. Validation Preparation"
   ]
  },
  {
   "cell_type": "code",
   "execution_count": 14,
   "id": "5a0b4780",
   "metadata": {
    "ExecuteTime": {
     "end_time": "2022-03-15T22:13:36.942438Z",
     "start_time": "2022-03-15T22:13:36.901096Z"
    }
   },
   "outputs": [],
   "source": [
    "# gender\n",
    "x_validation['gender'] = x_validation['gender'].map( target_encode_gender )\n",
    "\n",
    "# region_code\n",
    "x_validation['region_code'] = x_validation['region_code'].map( target_encode_region_code )\n",
    "\n",
    "# age\n",
    "x_validation['age'] = mms_age.transform( x_validation[['age']].values )\n",
    "\n",
    "# policy_sales_channel\n",
    "x_validation['policy_sales_channel'] = x_validation['policy_sales_channel'].map( freq_policy_sales_channel )\n",
    "\n",
    "# vehicle_age\n",
    "x_validation = pd.get_dummies( x_validation, prefix='vehicle_age', columns=['vehicle_age'] )\n",
    "\n",
    "# vintage\n",
    "x_validation['vintage'] = mms_vintage.fit_transform( x_validation[['vintage']].values )\n",
    "\n",
    "# annual_premium\n",
    "x_validation['annual_premium'] = ss.fit_transform( x_validation[['annual_premium']].values )\n",
    "\n",
    "# fillna\n",
    "x_validation = x_validation.fillna( 0 )"
   ]
  },
  {
   "cell_type": "markdown",
   "id": "429f1e47",
   "metadata": {},
   "source": [
    "# 7. Feature Selection"
   ]
  },
  {
   "cell_type": "markdown",
   "id": "c91d467b",
   "metadata": {
    "heading_collapsed": true
   },
   "source": [
    "## 7.1. Features Importance"
   ]
  },
  {
   "cell_type": "code",
   "execution_count": 58,
   "id": "1433f0e9",
   "metadata": {
    "ExecuteTime": {
     "end_time": "2022-03-15T00:23:00.442836Z",
     "start_time": "2022-03-15T00:22:44.379954Z"
    },
    "hidden": true
   },
   "outputs": [
    {
     "data": {
      "text/plain": [
       "ExtraTreesClassifier(n_estimators=250, n_jobs=-1, random_state=0)"
      ]
     },
     "execution_count": 58,
     "metadata": {},
     "output_type": "execute_result"
    }
   ],
   "source": [
    "# model definition\n",
    "forest = ExtraTreesClassifier( n_estimators=250, random_state=0, n_jobs=-1 )\n",
    "\n",
    "# data preparation\n",
    "x_train_n = df6.drop( ['id', 'response'], axis=1 )\n",
    "y_train_n = y_train.values\n",
    "forest.fit( x_train_n, y_train_n )"
   ]
  },
  {
   "cell_type": "code",
   "execution_count": 59,
   "id": "4c48bab0",
   "metadata": {
    "ExecuteTime": {
     "end_time": "2022-03-15T00:23:01.253588Z",
     "start_time": "2022-03-15T00:23:00.444837Z"
    },
    "hidden": true
   },
   "outputs": [
    {
     "name": "stdout",
     "output_type": "stream",
     "text": [
      "Feature Ranking:\n",
      "                         feature  importance\n",
      "0                        vintage    0.273095\n",
      "0                 annual_premium    0.244228\n",
      "0                            age    0.167747\n",
      "0                    region_code    0.104849\n",
      "0                 vehicle_damage    0.065971\n",
      "0           policy_sales_channel    0.058571\n",
      "0             previously_insured    0.057587\n",
      "0       vehicle_age_below_1_year    0.014208\n",
      "0  vehicle_age_between_1_2_years    0.005999\n",
      "0                         gender    0.004877\n",
      "0       vehicle_age_over_2_years    0.002378\n",
      "0                driving_license    0.000488\n"
     ]
    },
    {
     "data": {
      "image/png": "[encoded data removed]",
      "text/plain": [
       "<Figure size 1440x576 with 1 Axes>"
      ]
     },
     "metadata": {},
     "output_type": "display_data"
    }
   ],
   "source": [
    "importances = forest.feature_importances_\n",
    "std = np.std( [tree.feature_importances_ for tree in forest.estimators_], axis=0 )\n",
    "indices = np.argsort( importances )[::-1]\n",
    "\n",
    "# print the feature ranking\n",
    "df = pd.DataFrame()\n",
    "\n",
    "print( 'Feature Ranking:' )\n",
    "for i, j in zip( x_train_n, forest.feature_importances_ ):\n",
    "    df_aux = pd.DataFrame( {'feature':i, 'importance':j}, index=[0] )\n",
    "    df = pd.concat( [df, df_aux], axis=0 )\n",
    "    \n",
    "print( df.sort_values( 'importance', ascending=False ) )\n",
    "\n",
    "# plot the impurity-based feature importances of the forest\n",
    "plt.figure()\n",
    "plt.title('Feature Importance')\n",
    "plt.bar( range(x_train_n.shape[1]), importances[indices], color='r', yerr=std[indices], align='center' )\n",
    "plt.xticks( range(x_train_n.shape[1]), indices )\n",
    "plt.xlim( [-1, x_train_n.shape[1]] )\n",
    "plt.show()"
   ]
  },
  {
   "cell_type": "markdown",
   "id": "b712da45",
   "metadata": {
    "ExecuteTime": {
     "end_time": "2022-02-18T01:25:55.396398Z",
     "start_time": "2022-02-18T01:25:55.381395Z"
    },
    "hidden": true
   },
   "source": [
    "* It will be selected the seven most important feature, because they have a importance over 5\\%."
   ]
  },
  {
   "cell_type": "markdown",
   "id": "d5fa9465",
   "metadata": {},
   "source": [
    "# 8. Machine Learning Model"
   ]
  },
  {
   "cell_type": "code",
   "execution_count": 104,
   "id": "9adcf3f4",
   "metadata": {
    "ExecuteTime": {
     "end_time": "2022-03-16T00:08:41.171530Z",
     "start_time": "2022-03-16T00:08:41.125514Z"
    }
   },
   "outputs": [],
   "source": [
    "cols_selected = ['annual_premium', 'vintage', 'age', 'region_code', \n",
    "                 'vehicle_damage', 'previously_insured', 'policy_sales_channel']\n",
    "\n",
    "# get selected features\n",
    "x_train = df6[ cols_selected ]\n",
    "x_val = x_validation[ cols_selected ]\n",
    "y_val = y_validation.copy()"
   ]
  },
  {
   "cell_type": "markdown",
   "id": "155bf6a3",
   "metadata": {
    "heading_collapsed": true
   },
   "source": [
    "## 8.1. KNN"
   ]
  },
  {
   "cell_type": "code",
   "execution_count": 96,
   "id": "2ce33bab",
   "metadata": {
    "ExecuteTime": {
     "end_time": "2022-03-16T00:01:34.269009Z",
     "start_time": "2022-03-16T00:01:34.259007Z"
    },
    "hidden": true
   },
   "outputs": [],
   "source": [
    "# model definition\n",
    "knn_model = KNeighborsClassifier( n_neighbors=7 )"
   ]
  },
  {
   "cell_type": "code",
   "execution_count": 97,
   "id": "74ebe125",
   "metadata": {
    "ExecuteTime": {
     "end_time": "2022-03-16T00:01:46.731596Z",
     "start_time": "2022-03-16T00:01:39.061882Z"
    },
    "hidden": true
   },
   "outputs": [],
   "source": [
    "# model training\n",
    "knn_model.fit( x_train, y_train )\n",
    "\n",
    "# model prediction\n",
    "yhat_knn = knn_model.predict_proba( x_val )"
   ]
  },
  {
   "cell_type": "code",
   "execution_count": 38,
   "id": "1404b15c",
   "metadata": {
    "ExecuteTime": {
     "end_time": "2022-03-15T22:25:29.018440Z",
     "start_time": "2022-03-15T22:25:28.709371Z"
    },
    "hidden": true
   },
   "outputs": [
    {
     "data": {
      "image/png": "[encoded data removed]",
      "text/plain": [
       "<Figure size 1440x576 with 2 Axes>"
      ]
     },
     "metadata": {},
     "output_type": "display_data"
    }
   ],
   "source": [
    "fig, axes = plt.subplots(1,2)\n",
    "\n",
    "# accumulative gain\n",
    "skplt.metrics.plot_cumulative_gain( y_val, yhat_knn, ax=axes[0])\n",
    "\n",
    "# lift curve\n",
    "skplt.metrics.plot_lift_curve( y_val, yhat_knn, ax=axes[1])\n",
    "xlim(0.05, 1)\n",
    "ylim(0, 3);"
   ]
  },
  {
   "cell_type": "markdown",
   "id": "2806c670",
   "metadata": {
    "heading_collapsed": true
   },
   "source": [
    "## 8.2. Logistic Regression"
   ]
  },
  {
   "cell_type": "code",
   "execution_count": 98,
   "id": "ad547e42",
   "metadata": {
    "ExecuteTime": {
     "end_time": "2022-03-16T00:01:53.740040Z",
     "start_time": "2022-03-16T00:01:53.731037Z"
    },
    "hidden": true
   },
   "outputs": [],
   "source": [
    "# model definition\n",
    "lr_model = LogisticRegression( random_state=42 )"
   ]
  },
  {
   "cell_type": "code",
   "execution_count": 99,
   "id": "f98c2eae",
   "metadata": {
    "ExecuteTime": {
     "end_time": "2022-03-16T00:01:58.185550Z",
     "start_time": "2022-03-16T00:01:57.284850Z"
    },
    "hidden": true,
    "scrolled": false
   },
   "outputs": [],
   "source": [
    "# model training\n",
    "lr_model.fit( x_train, y_train )\n",
    "\n",
    "# model prediction\n",
    "yhat_lr = lr_model.predict_proba( x_val )"
   ]
  },
  {
   "cell_type": "code",
   "execution_count": 100,
   "id": "e8095583",
   "metadata": {
    "ExecuteTime": {
     "end_time": "2022-03-16T00:02:00.276314Z",
     "start_time": "2022-03-16T00:01:59.962924Z"
    },
    "hidden": true
   },
   "outputs": [
    {
     "data": {
      "image/png": "[encoded data removed]",
      "text/plain": [
       "<Figure size 1440x576 with 2 Axes>"
      ]
     },
     "metadata": {},
     "output_type": "display_data"
    }
   ],
   "source": [
    "fig, axes = plt.subplots(1,2)\n",
    "\n",
    "# accumulative gain\n",
    "skplt.metrics.plot_cumulative_gain( y_val, yhat_lr, ax=axes[0] )\n",
    "\n",
    "# lift curve\n",
    "skplt.metrics.plot_lift_curve( y_val, yhat_lr, ax=axes[1] )\n",
    "xlim(0.05, 1)\n",
    "ylim(0, 3);"
   ]
  },
  {
   "cell_type": "markdown",
   "id": "97f35652",
   "metadata": {},
   "source": [
    "## 8.3. Extra Trees Classifier"
   ]
  },
  {
   "cell_type": "code",
   "execution_count": 43,
   "id": "e30bb437",
   "metadata": {
    "ExecuteTime": {
     "end_time": "2022-03-15T22:27:05.909288Z",
     "start_time": "2022-03-15T22:27:05.899285Z"
    }
   },
   "outputs": [],
   "source": [
    "# model definition\n",
    "et_model = ExtraTreesClassifier( n_estimators=1000, n_jobs=-1, random_state=42 )"
   ]
  },
  {
   "cell_type": "code",
   "execution_count": 44,
   "id": "1b32de9a",
   "metadata": {
    "ExecuteTime": {
     "end_time": "2022-03-15T22:28:44.964167Z",
     "start_time": "2022-03-15T22:27:08.045073Z"
    }
   },
   "outputs": [],
   "source": [
    "# model fit\n",
    "et_model.fit( x_train, y_train )\n",
    "\n",
    "# model predict\n",
    "yhat_et = et_model.predict_proba( x_val )"
   ]
  },
  {
   "cell_type": "code",
   "execution_count": 45,
   "id": "48b6131d",
   "metadata": {
    "ExecuteTime": {
     "end_time": "2022-03-15T22:28:46.522056Z",
     "start_time": "2022-03-15T22:28:45.023274Z"
    }
   },
   "outputs": [
    {
     "data": {
      "image/png": "[encoded data removed]",
      "text/plain": [
       "<Figure size 1440x576 with 2 Axes>"
      ]
     },
     "metadata": {},
     "output_type": "display_data"
    }
   ],
   "source": [
    "fig, axes = plt.subplots(1,2)\n",
    "\n",
    "# accumulative gain\n",
    "skplt.metrics.plot_cumulative_gain( y_val, yhat_et, ax=axes[0] )\n",
    "\n",
    "# lift curve\n",
    "skplt.metrics.plot_lift_curve( y_val, yhat_et, ax=axes[1] )\n",
    "xlim(0.05, 1)\n",
    "ylim(0,3);"
   ]
  },
  {
   "cell_type": "markdown",
   "id": "625e1bc0",
   "metadata": {},
   "source": [
    "#  9. Model Performance"
   ]
  },
  {
   "cell_type": "markdown",
   "id": "b3d67704",
   "metadata": {},
   "source": [
    "## 9.1. Metrics Performance"
   ]
  },
  {
   "cell_type": "markdown",
   "id": "938dd3c0",
   "metadata": {},
   "source": [
    "* Since there are 120K new customers and just 20K calls do make, it indicates they are going to contact just 16,6% of the customers dataset. \n",
    " * Therefore, I will use this percentage of the validation dataset to evaluate the models and respond the business questions."
   ]
  },
  {
   "cell_type": "code",
   "execution_count": 122,
   "id": "029d1781",
   "metadata": {
    "ExecuteTime": {
     "end_time": "2022-03-16T00:43:22.068814Z",
     "start_time": "2022-03-16T00:43:21.940795Z"
    }
   },
   "outputs": [
    {
     "data": {
      "text/html": [
       "<div>\n",
       "<style scoped>\n",
       "    .dataframe tbody tr th:only-of-type {\n",
       "        vertical-align: middle;\n",
       "    }\n",
       "\n",
       "    .dataframe tbody tr th {\n",
       "        vertical-align: top;\n",
       "    }\n",
       "\n",
       "    .dataframe thead th {\n",
       "        text-align: right;\n",
       "    }\n",
       "</style>\n",
       "<table border=\"1\" class=\"dataframe\">\n",
       "  <thead>\n",
       "    <tr style=\"text-align: right;\">\n",
       "      <th></th>\n",
       "      <th>Model Name</th>\n",
       "      <th>Precision at K</th>\n",
       "      <th>Recall at K</th>\n",
       "      <th>ROC AUC Score</th>\n",
       "    </tr>\n",
       "  </thead>\n",
       "  <tbody>\n",
       "    <tr>\n",
       "      <th>0</th>\n",
       "      <td>Extra Trees Classifier</td>\n",
       "      <td>0.315814</td>\n",
       "      <td>0.429677</td>\n",
       "      <td>0.826885</td>\n",
       "    </tr>\n",
       "    <tr>\n",
       "      <th>0</th>\n",
       "      <td>Logistic Regression</td>\n",
       "      <td>0.296847</td>\n",
       "      <td>0.403871</td>\n",
       "      <td>0.815515</td>\n",
       "    </tr>\n",
       "    <tr>\n",
       "      <th>0</th>\n",
       "      <td>KNN</td>\n",
       "      <td>0.304987</td>\n",
       "      <td>0.414946</td>\n",
       "      <td>0.783890</td>\n",
       "    </tr>\n",
       "  </tbody>\n",
       "</table>\n",
       "</div>"
      ],
      "text/plain": [
       "               Model Name  Precision at K  Recall at K  ROC AUC Score\n",
       "0  Extra Trees Classifier        0.315814     0.429677       0.826885\n",
       "0     Logistic Regression        0.296847     0.403871       0.815515\n",
       "0                     KNN        0.304987     0.414946       0.783890"
      ]
     },
     "execution_count": 122,
     "metadata": {},
     "output_type": "execute_result"
    }
   ],
   "source": [
    "# Qtd of validation data\n",
    "qtd = y_val.shape[0]\n",
    "\n",
    "# 16.6% of total\n",
    "k = int( 0.166 * qtd  )\n",
    "\n",
    "# results at k\n",
    "knn_result_at_k = ml_metrics( 'KNN', y_val, yhat_knn[:, 1], k )\n",
    "lr_result_at_k = ml_metrics( 'Logistic Regression', y_val, yhat_lr[:, 1], k )\n",
    "et_result_at_k = ml_metrics( 'Extra Trees Classifier', y_val, yhat_et[:, 1], k )\n",
    "\n",
    "# ordering by ROC AUC Score\n",
    "modelling_result_at_k = pd.concat( [knn_result_at_k, lr_result_at_k, et_result_at_k] ).sort_values( by='ROC AUC Score', ascending=False )\n",
    "modelling_result_at_k"
   ]
  },
  {
   "cell_type": "markdown",
   "id": "614a8e3d",
   "metadata": {},
   "source": [
    "* According to the cumulative gain curve and lift curve, the best two models are 'Extra Trees Classifier' and 'Logistic Regression'. \n",
    "    * Because at 50% of the validation dataset, almost 100% of the customers interested in the vehicle insurance were reached out.\n",
    "* The 'ROC AUC Score' supports the conclusion above, even though the 'KNN' model getting a better result at 20%.\n",
    "* Thus, the chosen model is the 'Extra Trees Classifier'."
   ]
  },
  {
   "cell_type": "markdown",
   "id": "73ff9ace",
   "metadata": {},
   "source": [
    "## 9.2. Business Performance"
   ]
  },
  {
   "cell_type": "markdown",
   "id": "ca8f45d1",
   "metadata": {
    "heading_collapsed": true
   },
   "source": [
    "### 9.2.1. What customer percentage interested in the vehicle insurance will the sales team reach out by making 20K calls?\n",
    "- As we can see with the 'Recall At k' metric, the sales team will reach out 42.96%."
   ]
  },
  {
   "cell_type": "code",
   "execution_count": 123,
   "id": "1c64ed13",
   "metadata": {
    "ExecuteTime": {
     "end_time": "2022-03-16T00:46:41.082584Z",
     "start_time": "2022-03-16T00:46:41.029572Z"
    },
    "hidden": true
   },
   "outputs": [
    {
     "data": {
      "text/html": [
       "<div>\n",
       "<style scoped>\n",
       "    .dataframe tbody tr th:only-of-type {\n",
       "        vertical-align: middle;\n",
       "    }\n",
       "\n",
       "    .dataframe tbody tr th {\n",
       "        vertical-align: top;\n",
       "    }\n",
       "\n",
       "    .dataframe thead th {\n",
       "        text-align: right;\n",
       "    }\n",
       "</style>\n",
       "<table border=\"1\" class=\"dataframe\">\n",
       "  <thead>\n",
       "    <tr style=\"text-align: right;\">\n",
       "      <th></th>\n",
       "      <th>Model Name</th>\n",
       "      <th>Precision at K</th>\n",
       "      <th>Recall at K</th>\n",
       "      <th>ROC AUC Score</th>\n",
       "    </tr>\n",
       "  </thead>\n",
       "  <tbody>\n",
       "    <tr>\n",
       "      <th>0</th>\n",
       "      <td>Extra Trees Classifier</td>\n",
       "      <td>0.315814</td>\n",
       "      <td>0.429677</td>\n",
       "      <td>0.826885</td>\n",
       "    </tr>\n",
       "  </tbody>\n",
       "</table>\n",
       "</div>"
      ],
      "text/plain": [
       "               Model Name  Precision at K  Recall at K  ROC AUC Score\n",
       "0  Extra Trees Classifier        0.315814     0.429677       0.826885"
      ]
     },
     "execution_count": 123,
     "metadata": {},
     "output_type": "execute_result"
    }
   ],
   "source": [
    "# 16.6% of total\n",
    "k = int( 0.166 * qtd  )\n",
    "\n",
    "# results at k\n",
    "et_result_at_k = ml_metrics( 'Extra Trees Classifier', y_val, yhat_et[:, 1], k )\n",
    "et_result_at_k"
   ]
  },
  {
   "cell_type": "markdown",
   "id": "f6ff99fd",
   "metadata": {
    "heading_collapsed": true
   },
   "source": [
    "### 9.2.2. If the sales team makes 40k calls, what is the new percentage?\n",
    "- The sales team will reach out 77.54%."
   ]
  },
  {
   "cell_type": "code",
   "execution_count": 124,
   "id": "bd57733d",
   "metadata": {
    "ExecuteTime": {
     "end_time": "2022-03-16T00:50:33.117880Z",
     "start_time": "2022-03-16T00:50:33.063876Z"
    },
    "hidden": true
   },
   "outputs": [
    {
     "data": {
      "text/html": [
       "<div>\n",
       "<style scoped>\n",
       "    .dataframe tbody tr th:only-of-type {\n",
       "        vertical-align: middle;\n",
       "    }\n",
       "\n",
       "    .dataframe tbody tr th {\n",
       "        vertical-align: top;\n",
       "    }\n",
       "\n",
       "    .dataframe thead th {\n",
       "        text-align: right;\n",
       "    }\n",
       "</style>\n",
       "<table border=\"1\" class=\"dataframe\">\n",
       "  <thead>\n",
       "    <tr style=\"text-align: right;\">\n",
       "      <th></th>\n",
       "      <th>Model Name</th>\n",
       "      <th>Precision at K</th>\n",
       "      <th>Recall at K</th>\n",
       "      <th>ROC AUC Score</th>\n",
       "    </tr>\n",
       "  </thead>\n",
       "  <tbody>\n",
       "    <tr>\n",
       "      <th>0</th>\n",
       "      <td>Extra Trees Classifier</td>\n",
       "      <td>0.284992</td>\n",
       "      <td>0.775484</td>\n",
       "      <td>0.826885</td>\n",
       "    </tr>\n",
       "  </tbody>\n",
       "</table>\n",
       "</div>"
      ],
      "text/plain": [
       "               Model Name  Precision at K  Recall at K  ROC AUC Score\n",
       "0  Extra Trees Classifier        0.284992     0.775484       0.826885"
      ]
     },
     "execution_count": 124,
     "metadata": {},
     "output_type": "execute_result"
    }
   ],
   "source": [
    "# 33.2% of total\n",
    "k = int( 0.332 * qtd  )\n",
    "\n",
    "# results at k\n",
    "et_result_at_k = ml_metrics( 'Extra Trees Classifier', y_val, yhat_et[:, 1], k )\n",
    "et_result_at_k"
   ]
  },
  {
   "cell_type": "markdown",
   "id": "4fccd497",
   "metadata": {
    "heading_collapsed": true
   },
   "source": [
    "### 9.2.3. How many calls will the sales team have to make to reach 80% of the interested customers?\n",
    "- The sales team have to make 42000 calls."
   ]
  },
  {
   "cell_type": "code",
   "execution_count": 134,
   "id": "3000b96e",
   "metadata": {
    "ExecuteTime": {
     "end_time": "2022-03-16T00:56:33.926031Z",
     "start_time": "2022-03-16T00:56:33.871093Z"
    },
    "hidden": true
   },
   "outputs": [
    {
     "name": "stdout",
     "output_type": "stream",
     "text": [
      "Calls quantity: 42000\n"
     ]
    },
    {
     "data": {
      "text/html": [
       "<div>\n",
       "<style scoped>\n",
       "    .dataframe tbody tr th:only-of-type {\n",
       "        vertical-align: middle;\n",
       "    }\n",
       "\n",
       "    .dataframe tbody tr th {\n",
       "        vertical-align: top;\n",
       "    }\n",
       "\n",
       "    .dataframe thead th {\n",
       "        text-align: right;\n",
       "    }\n",
       "</style>\n",
       "<table border=\"1\" class=\"dataframe\">\n",
       "  <thead>\n",
       "    <tr style=\"text-align: right;\">\n",
       "      <th></th>\n",
       "      <th>Model Name</th>\n",
       "      <th>Precision at K</th>\n",
       "      <th>Recall at K</th>\n",
       "      <th>ROC AUC Score</th>\n",
       "    </tr>\n",
       "  </thead>\n",
       "  <tbody>\n",
       "    <tr>\n",
       "      <th>0</th>\n",
       "      <td>Extra Trees Classifier</td>\n",
       "      <td>0.280906</td>\n",
       "      <td>0.805806</td>\n",
       "      <td>0.826885</td>\n",
       "    </tr>\n",
       "  </tbody>\n",
       "</table>\n",
       "</div>"
      ],
      "text/plain": [
       "               Model Name  Precision at K  Recall at K  ROC AUC Score\n",
       "0  Extra Trees Classifier        0.280906     0.805806       0.826885"
      ]
     },
     "execution_count": 134,
     "metadata": {},
     "output_type": "execute_result"
    }
   ],
   "source": [
    "# 35% of total\n",
    "pct = 0.35\n",
    "k = int( pct * qtd  )\n",
    "print(f'Calls quantity: { int(pct * 120000) }')\n",
    "\n",
    "# results at k\n",
    "et_result_at_k = ml_metrics( 'Extra Trees Classifier', y_val, yhat_et[:, 1], k )\n",
    "et_result_at_k"
   ]
  },
  {
   "cell_type": "markdown",
   "id": "327e91d4",
   "metadata": {},
   "source": [
    "# 10. Deploy Model to Production"
   ]
  },
  {
   "cell_type": "code",
   "execution_count": 135,
   "id": "9d9d7a8f",
   "metadata": {
    "ExecuteTime": {
     "end_time": "2022-03-16T00:58:07.985206Z",
     "start_time": "2022-03-16T00:58:07.964202Z"
    }
   },
   "outputs": [],
   "source": [
    "# save trained model\n",
    "pickle.dump( lr_model, open( 'model/model_et_classifier.pkl', 'wb' ) ) "
   ]
  },
  {
   "cell_type": "markdown",
   "id": "90516a29",
   "metadata": {},
   "source": [
    "## 10.1. Health Insurance Class"
   ]
  },
  {
   "cell_type": "code",
   "execution_count": 136,
   "id": "f141c1fc",
   "metadata": {
    "ExecuteTime": {
     "end_time": "2022-03-16T00:59:20.042099Z",
     "start_time": "2022-03-16T00:59:20.027097Z"
    }
   },
   "outputs": [],
   "source": [
    "import pickle\n",
    "import os\n",
    "\n",
    "import numpy  as np\n",
    "import pandas as pd\n",
    "\n",
    "class HealthInsurance:\n",
    "    \n",
    "    def __init__( self ):\n",
    "        self.home_path = os.path.abspath('')\n",
    "        self.annual_premium_scaler            = pickle.load( open( os.path.join(self.home_path, 'features/annual_premium_scaler.pkl'), 'rb' ) )\n",
    "        self.age_scaler                       = pickle.load( open( os.path.join(self.home_path, 'features/age_scaler.pkl'), 'rb' ) )\n",
    "        self.vintage_scaler                   = pickle.load( open( os.path.join(self.home_path, 'features/vintage_scaler.pkl'), 'rb' ) )\n",
    "        self.target_encode_gender_scaler      = pickle.load( open( os.path.join(self.home_path, 'features/target_encode_gender_scaler.pkl'), 'rb' ) )\n",
    "        self.target_encode_region_code_scaler = pickle.load( open( os.path.join(self.home_path, 'features/target_encode_region_code_scaler.pkl'), 'rb' ) )\n",
    "        self.freq_policy_sales_channel_scaler = pickle.load( open( os.path.join(self.home_path, 'features/freq_policy_sales_channel_scaler.pkl'), 'rb' ) )\n",
    "        \n",
    "        \n",
    "    def data_cleaning( self, df2 ):\n",
    "        ## 2.1. Renaming Columns\n",
    "        # to lower case\n",
    "        cols_new = df2.columns.str.lower()\n",
    "\n",
    "        # rename columns\n",
    "        df2.columns = cols_new\n",
    "        df2.columns\n",
    "        \n",
    "        return df2\n",
    "    \n",
    "    \n",
    "    def feature_engineering( self, df3 ):\n",
    "        # vehicle age\n",
    "        df3['vehicle_age'] = df3['vehicle_age'].apply( lambda x: 'over_2_years'      if x == '> 2 Years' else\n",
    "                                                                 'between_1_2_years' if x == '1-2 Year' else \n",
    "                                                                 'below_1_year' )\n",
    "        \n",
    "        # vehicle damage\n",
    "        df3['vehicle_damage'] = df3['vehicle_damage'].apply(lambda x: 1 if x == 'Yes' else 0)\n",
    "        \n",
    "        return df3\n",
    "    \n",
    "    \n",
    "    def data_preparation( self, df6 ):\n",
    "        # annual_premium\n",
    "        df6['annual_premium'] = self.annual_premium_scaler.fit_transform( df6[['annual_premium']].values )\n",
    "\n",
    "        # age\n",
    "        df6['age'] = self.age_scaler.fit_transform( df6[['age']].values )\n",
    "\n",
    "        # vintage\n",
    "        df6['vintage'] = self.vintage_scaler.fit_transform( df6[['vintage']].values )\n",
    "        \n",
    "        # gender \n",
    "        df6['gender'] = df6['gender'].map( self.target_encode_gender_scaler )\n",
    "\n",
    "        # region code\n",
    "        df6['region_code'] = df6['region_code'].map( self.target_encode_region_code_scaler )\n",
    "\n",
    "        # vehicle_age\n",
    "        df6 = pd.get_dummies( df6, prefix='vehicle_age', columns=['vehicle_age'] )\n",
    "\n",
    "        # policy_sales_channel\n",
    "        df6['policy_sales_channel'] = df6['policy_sales_channel'].map( self.freq_policy_sales_channel_scaler )\n",
    "        \n",
    "        # feature selection\n",
    "        cols_selected = ['annual_premium', 'vintage', 'age', 'region_code', \n",
    "                 'vehicle_damage', 'previously_insured', 'policy_sales_channel']\n",
    "        \n",
    "        return df6[ cols_selected ]\n",
    "    \n",
    "    \n",
    "    def get_predict( self, model, original_data, test_data ):\n",
    "        # model prediction\n",
    "        pred = model.predict_proba( test_data )\n",
    "        \n",
    "        # join prediction into original data\n",
    "        original_data['prediction'] = pred\n",
    "        \n",
    "        return original_data.to_json( orient='records', date_format='iso' )"
   ]
  },
  {
   "cell_type": "markdown",
   "id": "c5b72f3e",
   "metadata": {
    "ExecuteTime": {
     "end_time": "2022-03-10T00:35:42.213274Z",
     "start_time": "2022-03-10T00:35:42.202272Z"
    }
   },
   "source": [
    "## 10.2. API Handler"
   ]
  },
  {
   "cell_type": "code",
   "execution_count": null,
   "id": "9f0dda32",
   "metadata": {
    "ExecuteTime": {
     "end_time": "2022-03-10T22:28:41.033398Z",
     "start_time": "2022-03-10T22:28:40.598904Z"
    },
    "scrolled": true
   },
   "outputs": [],
   "source": [
    "import pickle\n",
    "import pandas as pd\n",
    "from flask import Flask, request, Response\n",
    "from healthinsurance import HealthInsurance\n",
    "\n",
    "# loading model\n",
    "path = os.path.abspath('')\n",
    "model = pickle.load( open( os.path.join( path, \"model\\model_et_classifier.pkl\"), 'rb' ) )\n",
    "\n",
    "# initialize API\n",
    "app = Flask( __name__ )\n",
    "\n",
    "@app.route( '/predict', method=['POST'] )\n",
    "def health_insurance_predict():\n",
    "    test_json = request.get_json()\n",
    "    \n",
    "    if test_json: # there is data\n",
    "        if isinstance( test_json, dict ): # unique example\n",
    "            test_raw = pd.Dataframe( test_json, index=[0] )\n",
    "            \n",
    "        else: # multiple examples\n",
    "            test_raw = pd.Dataframe( test_json, columns=test_json[0].keys )\n",
    "            \n",
    "        # Instantiate Rossmann class\n",
    "        pipeline = HealthInsurance()\n",
    "        \n",
    "        # data cleaning\n",
    "        df1 = pipeline.data_cleaning( test_raw )\n",
    "        \n",
    "        # feature engineering\n",
    "        df2 = pipeline.feature_engineering( df1 )\n",
    "        \n",
    "        # data preparation\n",
    "        df3 = pipeline.data_preparation( df2 )\n",
    "        \n",
    "        # prediction\n",
    "        df_response = pipeline.get_prediction( model, test_raw, df3 )\n",
    "        \n",
    "        return df_response\n",
    "    \n",
    "    else:\n",
    "        return Response( '{}', status=200, mimetype='application/json' )\n",
    "    \n",
    "if __name__ == '__main__':\n",
    "    app.run( '0.0.0.0', debug=True )      "
   ]
  },
  {
   "cell_type": "markdown",
   "id": "8c17f0ae",
   "metadata": {},
   "source": [
    "## 10.3. API Tester"
   ]
  },
  {
   "cell_type": "code",
   "execution_count": 137,
   "id": "dbc0560c",
   "metadata": {
    "ExecuteTime": {
     "end_time": "2022-03-16T00:59:28.325460Z",
     "start_time": "2022-03-16T00:59:28.119193Z"
    }
   },
   "outputs": [],
   "source": [
    "import requests\n",
    "import json"
   ]
  },
  {
   "cell_type": "code",
   "execution_count": 143,
   "id": "1744406a",
   "metadata": {
    "ExecuteTime": {
     "end_time": "2022-03-16T01:05:02.938931Z",
     "start_time": "2022-03-16T01:05:02.926930Z"
    }
   },
   "outputs": [],
   "source": [
    "# loading test dataset\n",
    "df_test = x_vald\n",
    "df_test['response'] = y_vald"
   ]
  },
  {
   "cell_type": "code",
   "execution_count": 162,
   "id": "a9722d7b",
   "metadata": {
    "ExecuteTime": {
     "end_time": "2022-03-16T01:07:43.536807Z",
     "start_time": "2022-03-16T01:07:43.529804Z"
    }
   },
   "outputs": [],
   "source": [
    "# getting a sample\n",
    "df_test_1 = df_test.sample(10)"
   ]
  },
  {
   "cell_type": "code",
   "execution_count": 163,
   "id": "2b5fe18d",
   "metadata": {
    "ExecuteTime": {
     "end_time": "2022-03-16T01:07:44.415029Z",
     "start_time": "2022-03-16T01:07:44.404027Z"
    }
   },
   "outputs": [
    {
     "data": {
      "text/plain": [
       "'[{\"id\": 363109, \"gender\": \"Female\", \"age\": 54, \"region_code\": 28.0, \"policy_sales_channel\": 26.0, \"driving_license\": 1, \"vehicle_age\": \"between_1_2_years\", \"vehicle_damage\": 1, \"previously_insured\": 0, \"annual_premium\": 32709.0, \"vintage\": 20, \"response\": 1}, {\"id\": 186939, \"gender\": \"Female\", \"age\": 46, \"region_code\": 46.0, \"policy_sales_channel\": 26.0, \"driving_license\": 1, \"vehicle_age\": \"between_1_2_years\", \"vehicle_damage\": 1, \"previously_insured\": 0, \"annual_premium\": 30695.0, \"vintage\": 272, \"response\": 1}, {\"id\": 266823, \"gender\": \"Female\", \"age\": 42, \"region_code\": 41.0, \"policy_sales_channel\": 156.0, \"driving_license\": 1, \"vehicle_age\": \"between_1_2_years\", \"vehicle_damage\": 0, \"previously_insured\": 0, \"annual_premium\": 2630.0, \"vintage\": 58, \"response\": 0}, {\"id\": 203390, \"gender\": \"Male\", \"age\": 31, \"region_code\": 9.0, \"policy_sales_channel\": 124.0, \"driving_license\": 1, \"vehicle_age\": \"below_1_year\", \"vehicle_damage\": 1, \"previously_insured\": 0, \"annual_premium\": 36714.0, \"vintage\": 287, \"response\": 0}, {\"id\": 312283, \"gender\": \"Male\", \"age\": 42, \"region_code\": 20.0, \"policy_sales_channel\": 124.0, \"driving_license\": 1, \"vehicle_age\": \"between_1_2_years\", \"vehicle_damage\": 1, \"previously_insured\": 0, \"annual_premium\": 2630.0, \"vintage\": 185, \"response\": 0}, {\"id\": 233324, \"gender\": \"Female\", \"age\": 23, \"region_code\": 46.0, \"policy_sales_channel\": 152.0, \"driving_license\": 1, \"vehicle_age\": \"below_1_year\", \"vehicle_damage\": 0, \"previously_insured\": 1, \"annual_premium\": 39263.0, \"vintage\": 239, \"response\": 0}, {\"id\": 360292, \"gender\": \"Female\", \"age\": 25, \"region_code\": 20.0, \"policy_sales_channel\": 160.0, \"driving_license\": 1, \"vehicle_age\": \"below_1_year\", \"vehicle_damage\": 0, \"previously_insured\": 1, \"annual_premium\": 2630.0, \"vintage\": 110, \"response\": 0}, {\"id\": 10483, \"gender\": \"Female\", \"age\": 44, \"region_code\": 28.0, \"policy_sales_channel\": 26.0, \"driving_license\": 1, \"vehicle_age\": \"between_1_2_years\", \"vehicle_damage\": 1, \"previously_insured\": 0, \"annual_premium\": 47111.0, \"vintage\": 89, \"response\": 0}, {\"id\": 88901, \"gender\": \"Female\", \"age\": 40, \"region_code\": 46.0, \"policy_sales_channel\": 124.0, \"driving_license\": 1, \"vehicle_age\": \"between_1_2_years\", \"vehicle_damage\": 1, \"previously_insured\": 0, \"annual_premium\": 45934.0, \"vintage\": 82, \"response\": 1}, {\"id\": 290464, \"gender\": \"Female\", \"age\": 21, \"region_code\": 37.0, \"policy_sales_channel\": 152.0, \"driving_license\": 1, \"vehicle_age\": \"below_1_year\", \"vehicle_damage\": 1, \"previously_insured\": 0, \"annual_premium\": 34561.0, \"vintage\": 36, \"response\": 0}]'"
      ]
     },
     "execution_count": 163,
     "metadata": {},
     "output_type": "execute_result"
    }
   ],
   "source": [
    "# convert dataframe to json\n",
    "data = json.dumps( df_test_1.to_dict( orient='records' ) )\n",
    "data"
   ]
  },
  {
   "cell_type": "code",
   "execution_count": 166,
   "id": "1c45d404",
   "metadata": {
    "ExecuteTime": {
     "end_time": "2022-03-16T01:09:55.409508Z",
     "start_time": "2022-03-16T01:09:34.570465Z"
    }
   },
   "outputs": [
    {
     "name": "stdout",
     "output_type": "stream",
     "text": [
      "Status Code 200\n"
     ]
    }
   ],
   "source": [
    "# API Call\n",
    "#url = \"http://192.168.15.13:5000/predict\"\n",
    "url = \"https://health-insurance-gcs.herokuapp.com/predict\"\n",
    "header = { \"Content-type\":\"application/json\" }\n",
    "\n",
    "r = requests.post( url, data=data, headers=header )\n",
    "print( 'Status Code {}'.format( r.status_code ) )"
   ]
  },
  {
   "cell_type": "code",
   "execution_count": 167,
   "id": "3bfcd391",
   "metadata": {
    "ExecuteTime": {
     "end_time": "2022-03-16T01:09:58.168446Z",
     "start_time": "2022-03-16T01:09:58.156622Z"
    }
   },
   "outputs": [
    {
     "data": {
      "text/html": [
       "<div>\n",
       "<style scoped>\n",
       "    .dataframe tbody tr th:only-of-type {\n",
       "        vertical-align: middle;\n",
       "    }\n",
       "\n",
       "    .dataframe tbody tr th {\n",
       "        vertical-align: top;\n",
       "    }\n",
       "\n",
       "    .dataframe thead th {\n",
       "        text-align: right;\n",
       "    }\n",
       "</style>\n",
       "<table border=\"1\" class=\"dataframe\">\n",
       "  <thead>\n",
       "    <tr style=\"text-align: right;\">\n",
       "      <th></th>\n",
       "      <th>id</th>\n",
       "      <th>gender</th>\n",
       "      <th>age</th>\n",
       "      <th>region_code</th>\n",
       "      <th>policy_sales_channel</th>\n",
       "      <th>driving_license</th>\n",
       "      <th>vehicle_age</th>\n",
       "      <th>vehicle_damage</th>\n",
       "      <th>previously_insured</th>\n",
       "      <th>annual_premium</th>\n",
       "      <th>vintage</th>\n",
       "      <th>response</th>\n",
       "      <th>score</th>\n",
       "    </tr>\n",
       "  </thead>\n",
       "  <tbody>\n",
       "    <tr>\n",
       "      <th>7</th>\n",
       "      <td>10483</td>\n",
       "      <td>0.103514</td>\n",
       "      <td>0.696970</td>\n",
       "      <td>0.187782</td>\n",
       "      <td>26.0</td>\n",
       "      <td>1</td>\n",
       "      <td>below_1_year</td>\n",
       "      <td>0</td>\n",
       "      <td>0</td>\n",
       "      <td>1.154228</td>\n",
       "      <td>0.258427</td>\n",
       "      <td>0</td>\n",
       "      <td>0.044651</td>\n",
       "    </tr>\n",
       "    <tr>\n",
       "      <th>0</th>\n",
       "      <td>363109</td>\n",
       "      <td>0.103514</td>\n",
       "      <td>1.000000</td>\n",
       "      <td>0.187782</td>\n",
       "      <td>26.0</td>\n",
       "      <td>1</td>\n",
       "      <td>below_1_year</td>\n",
       "      <td>0</td>\n",
       "      <td>0</td>\n",
       "      <td>0.307113</td>\n",
       "      <td>0.000000</td>\n",
       "      <td>1</td>\n",
       "      <td>0.042175</td>\n",
       "    </tr>\n",
       "    <tr>\n",
       "      <th>2</th>\n",
       "      <td>266823</td>\n",
       "      <td>0.103514</td>\n",
       "      <td>0.636364</td>\n",
       "      <td>0.119531</td>\n",
       "      <td>156.0</td>\n",
       "      <td>1</td>\n",
       "      <td>below_1_year</td>\n",
       "      <td>0</td>\n",
       "      <td>0</td>\n",
       "      <td>-1.462112</td>\n",
       "      <td>0.142322</td>\n",
       "      <td>0</td>\n",
       "      <td>0.037691</td>\n",
       "    </tr>\n",
       "    <tr>\n",
       "      <th>4</th>\n",
       "      <td>312283</td>\n",
       "      <td>0.138635</td>\n",
       "      <td>0.636364</td>\n",
       "      <td>0.120936</td>\n",
       "      <td>124.0</td>\n",
       "      <td>1</td>\n",
       "      <td>below_1_year</td>\n",
       "      <td>0</td>\n",
       "      <td>0</td>\n",
       "      <td>-1.462112</td>\n",
       "      <td>0.617978</td>\n",
       "      <td>0</td>\n",
       "      <td>0.033320</td>\n",
       "    </tr>\n",
       "    <tr>\n",
       "      <th>8</th>\n",
       "      <td>88901</td>\n",
       "      <td>0.103514</td>\n",
       "      <td>0.575758</td>\n",
       "      <td>0.103324</td>\n",
       "      <td>124.0</td>\n",
       "      <td>1</td>\n",
       "      <td>below_1_year</td>\n",
       "      <td>0</td>\n",
       "      <td>0</td>\n",
       "      <td>1.084998</td>\n",
       "      <td>0.232210</td>\n",
       "      <td>1</td>\n",
       "      <td>0.031741</td>\n",
       "    </tr>\n",
       "    <tr>\n",
       "      <th>1</th>\n",
       "      <td>186939</td>\n",
       "      <td>0.103514</td>\n",
       "      <td>0.757576</td>\n",
       "      <td>0.103324</td>\n",
       "      <td>26.0</td>\n",
       "      <td>1</td>\n",
       "      <td>below_1_year</td>\n",
       "      <td>0</td>\n",
       "      <td>0</td>\n",
       "      <td>0.188651</td>\n",
       "      <td>0.943820</td>\n",
       "      <td>1</td>\n",
       "      <td>0.030218</td>\n",
       "    </tr>\n",
       "    <tr>\n",
       "      <th>3</th>\n",
       "      <td>203390</td>\n",
       "      <td>0.138635</td>\n",
       "      <td>0.303030</td>\n",
       "      <td>0.079725</td>\n",
       "      <td>124.0</td>\n",
       "      <td>1</td>\n",
       "      <td>below_1_year</td>\n",
       "      <td>0</td>\n",
       "      <td>0</td>\n",
       "      <td>0.542684</td>\n",
       "      <td>1.000000</td>\n",
       "      <td>0</td>\n",
       "      <td>0.029814</td>\n",
       "    </tr>\n",
       "    <tr>\n",
       "      <th>9</th>\n",
       "      <td>290464</td>\n",
       "      <td>0.103514</td>\n",
       "      <td>0.000000</td>\n",
       "      <td>0.075011</td>\n",
       "      <td>152.0</td>\n",
       "      <td>1</td>\n",
       "      <td>below_1_year</td>\n",
       "      <td>0</td>\n",
       "      <td>0</td>\n",
       "      <td>0.416046</td>\n",
       "      <td>0.059925</td>\n",
       "      <td>0</td>\n",
       "      <td>0.026992</td>\n",
       "    </tr>\n",
       "    <tr>\n",
       "      <th>6</th>\n",
       "      <td>360292</td>\n",
       "      <td>0.103514</td>\n",
       "      <td>0.121212</td>\n",
       "      <td>0.120936</td>\n",
       "      <td>160.0</td>\n",
       "      <td>1</td>\n",
       "      <td>below_1_year</td>\n",
       "      <td>0</td>\n",
       "      <td>1</td>\n",
       "      <td>-1.462112</td>\n",
       "      <td>0.337079</td>\n",
       "      <td>0</td>\n",
       "      <td>0.000745</td>\n",
       "    </tr>\n",
       "    <tr>\n",
       "      <th>5</th>\n",
       "      <td>233324</td>\n",
       "      <td>0.103514</td>\n",
       "      <td>0.060606</td>\n",
       "      <td>0.103324</td>\n",
       "      <td>152.0</td>\n",
       "      <td>1</td>\n",
       "      <td>below_1_year</td>\n",
       "      <td>0</td>\n",
       "      <td>1</td>\n",
       "      <td>0.692615</td>\n",
       "      <td>0.820225</td>\n",
       "      <td>0</td>\n",
       "      <td>0.000555</td>\n",
       "    </tr>\n",
       "  </tbody>\n",
       "</table>\n",
       "</div>"
      ],
      "text/plain": [
       "       id    gender       age  region_code  policy_sales_channel  driving_license   vehicle_age  vehicle_damage  previously_insured  annual_premium   vintage  response     score\n",
       "7   10483  0.103514  0.696970     0.187782                  26.0                1  below_1_year               0                   0        1.154228  0.258427         0  0.044651\n",
       "0  363109  0.103514  1.000000     0.187782                  26.0                1  below_1_year               0                   0        0.307113  0.000000         1  0.042175\n",
       "2  266823  0.103514  0.636364     0.119531                 156.0                1  below_1_year               0                   0       -1.462112  0.142322         0  0.037691\n",
       "4  312283  0.138635  0.636364     0.120936                 124.0                1  below_1_year               0                   0       -1.462112  0.617978         0  0.033320\n",
       "8   88901  0.103514  0.575758     0.103324                 124.0                1  below_1_year               0                   0        1.084998  0.232210         1  0.031741\n",
       "1  186939  0.103514  0.757576     0.103324                  26.0                1  below_1_year               0                   0        0.188651  0.943820         1  0.030218\n",
       "3  203390  0.138635  0.303030     0.079725                 124.0                1  below_1_year               0                   0        0.542684  1.000000         0  0.029814\n",
       "9  290464  0.103514  0.000000     0.075011                 152.0                1  below_1_year               0                   0        0.416046  0.059925         0  0.026992\n",
       "6  360292  0.103514  0.121212     0.120936                 160.0                1  below_1_year               0                   1       -1.462112  0.337079         0  0.000745\n",
       "5  233324  0.103514  0.060606     0.103324                 152.0                1  below_1_year               0                   1        0.692615  0.820225         0  0.000555"
      ]
     },
     "execution_count": 167,
     "metadata": {},
     "output_type": "execute_result"
    }
   ],
   "source": [
    "d1 = pd.DataFrame( r.json(), columns=r.json()[0].keys() )\n",
    "d1.sort_values( 'score', ascending=False ).head(10)"
   ]
  }
 ],
 "metadata": {
  "kernelspec": {
   "display_name": "Python 3 (ipykernel)",
   "language": "python",
   "name": "python3"
  },
  "language_info": {
   "codemirror_mode": {
    "name": "ipython",
    "version": 3
   },
   "file_extension": ".py",
   "mimetype": "text/x-python",
   "name": "python",
   "nbconvert_exporter": "python",
   "pygments_lexer": "ipython3",
   "version": "3.9.7"
  }
 },
 "nbformat": 4,
 "nbformat_minor": 5
}
