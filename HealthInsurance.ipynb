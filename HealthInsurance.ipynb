{
 "cells": [
  {
   "cell_type": "markdown",
   "id": "484389bf",
   "metadata": {
    "ExecuteTime": {
     "end_time": "2022-02-14T22:34:32.288895Z",
     "start_time": "2022-02-14T22:34:32.272889Z"
    }
   },
   "source": [
    "# 1. Imports"
   ]
  },
  {
   "cell_type": "code",
   "execution_count": 96,
   "id": "052a9682",
   "metadata": {
    "ExecuteTime": {
     "end_time": "2022-02-18T01:43:50.995816Z",
     "start_time": "2022-02-18T01:43:50.983814Z"
    }
   },
   "outputs": [],
   "source": [
    "import psycopg2           as pg\n",
    "import pandas             as pd\n",
    "import numpy              as np\n",
    "import seaborn            as sns\n",
    "import matplotlib.patches as mpatches\n",
    "import scikitplot         as skplt\n",
    "\n",
    "import os \n",
    "\n",
    "from dotenv                  import load_dotenv\n",
    "from IPython.core.display    import HTML\n",
    "from IPython.display         import Image\n",
    "\n",
    "from sklearn.preprocessing   import StandardScaler, MinMaxScaler\n",
    "from sklearn.model_selection import train_test_split\n",
    "from sklearn.ensemble        import ExtraTreesClassifier\n",
    "from sklearn.neighbors       import KNeighborsClassifier\n",
    "from sklearn.linear_model    import LogisticRegression\n",
    "\n",
    "from matplotlib            import pyplot as plt"
   ]
  },
  {
   "cell_type": "markdown",
   "id": "e2281ef1",
   "metadata": {},
   "source": [
    "## 1.1.Helper Functions"
   ]
  },
  {
   "cell_type": "code",
   "execution_count": 2,
   "id": "4563124e",
   "metadata": {
    "ExecuteTime": {
     "end_time": "2022-02-17T23:03:49.317918Z",
     "start_time": "2022-02-17T23:03:49.303846Z"
    }
   },
   "outputs": [],
   "source": [
    "def jupyter_settings():\n",
    "    %matplotlib inline\n",
    "    %pylab inline\n",
    "\n",
    "    plt.style.use( 'bmh' )\n",
    "    plt.rcParams['figure.figsize'] = [20,8]\n",
    "    plt.rcParams['font.size'] = 11\n",
    "\n",
    "    display( HTML( '<style>.container { width:80% !important; }</style>' ) )\n",
    "    pd.options.display.max_columns = None\n",
    "    pd.options.display.max_rows = None\n",
    "    pd.set_option( 'display.expand_frame_repr', False )\n",
    "    pd.set_option( 'display.max_columns', None )\n",
    "\n",
    "    sns.set_style(\"darkgrid\")\n",
    "    sns.set_palette(\"muted\")"
   ]
  },
  {
   "cell_type": "code",
   "execution_count": 3,
   "id": "2361c063",
   "metadata": {
    "ExecuteTime": {
     "end_time": "2022-02-17T23:03:49.332922Z",
     "start_time": "2022-02-17T23:03:49.318919Z"
    }
   },
   "outputs": [
    {
     "name": "stdout",
     "output_type": "stream",
     "text": [
      "Populating the interactive namespace from numpy and matplotlib\n"
     ]
    },
    {
     "data": {
      "text/html": [
       "<style>.container { width:80% !important; }</style>"
      ],
      "text/plain": [
       "<IPython.core.display.HTML object>"
      ]
     },
     "metadata": {},
     "output_type": "display_data"
    }
   ],
   "source": [
    "jupyter_settings()"
   ]
  },
  {
   "cell_type": "markdown",
   "id": "9dfd9ea0",
   "metadata": {
    "heading_collapsed": true
   },
   "source": [
    "## 1.2. Collect Data Using Psycopg2"
   ]
  },
  {
   "cell_type": "code",
   "execution_count": 82,
   "id": "0cb9fffa",
   "metadata": {
    "ExecuteTime": {
     "end_time": "2022-02-16T01:40:03.517537Z",
     "start_time": "2022-02-16T01:40:03.498532Z"
    },
    "hidden": true
   },
   "outputs": [],
   "source": [
    "# DB Credentials\n",
    "load_dotenv()\n",
    "\n",
    "host = os.environ.get( 'host' )\n",
    "port = os.environ.get( 'port' )\n",
    "database = os.environ.get( 'database' )\n",
    "username = os.environ.get( 'user' )\n",
    "pwd = os.environ.get( 'pwd' )"
   ]
  },
  {
   "cell_type": "code",
   "execution_count": 3,
   "id": "4bab5e61",
   "metadata": {
    "ExecuteTime": {
     "end_time": "2022-02-16T00:38:30.740363Z",
     "start_time": "2022-02-16T00:38:29.313898Z"
    },
    "hidden": true
   },
   "outputs": [],
   "source": [
    "# create DB connection\n",
    "conn = pg.connect( user=username,\n",
    "                   password=pwd,\n",
    "                   host=host,\n",
    "                   port=port,\n",
    "                   database=database )"
   ]
  },
  {
   "cell_type": "markdown",
   "id": "c4fa9bb7",
   "metadata": {
    "ExecuteTime": {
     "end_time": "2022-02-14T22:35:02.174886Z",
     "start_time": "2022-02-14T22:35:02.171895Z"
    },
    "heading_collapsed": true,
    "hidden": true
   },
   "source": [
    "### 1.2.1. Schema Query"
   ]
  },
  {
   "cell_type": "code",
   "execution_count": 4,
   "id": "19dfa82d",
   "metadata": {
    "ExecuteTime": {
     "end_time": "2022-02-16T00:38:31.068022Z",
     "start_time": "2022-02-16T00:38:30.741366Z"
    },
    "hidden": true
   },
   "outputs": [
    {
     "data": {
      "text/plain": [
       "[('pg_toast',),\n",
       " ('pg_temp_1',),\n",
       " ('pg_toast_temp_1',),\n",
       " ('pg_catalog',),\n",
       " ('information_schema',),\n",
       " ('public',),\n",
       " ('pa004',),\n",
       " ('pg_temp_4',),\n",
       " ('pg_toast_temp_4',),\n",
       " ('pa005',),\n",
       " ('pg_temp_9',),\n",
       " ('pg_toast_temp_9',)]"
      ]
     },
     "execution_count": 4,
     "metadata": {},
     "output_type": "execute_result"
    }
   ],
   "source": [
    "# create cursor and execute query\n",
    "cursor = conn.cursor()\n",
    "\n",
    "query_schema = \"\"\"\n",
    "    SELECT nspname\n",
    "    FROM pg_catalog.pg_namespace\n",
    "\"\"\"\n",
    "\n",
    "cursor.execute( query_schema )\n",
    "record = cursor.fetchall()\n",
    "record"
   ]
  },
  {
   "cell_type": "markdown",
   "id": "10bd988e",
   "metadata": {
    "heading_collapsed": true,
    "hidden": true
   },
   "source": [
    "### 1.2.2. Tables Query "
   ]
  },
  {
   "cell_type": "code",
   "execution_count": 5,
   "id": "2edb27d4",
   "metadata": {
    "ExecuteTime": {
     "end_time": "2022-02-16T00:38:31.241042Z",
     "start_time": "2022-02-16T00:38:31.069023Z"
    },
    "hidden": true
   },
   "outputs": [
    {
     "data": {
      "text/plain": [
       "[('users',), ('vehicle',), ('insurance',)]"
      ]
     },
     "execution_count": 5,
     "metadata": {},
     "output_type": "execute_result"
    }
   ],
   "source": [
    "# create cursor and execute query\n",
    "cursor = conn.cursor()\n",
    "\n",
    "query_tables = \"\"\"\n",
    "    SELECT tablename\n",
    "    FROM pg_tables\n",
    "    WHERE schemaname='pa004'\n",
    "\"\"\"\n",
    "\n",
    "cursor.execute( query_tables )\n",
    "record = cursor.fetchall()\n",
    "record"
   ]
  },
  {
   "cell_type": "markdown",
   "id": "6b1b83b9",
   "metadata": {
    "heading_collapsed": true,
    "hidden": true
   },
   "source": [
    "### 1.2.3. Collect Data"
   ]
  },
  {
   "cell_type": "code",
   "execution_count": 6,
   "id": "d3224e29",
   "metadata": {
    "ExecuteTime": {
     "end_time": "2022-02-16T00:38:31.572019Z",
     "start_time": "2022-02-16T00:38:31.397329Z"
    },
    "hidden": true
   },
   "outputs": [
    {
     "data": {
      "text/plain": [
       "[(1, 'Male', 44, 28.0, 26.0),\n",
       " (2, 'Male', 76, 3.0, 26.0),\n",
       " (3, 'Male', 47, 28.0, 26.0),\n",
       " (4, 'Male', 21, 11.0, 152.0),\n",
       " (5, 'Female', 29, 41.0, 152.0),\n",
       " (6, 'Female', 24, 33.0, 160.0),\n",
       " (7, 'Male', 23, 11.0, 152.0),\n",
       " (8, 'Female', 56, 28.0, 26.0),\n",
       " (9, 'Female', 24, 3.0, 152.0),\n",
       " (10, 'Female', 32, 6.0, 152.0)]"
      ]
     },
     "execution_count": 6,
     "metadata": {},
     "output_type": "execute_result"
    }
   ],
   "source": [
    "# create cursor and execute query\n",
    "cursor = conn.cursor()\n",
    "\n",
    "query_tables_users = \"\"\"\n",
    "    SELECT *\n",
    "    FROM pa004.users u\n",
    "    LIMIT 10\n",
    "\"\"\"\n",
    "\n",
    "cursor.execute( query_tables_users )\n",
    "record = cursor.fetchall()\n",
    "record"
   ]
  },
  {
   "cell_type": "code",
   "execution_count": 7,
   "id": "62952016",
   "metadata": {
    "ExecuteTime": {
     "end_time": "2022-02-16T00:38:31.951058Z",
     "start_time": "2022-02-16T00:38:31.939055Z"
    },
    "hidden": true
   },
   "outputs": [],
   "source": [
    "# close cursor and connection\n",
    "cursor.close()\n",
    "conn.close()"
   ]
  },
  {
   "cell_type": "code",
   "execution_count": 8,
   "id": "426ef482",
   "metadata": {
    "ExecuteTime": {
     "end_time": "2022-02-16T00:38:32.375445Z",
     "start_time": "2022-02-16T00:38:32.346441Z"
    },
    "hidden": true
   },
   "outputs": [
    {
     "data": {
      "text/html": [
       "<div>\n",
       "<style scoped>\n",
       "    .dataframe tbody tr th:only-of-type {\n",
       "        vertical-align: middle;\n",
       "    }\n",
       "\n",
       "    .dataframe tbody tr th {\n",
       "        vertical-align: top;\n",
       "    }\n",
       "\n",
       "    .dataframe thead th {\n",
       "        text-align: right;\n",
       "    }\n",
       "</style>\n",
       "<table border=\"1\" class=\"dataframe\">\n",
       "  <thead>\n",
       "    <tr style=\"text-align: right;\">\n",
       "      <th></th>\n",
       "      <th>0</th>\n",
       "      <th>1</th>\n",
       "      <th>2</th>\n",
       "      <th>3</th>\n",
       "      <th>4</th>\n",
       "    </tr>\n",
       "  </thead>\n",
       "  <tbody>\n",
       "    <tr>\n",
       "      <th>0</th>\n",
       "      <td>1</td>\n",
       "      <td>Male</td>\n",
       "      <td>44</td>\n",
       "      <td>28.0</td>\n",
       "      <td>26.0</td>\n",
       "    </tr>\n",
       "    <tr>\n",
       "      <th>1</th>\n",
       "      <td>2</td>\n",
       "      <td>Male</td>\n",
       "      <td>76</td>\n",
       "      <td>3.0</td>\n",
       "      <td>26.0</td>\n",
       "    </tr>\n",
       "    <tr>\n",
       "      <th>2</th>\n",
       "      <td>3</td>\n",
       "      <td>Male</td>\n",
       "      <td>47</td>\n",
       "      <td>28.0</td>\n",
       "      <td>26.0</td>\n",
       "    </tr>\n",
       "    <tr>\n",
       "      <th>3</th>\n",
       "      <td>4</td>\n",
       "      <td>Male</td>\n",
       "      <td>21</td>\n",
       "      <td>11.0</td>\n",
       "      <td>152.0</td>\n",
       "    </tr>\n",
       "    <tr>\n",
       "      <th>4</th>\n",
       "      <td>5</td>\n",
       "      <td>Female</td>\n",
       "      <td>29</td>\n",
       "      <td>41.0</td>\n",
       "      <td>152.0</td>\n",
       "    </tr>\n",
       "  </tbody>\n",
       "</table>\n",
       "</div>"
      ],
      "text/plain": [
       "   0       1   2     3      4\n",
       "0  1    Male  44  28.0   26.0\n",
       "1  2    Male  76   3.0   26.0\n",
       "2  3    Male  47  28.0   26.0\n",
       "3  4    Male  21  11.0  152.0\n",
       "4  5  Female  29  41.0  152.0"
      ]
     },
     "execution_count": 8,
     "metadata": {},
     "output_type": "execute_result"
    }
   ],
   "source": [
    "# convert to dataframe\n",
    "data = pd.DataFrame( record )\n",
    "data.head()"
   ]
  },
  {
   "cell_type": "markdown",
   "id": "df6151ba",
   "metadata": {
    "heading_collapsed": true
   },
   "source": [
    "## 1.3. Collect Data Using Pandas"
   ]
  },
  {
   "cell_type": "code",
   "execution_count": 39,
   "id": "46f21b59",
   "metadata": {
    "ExecuteTime": {
     "end_time": "2022-02-16T01:13:43.714416Z",
     "start_time": "2022-02-16T01:13:42.465020Z"
    },
    "hidden": true
   },
   "outputs": [],
   "source": [
    "# create DB connection\n",
    "conn = pg.connect( user=username,\n",
    "                   password=pwd,\n",
    "                   host=host,\n",
    "                   port=port,\n",
    "                   database=database )"
   ]
  },
  {
   "cell_type": "code",
   "execution_count": 40,
   "id": "72045cf5",
   "metadata": {
    "ExecuteTime": {
     "end_time": "2022-02-16T01:13:44.026591Z",
     "start_time": "2022-02-16T01:13:43.715419Z"
    },
    "hidden": true
   },
   "outputs": [
    {
     "data": {
      "text/html": [
       "<div>\n",
       "<style scoped>\n",
       "    .dataframe tbody tr th:only-of-type {\n",
       "        vertical-align: middle;\n",
       "    }\n",
       "\n",
       "    .dataframe tbody tr th {\n",
       "        vertical-align: top;\n",
       "    }\n",
       "\n",
       "    .dataframe thead th {\n",
       "        text-align: right;\n",
       "    }\n",
       "</style>\n",
       "<table border=\"1\" class=\"dataframe\">\n",
       "  <thead>\n",
       "    <tr style=\"text-align: right;\">\n",
       "      <th></th>\n",
       "      <th>id</th>\n",
       "      <th>gender</th>\n",
       "      <th>age</th>\n",
       "      <th>region_code</th>\n",
       "      <th>policy_sales_channel</th>\n",
       "    </tr>\n",
       "  </thead>\n",
       "  <tbody>\n",
       "    <tr>\n",
       "      <th>0</th>\n",
       "      <td>1</td>\n",
       "      <td>Male</td>\n",
       "      <td>44</td>\n",
       "      <td>28.0</td>\n",
       "      <td>26.0</td>\n",
       "    </tr>\n",
       "    <tr>\n",
       "      <th>1</th>\n",
       "      <td>2</td>\n",
       "      <td>Male</td>\n",
       "      <td>76</td>\n",
       "      <td>3.0</td>\n",
       "      <td>26.0</td>\n",
       "    </tr>\n",
       "    <tr>\n",
       "      <th>2</th>\n",
       "      <td>3</td>\n",
       "      <td>Male</td>\n",
       "      <td>47</td>\n",
       "      <td>28.0</td>\n",
       "      <td>26.0</td>\n",
       "    </tr>\n",
       "    <tr>\n",
       "      <th>3</th>\n",
       "      <td>4</td>\n",
       "      <td>Male</td>\n",
       "      <td>21</td>\n",
       "      <td>11.0</td>\n",
       "      <td>152.0</td>\n",
       "    </tr>\n",
       "    <tr>\n",
       "      <th>4</th>\n",
       "      <td>5</td>\n",
       "      <td>Female</td>\n",
       "      <td>29</td>\n",
       "      <td>41.0</td>\n",
       "      <td>152.0</td>\n",
       "    </tr>\n",
       "  </tbody>\n",
       "</table>\n",
       "</div>"
      ],
      "text/plain": [
       "   id  gender  age  region_code  policy_sales_channel\n",
       "0   1    Male   44         28.0                  26.0\n",
       "1   2    Male   76          3.0                  26.0\n",
       "2   3    Male   47         28.0                  26.0\n",
       "3   4    Male   21         11.0                 152.0\n",
       "4   5  Female   29         41.0                 152.0"
      ]
     },
     "execution_count": 40,
     "metadata": {},
     "output_type": "execute_result"
    }
   ],
   "source": [
    "# users table query\n",
    "query = \"\"\"\n",
    "    SELECT *\n",
    "    FROM pa004.users\n",
    "    LIMIT 10\n",
    "\"\"\"\n",
    "\n",
    "df = pd.read_sql( query, conn )\n",
    "df.head()"
   ]
  },
  {
   "cell_type": "code",
   "execution_count": 41,
   "id": "2337e87e",
   "metadata": {
    "ExecuteTime": {
     "end_time": "2022-02-16T01:13:44.402018Z",
     "start_time": "2022-02-16T01:13:44.237018Z"
    },
    "hidden": true
   },
   "outputs": [
    {
     "data": {
      "text/html": [
       "<div>\n",
       "<style scoped>\n",
       "    .dataframe tbody tr th:only-of-type {\n",
       "        vertical-align: middle;\n",
       "    }\n",
       "\n",
       "    .dataframe tbody tr th {\n",
       "        vertical-align: top;\n",
       "    }\n",
       "\n",
       "    .dataframe thead th {\n",
       "        text-align: right;\n",
       "    }\n",
       "</style>\n",
       "<table border=\"1\" class=\"dataframe\">\n",
       "  <thead>\n",
       "    <tr style=\"text-align: right;\">\n",
       "      <th></th>\n",
       "      <th>id</th>\n",
       "      <th>driving_license</th>\n",
       "      <th>vehicle_age</th>\n",
       "      <th>vehicle_damage</th>\n",
       "    </tr>\n",
       "  </thead>\n",
       "  <tbody>\n",
       "    <tr>\n",
       "      <th>0</th>\n",
       "      <td>1</td>\n",
       "      <td>1</td>\n",
       "      <td>&gt; 2 Years</td>\n",
       "      <td>Yes</td>\n",
       "    </tr>\n",
       "    <tr>\n",
       "      <th>1</th>\n",
       "      <td>2</td>\n",
       "      <td>1</td>\n",
       "      <td>1-2 Year</td>\n",
       "      <td>No</td>\n",
       "    </tr>\n",
       "    <tr>\n",
       "      <th>2</th>\n",
       "      <td>3</td>\n",
       "      <td>1</td>\n",
       "      <td>&gt; 2 Years</td>\n",
       "      <td>Yes</td>\n",
       "    </tr>\n",
       "    <tr>\n",
       "      <th>3</th>\n",
       "      <td>4</td>\n",
       "      <td>1</td>\n",
       "      <td>&lt; 1 Year</td>\n",
       "      <td>No</td>\n",
       "    </tr>\n",
       "    <tr>\n",
       "      <th>4</th>\n",
       "      <td>5</td>\n",
       "      <td>1</td>\n",
       "      <td>&lt; 1 Year</td>\n",
       "      <td>No</td>\n",
       "    </tr>\n",
       "  </tbody>\n",
       "</table>\n",
       "</div>"
      ],
      "text/plain": [
       "   id  driving_license vehicle_age vehicle_damage\n",
       "0   1                1   > 2 Years            Yes\n",
       "1   2                1    1-2 Year             No\n",
       "2   3                1   > 2 Years            Yes\n",
       "3   4                1    < 1 Year             No\n",
       "4   5                1    < 1 Year             No"
      ]
     },
     "execution_count": 41,
     "metadata": {},
     "output_type": "execute_result"
    }
   ],
   "source": [
    "# vehicle table query\n",
    "query = \"\"\"\n",
    "    SELECT *\n",
    "    FROM pa004.vehicle\n",
    "    LIMIT 10\n",
    "\"\"\"\n",
    "\n",
    "df = pd.read_sql( query, conn )\n",
    "df.head()"
   ]
  },
  {
   "cell_type": "code",
   "execution_count": 42,
   "id": "1022350b",
   "metadata": {
    "ExecuteTime": {
     "end_time": "2022-02-16T01:13:44.949969Z",
     "start_time": "2022-02-16T01:13:44.784017Z"
    },
    "hidden": true
   },
   "outputs": [
    {
     "data": {
      "text/html": [
       "<div>\n",
       "<style scoped>\n",
       "    .dataframe tbody tr th:only-of-type {\n",
       "        vertical-align: middle;\n",
       "    }\n",
       "\n",
       "    .dataframe tbody tr th {\n",
       "        vertical-align: top;\n",
       "    }\n",
       "\n",
       "    .dataframe thead th {\n",
       "        text-align: right;\n",
       "    }\n",
       "</style>\n",
       "<table border=\"1\" class=\"dataframe\">\n",
       "  <thead>\n",
       "    <tr style=\"text-align: right;\">\n",
       "      <th></th>\n",
       "      <th>id</th>\n",
       "      <th>previously_insured</th>\n",
       "      <th>annual_premium</th>\n",
       "      <th>vintage</th>\n",
       "      <th>response</th>\n",
       "    </tr>\n",
       "  </thead>\n",
       "  <tbody>\n",
       "    <tr>\n",
       "      <th>0</th>\n",
       "      <td>1</td>\n",
       "      <td>0</td>\n",
       "      <td>40454.0</td>\n",
       "      <td>217</td>\n",
       "      <td>1</td>\n",
       "    </tr>\n",
       "    <tr>\n",
       "      <th>1</th>\n",
       "      <td>2</td>\n",
       "      <td>0</td>\n",
       "      <td>33536.0</td>\n",
       "      <td>183</td>\n",
       "      <td>0</td>\n",
       "    </tr>\n",
       "    <tr>\n",
       "      <th>2</th>\n",
       "      <td>3</td>\n",
       "      <td>0</td>\n",
       "      <td>38294.0</td>\n",
       "      <td>27</td>\n",
       "      <td>1</td>\n",
       "    </tr>\n",
       "    <tr>\n",
       "      <th>3</th>\n",
       "      <td>4</td>\n",
       "      <td>1</td>\n",
       "      <td>28619.0</td>\n",
       "      <td>203</td>\n",
       "      <td>0</td>\n",
       "    </tr>\n",
       "    <tr>\n",
       "      <th>4</th>\n",
       "      <td>5</td>\n",
       "      <td>1</td>\n",
       "      <td>27496.0</td>\n",
       "      <td>39</td>\n",
       "      <td>0</td>\n",
       "    </tr>\n",
       "  </tbody>\n",
       "</table>\n",
       "</div>"
      ],
      "text/plain": [
       "   id  previously_insured  annual_premium  vintage  response\n",
       "0   1                   0         40454.0      217         1\n",
       "1   2                   0         33536.0      183         0\n",
       "2   3                   0         38294.0       27         1\n",
       "3   4                   1         28619.0      203         0\n",
       "4   5                   1         27496.0       39         0"
      ]
     },
     "execution_count": 42,
     "metadata": {},
     "output_type": "execute_result"
    }
   ],
   "source": [
    "# insurance table query\n",
    "query = \"\"\"\n",
    "    SELECT *\n",
    "    FROM pa004.insurance\n",
    "    LIMIT 10\n",
    "\"\"\"\n",
    "\n",
    "df = pd.read_sql( query, conn )\n",
    "df.head()"
   ]
  },
  {
   "cell_type": "code",
   "execution_count": 43,
   "id": "7fcd3654",
   "metadata": {
    "ExecuteTime": {
     "end_time": "2022-02-16T01:13:55.531281Z",
     "start_time": "2022-02-16T01:13:45.368016Z"
    },
    "hidden": true
   },
   "outputs": [
    {
     "data": {
      "text/html": [
       "<div>\n",
       "<style scoped>\n",
       "    .dataframe tbody tr th:only-of-type {\n",
       "        vertical-align: middle;\n",
       "    }\n",
       "\n",
       "    .dataframe tbody tr th {\n",
       "        vertical-align: top;\n",
       "    }\n",
       "\n",
       "    .dataframe thead th {\n",
       "        text-align: right;\n",
       "    }\n",
       "</style>\n",
       "<table border=\"1\" class=\"dataframe\">\n",
       "  <thead>\n",
       "    <tr style=\"text-align: right;\">\n",
       "      <th></th>\n",
       "      <th>id</th>\n",
       "      <th>gender</th>\n",
       "      <th>age</th>\n",
       "      <th>region_code</th>\n",
       "      <th>policy_sales_channel</th>\n",
       "      <th>id</th>\n",
       "      <th>driving_license</th>\n",
       "      <th>vehicle_age</th>\n",
       "      <th>vehicle_damage</th>\n",
       "      <th>id</th>\n",
       "      <th>previously_insured</th>\n",
       "      <th>annual_premium</th>\n",
       "      <th>vintage</th>\n",
       "      <th>response</th>\n",
       "    </tr>\n",
       "  </thead>\n",
       "  <tbody>\n",
       "    <tr>\n",
       "      <th>0</th>\n",
       "      <td>7</td>\n",
       "      <td>Male</td>\n",
       "      <td>23</td>\n",
       "      <td>11.0</td>\n",
       "      <td>152.0</td>\n",
       "      <td>7</td>\n",
       "      <td>1</td>\n",
       "      <td>&lt; 1 Year</td>\n",
       "      <td>Yes</td>\n",
       "      <td>7</td>\n",
       "      <td>0</td>\n",
       "      <td>23367.0</td>\n",
       "      <td>249</td>\n",
       "      <td>0</td>\n",
       "    </tr>\n",
       "    <tr>\n",
       "      <th>1</th>\n",
       "      <td>13</td>\n",
       "      <td>Female</td>\n",
       "      <td>41</td>\n",
       "      <td>15.0</td>\n",
       "      <td>14.0</td>\n",
       "      <td>13</td>\n",
       "      <td>1</td>\n",
       "      <td>1-2 Year</td>\n",
       "      <td>No</td>\n",
       "      <td>13</td>\n",
       "      <td>1</td>\n",
       "      <td>31409.0</td>\n",
       "      <td>221</td>\n",
       "      <td>0</td>\n",
       "    </tr>\n",
       "    <tr>\n",
       "      <th>2</th>\n",
       "      <td>18</td>\n",
       "      <td>Female</td>\n",
       "      <td>25</td>\n",
       "      <td>35.0</td>\n",
       "      <td>152.0</td>\n",
       "      <td>18</td>\n",
       "      <td>1</td>\n",
       "      <td>&lt; 1 Year</td>\n",
       "      <td>No</td>\n",
       "      <td>18</td>\n",
       "      <td>1</td>\n",
       "      <td>46622.0</td>\n",
       "      <td>299</td>\n",
       "      <td>0</td>\n",
       "    </tr>\n",
       "    <tr>\n",
       "      <th>3</th>\n",
       "      <td>31</td>\n",
       "      <td>Female</td>\n",
       "      <td>26</td>\n",
       "      <td>8.0</td>\n",
       "      <td>160.0</td>\n",
       "      <td>31</td>\n",
       "      <td>1</td>\n",
       "      <td>&lt; 1 Year</td>\n",
       "      <td>No</td>\n",
       "      <td>31</td>\n",
       "      <td>0</td>\n",
       "      <td>2630.0</td>\n",
       "      <td>136</td>\n",
       "      <td>0</td>\n",
       "    </tr>\n",
       "    <tr>\n",
       "      <th>4</th>\n",
       "      <td>39</td>\n",
       "      <td>Male</td>\n",
       "      <td>45</td>\n",
       "      <td>8.0</td>\n",
       "      <td>124.0</td>\n",
       "      <td>39</td>\n",
       "      <td>1</td>\n",
       "      <td>1-2 Year</td>\n",
       "      <td>Yes</td>\n",
       "      <td>39</td>\n",
       "      <td>0</td>\n",
       "      <td>42297.0</td>\n",
       "      <td>264</td>\n",
       "      <td>0</td>\n",
       "    </tr>\n",
       "  </tbody>\n",
       "</table>\n",
       "</div>"
      ],
      "text/plain": [
       "   id  gender  age  region_code  policy_sales_channel  id  driving_license  \\\n",
       "0   7    Male   23         11.0                 152.0   7                1   \n",
       "1  13  Female   41         15.0                  14.0  13                1   \n",
       "2  18  Female   25         35.0                 152.0  18                1   \n",
       "3  31  Female   26          8.0                 160.0  31                1   \n",
       "4  39    Male   45          8.0                 124.0  39                1   \n",
       "\n",
       "  vehicle_age vehicle_damage  id  previously_insured  annual_premium  vintage  \\\n",
       "0    < 1 Year            Yes   7                   0         23367.0      249   \n",
       "1    1-2 Year             No  13                   1         31409.0      221   \n",
       "2    < 1 Year             No  18                   1         46622.0      299   \n",
       "3    < 1 Year             No  31                   0          2630.0      136   \n",
       "4    1-2 Year            Yes  39                   0         42297.0      264   \n",
       "\n",
       "   response  \n",
       "0         0  \n",
       "1         0  \n",
       "2         0  \n",
       "3         0  \n",
       "4         0  "
      ]
     },
     "execution_count": 43,
     "metadata": {},
     "output_type": "execute_result"
    }
   ],
   "source": [
    "# join tables\n",
    "query = \"\"\"\n",
    "    SELECT *\n",
    "    FROM pa004.users u LEFT JOIN pa004.vehicle v ON ( u.id = v.id )\n",
    "                       LEFT JOIN pa004.insurance i ON ( u.id = i.id )\n",
    "\"\"\"\n",
    "\n",
    "df_raw = pd.read_sql( query, conn )\n",
    "df_raw.head()"
   ]
  },
  {
   "cell_type": "code",
   "execution_count": 44,
   "id": "91721d81",
   "metadata": {
    "ExecuteTime": {
     "end_time": "2022-02-16T01:13:55.547097Z",
     "start_time": "2022-02-16T01:13:55.532282Z"
    },
    "hidden": true
   },
   "outputs": [],
   "source": [
    "# close cursor and connection\n",
    "cursor.close()\n",
    "conn.close()"
   ]
  },
  {
   "cell_type": "code",
   "execution_count": 45,
   "id": "59d659ad",
   "metadata": {
    "ExecuteTime": {
     "end_time": "2022-02-16T01:13:59.148517Z",
     "start_time": "2022-02-16T01:13:57.771026Z"
    },
    "hidden": true,
    "scrolled": false
   },
   "outputs": [],
   "source": [
    "# saving dataset\n",
    "df_raw = df_raw.loc[:,~df_raw.columns.duplicated()]\n",
    "df_raw.to_csv(\"./data/data.csv\", encoding='utf-8', index=False)"
   ]
  },
  {
   "cell_type": "markdown",
   "id": "7f435b6a",
   "metadata": {},
   "source": [
    "## 1.4. Loading Data "
   ]
  },
  {
   "cell_type": "code",
   "execution_count": 4,
   "id": "2ef9bd05",
   "metadata": {
    "ExecuteTime": {
     "end_time": "2022-02-17T23:04:15.756276Z",
     "start_time": "2022-02-17T23:04:15.387192Z"
    }
   },
   "outputs": [
    {
     "data": {
      "text/html": [
       "<div>\n",
       "<style scoped>\n",
       "    .dataframe tbody tr th:only-of-type {\n",
       "        vertical-align: middle;\n",
       "    }\n",
       "\n",
       "    .dataframe tbody tr th {\n",
       "        vertical-align: top;\n",
       "    }\n",
       "\n",
       "    .dataframe thead th {\n",
       "        text-align: right;\n",
       "    }\n",
       "</style>\n",
       "<table border=\"1\" class=\"dataframe\">\n",
       "  <thead>\n",
       "    <tr style=\"text-align: right;\">\n",
       "      <th></th>\n",
       "      <th>id</th>\n",
       "      <th>gender</th>\n",
       "      <th>age</th>\n",
       "      <th>region_code</th>\n",
       "      <th>policy_sales_channel</th>\n",
       "      <th>driving_license</th>\n",
       "      <th>vehicle_age</th>\n",
       "      <th>vehicle_damage</th>\n",
       "      <th>previously_insured</th>\n",
       "      <th>annual_premium</th>\n",
       "      <th>vintage</th>\n",
       "      <th>response</th>\n",
       "    </tr>\n",
       "  </thead>\n",
       "  <tbody>\n",
       "    <tr>\n",
       "      <th>0</th>\n",
       "      <td>7</td>\n",
       "      <td>Male</td>\n",
       "      <td>23</td>\n",
       "      <td>11.0</td>\n",
       "      <td>152.0</td>\n",
       "      <td>1</td>\n",
       "      <td>&lt; 1 Year</td>\n",
       "      <td>Yes</td>\n",
       "      <td>0</td>\n",
       "      <td>23367.0</td>\n",
       "      <td>249</td>\n",
       "      <td>0</td>\n",
       "    </tr>\n",
       "    <tr>\n",
       "      <th>1</th>\n",
       "      <td>13</td>\n",
       "      <td>Female</td>\n",
       "      <td>41</td>\n",
       "      <td>15.0</td>\n",
       "      <td>14.0</td>\n",
       "      <td>1</td>\n",
       "      <td>1-2 Year</td>\n",
       "      <td>No</td>\n",
       "      <td>1</td>\n",
       "      <td>31409.0</td>\n",
       "      <td>221</td>\n",
       "      <td>0</td>\n",
       "    </tr>\n",
       "    <tr>\n",
       "      <th>2</th>\n",
       "      <td>18</td>\n",
       "      <td>Female</td>\n",
       "      <td>25</td>\n",
       "      <td>35.0</td>\n",
       "      <td>152.0</td>\n",
       "      <td>1</td>\n",
       "      <td>&lt; 1 Year</td>\n",
       "      <td>No</td>\n",
       "      <td>1</td>\n",
       "      <td>46622.0</td>\n",
       "      <td>299</td>\n",
       "      <td>0</td>\n",
       "    </tr>\n",
       "    <tr>\n",
       "      <th>3</th>\n",
       "      <td>31</td>\n",
       "      <td>Female</td>\n",
       "      <td>26</td>\n",
       "      <td>8.0</td>\n",
       "      <td>160.0</td>\n",
       "      <td>1</td>\n",
       "      <td>&lt; 1 Year</td>\n",
       "      <td>No</td>\n",
       "      <td>0</td>\n",
       "      <td>2630.0</td>\n",
       "      <td>136</td>\n",
       "      <td>0</td>\n",
       "    </tr>\n",
       "    <tr>\n",
       "      <th>4</th>\n",
       "      <td>39</td>\n",
       "      <td>Male</td>\n",
       "      <td>45</td>\n",
       "      <td>8.0</td>\n",
       "      <td>124.0</td>\n",
       "      <td>1</td>\n",
       "      <td>1-2 Year</td>\n",
       "      <td>Yes</td>\n",
       "      <td>0</td>\n",
       "      <td>42297.0</td>\n",
       "      <td>264</td>\n",
       "      <td>0</td>\n",
       "    </tr>\n",
       "  </tbody>\n",
       "</table>\n",
       "</div>"
      ],
      "text/plain": [
       "   id  gender  age  region_code  policy_sales_channel  driving_license vehicle_age vehicle_damage  previously_insured  annual_premium  vintage  response\n",
       "0   7    Male   23         11.0                 152.0                1    < 1 Year            Yes                   0         23367.0      249         0\n",
       "1  13  Female   41         15.0                  14.0                1    1-2 Year             No                   1         31409.0      221         0\n",
       "2  18  Female   25         35.0                 152.0                1    < 1 Year             No                   1         46622.0      299         0\n",
       "3  31  Female   26          8.0                 160.0                1    < 1 Year             No                   0          2630.0      136         0\n",
       "4  39    Male   45          8.0                 124.0                1    1-2 Year            Yes                   0         42297.0      264         0"
      ]
     },
     "execution_count": 4,
     "metadata": {},
     "output_type": "execute_result"
    }
   ],
   "source": [
    "df1 = pd.read_csv( 'data/data.csv')\n",
    "df1.head()"
   ]
  },
  {
   "cell_type": "markdown",
   "id": "0d1f4b90",
   "metadata": {},
   "source": [
    "# 2. Data Description"
   ]
  },
  {
   "cell_type": "code",
   "execution_count": 5,
   "id": "a3e08d16",
   "metadata": {
    "ExecuteTime": {
     "end_time": "2022-02-17T23:04:15.772279Z",
     "start_time": "2022-02-17T23:04:15.758276Z"
    }
   },
   "outputs": [],
   "source": [
    "df2 = df1.copy()"
   ]
  },
  {
   "cell_type": "markdown",
   "id": "710ad4c0",
   "metadata": {},
   "source": [
    "## 2.1. Renaming Columns"
   ]
  },
  {
   "cell_type": "code",
   "execution_count": 6,
   "id": "7017f483",
   "metadata": {
    "ExecuteTime": {
     "end_time": "2022-02-17T23:04:15.788283Z",
     "start_time": "2022-02-17T23:04:15.774280Z"
    }
   },
   "outputs": [
    {
     "data": {
      "text/plain": [
       "Index(['id', 'gender', 'age', 'region_code', 'policy_sales_channel',\n",
       "       'driving_license', 'vehicle_age', 'vehicle_damage',\n",
       "       'previously_insured', 'annual_premium', 'vintage', 'response'],\n",
       "      dtype='object')"
      ]
     },
     "execution_count": 6,
     "metadata": {},
     "output_type": "execute_result"
    }
   ],
   "source": [
    "# to lower case\n",
    "cols_new = df2.columns.str.lower()\n",
    "\n",
    "# rename columns\n",
    "df2.columns = cols_new\n",
    "df2.columns"
   ]
  },
  {
   "cell_type": "markdown",
   "id": "735817e1",
   "metadata": {},
   "source": [
    "## 2.2. Data Dimensions"
   ]
  },
  {
   "cell_type": "code",
   "execution_count": 7,
   "id": "8eabdd53",
   "metadata": {
    "ExecuteTime": {
     "end_time": "2022-02-17T23:04:15.804286Z",
     "start_time": "2022-02-17T23:04:15.790284Z"
    }
   },
   "outputs": [
    {
     "name": "stdout",
     "output_type": "stream",
     "text": [
      "Number of rows: 381109\n",
      "Number of columns: 12\n"
     ]
    }
   ],
   "source": [
    "print( f'Number of rows: {df2.shape[0]}'  )\n",
    "print( f'Number of columns: {df2.shape[1]}'  )"
   ]
  },
  {
   "cell_type": "markdown",
   "id": "ae2747ae",
   "metadata": {},
   "source": [
    "## 2.3. Data Types"
   ]
  },
  {
   "cell_type": "code",
   "execution_count": 8,
   "id": "147a079b",
   "metadata": {
    "ExecuteTime": {
     "end_time": "2022-02-17T23:04:15.820289Z",
     "start_time": "2022-02-17T23:04:15.805286Z"
    }
   },
   "outputs": [
    {
     "data": {
      "text/plain": [
       "id                        int64\n",
       "gender                   object\n",
       "age                       int64\n",
       "region_code             float64\n",
       "policy_sales_channel    float64\n",
       "driving_license           int64\n",
       "vehicle_age              object\n",
       "vehicle_damage           object\n",
       "previously_insured        int64\n",
       "annual_premium          float64\n",
       "vintage                   int64\n",
       "response                  int64\n",
       "dtype: object"
      ]
     },
     "execution_count": 8,
     "metadata": {},
     "output_type": "execute_result"
    }
   ],
   "source": [
    "df2.dtypes "
   ]
  },
  {
   "cell_type": "markdown",
   "id": "ba54a7c3",
   "metadata": {},
   "source": [
    "## 2.4. Check NA"
   ]
  },
  {
   "cell_type": "code",
   "execution_count": 9,
   "id": "87b7887f",
   "metadata": {
    "ExecuteTime": {
     "end_time": "2022-02-17T23:04:15.868300Z",
     "start_time": "2022-02-17T23:04:15.821290Z"
    }
   },
   "outputs": [
    {
     "data": {
      "text/plain": [
       "id                      0\n",
       "gender                  0\n",
       "age                     0\n",
       "region_code             0\n",
       "policy_sales_channel    0\n",
       "driving_license         0\n",
       "vehicle_age             0\n",
       "vehicle_damage          0\n",
       "previously_insured      0\n",
       "annual_premium          0\n",
       "vintage                 0\n",
       "response                0\n",
       "dtype: int64"
      ]
     },
     "execution_count": 9,
     "metadata": {},
     "output_type": "execute_result"
    }
   ],
   "source": [
    "df2.isna().sum()"
   ]
  },
  {
   "cell_type": "markdown",
   "id": "6e615195",
   "metadata": {},
   "source": [
    "## 2.5. Descriptive Statistics"
   ]
  },
  {
   "cell_type": "markdown",
   "id": "5eb4d8e5",
   "metadata": {},
   "source": [
    "### 2.5.1. Numerical Attributes"
   ]
  },
  {
   "cell_type": "code",
   "execution_count": 10,
   "id": "84acf221",
   "metadata": {
    "ExecuteTime": {
     "end_time": "2022-02-17T23:04:15.899679Z",
     "start_time": "2022-02-17T23:04:15.868300Z"
    }
   },
   "outputs": [
    {
     "data": {
      "text/html": [
       "<div>\n",
       "<style scoped>\n",
       "    .dataframe tbody tr th:only-of-type {\n",
       "        vertical-align: middle;\n",
       "    }\n",
       "\n",
       "    .dataframe tbody tr th {\n",
       "        vertical-align: top;\n",
       "    }\n",
       "\n",
       "    .dataframe thead th {\n",
       "        text-align: right;\n",
       "    }\n",
       "</style>\n",
       "<table border=\"1\" class=\"dataframe\">\n",
       "  <thead>\n",
       "    <tr style=\"text-align: right;\">\n",
       "      <th></th>\n",
       "      <th>id</th>\n",
       "      <th>age</th>\n",
       "      <th>region_code</th>\n",
       "      <th>policy_sales_channel</th>\n",
       "      <th>driving_license</th>\n",
       "      <th>previously_insured</th>\n",
       "      <th>annual_premium</th>\n",
       "      <th>vintage</th>\n",
       "      <th>response</th>\n",
       "    </tr>\n",
       "  </thead>\n",
       "  <tbody>\n",
       "    <tr>\n",
       "      <th>0</th>\n",
       "      <td>7</td>\n",
       "      <td>23</td>\n",
       "      <td>11.0</td>\n",
       "      <td>152.0</td>\n",
       "      <td>1</td>\n",
       "      <td>0</td>\n",
       "      <td>23367.0</td>\n",
       "      <td>249</td>\n",
       "      <td>0</td>\n",
       "    </tr>\n",
       "    <tr>\n",
       "      <th>1</th>\n",
       "      <td>13</td>\n",
       "      <td>41</td>\n",
       "      <td>15.0</td>\n",
       "      <td>14.0</td>\n",
       "      <td>1</td>\n",
       "      <td>1</td>\n",
       "      <td>31409.0</td>\n",
       "      <td>221</td>\n",
       "      <td>0</td>\n",
       "    </tr>\n",
       "    <tr>\n",
       "      <th>2</th>\n",
       "      <td>18</td>\n",
       "      <td>25</td>\n",
       "      <td>35.0</td>\n",
       "      <td>152.0</td>\n",
       "      <td>1</td>\n",
       "      <td>1</td>\n",
       "      <td>46622.0</td>\n",
       "      <td>299</td>\n",
       "      <td>0</td>\n",
       "    </tr>\n",
       "    <tr>\n",
       "      <th>3</th>\n",
       "      <td>31</td>\n",
       "      <td>26</td>\n",
       "      <td>8.0</td>\n",
       "      <td>160.0</td>\n",
       "      <td>1</td>\n",
       "      <td>0</td>\n",
       "      <td>2630.0</td>\n",
       "      <td>136</td>\n",
       "      <td>0</td>\n",
       "    </tr>\n",
       "    <tr>\n",
       "      <th>4</th>\n",
       "      <td>39</td>\n",
       "      <td>45</td>\n",
       "      <td>8.0</td>\n",
       "      <td>124.0</td>\n",
       "      <td>1</td>\n",
       "      <td>0</td>\n",
       "      <td>42297.0</td>\n",
       "      <td>264</td>\n",
       "      <td>0</td>\n",
       "    </tr>\n",
       "  </tbody>\n",
       "</table>\n",
       "</div>"
      ],
      "text/plain": [
       "   id  age  region_code  policy_sales_channel  driving_license  previously_insured  annual_premium  vintage  response\n",
       "0   7   23         11.0                 152.0                1                   0         23367.0      249         0\n",
       "1  13   41         15.0                  14.0                1                   1         31409.0      221         0\n",
       "2  18   25         35.0                 152.0                1                   1         46622.0      299         0\n",
       "3  31   26          8.0                 160.0                1                   0          2630.0      136         0\n",
       "4  39   45          8.0                 124.0                1                   0         42297.0      264         0"
      ]
     },
     "execution_count": 10,
     "metadata": {},
     "output_type": "execute_result"
    }
   ],
   "source": [
    "# dataset with only numerical attributes\n",
    "num_attributes = df2.select_dtypes( include=[ 'int64', 'float64' ] )\n",
    "num_attributes.head()"
   ]
  },
  {
   "cell_type": "code",
   "execution_count": 11,
   "id": "f3cfcbe0",
   "metadata": {
    "ExecuteTime": {
     "end_time": "2022-02-17T23:04:16.516454Z",
     "start_time": "2022-02-17T23:04:15.901313Z"
    }
   },
   "outputs": [
    {
     "data": {
      "text/html": [
       "<div>\n",
       "<style scoped>\n",
       "    .dataframe tbody tr th:only-of-type {\n",
       "        vertical-align: middle;\n",
       "    }\n",
       "\n",
       "    .dataframe tbody tr th {\n",
       "        vertical-align: top;\n",
       "    }\n",
       "\n",
       "    .dataframe thead th {\n",
       "        text-align: right;\n",
       "    }\n",
       "</style>\n",
       "<table border=\"1\" class=\"dataframe\">\n",
       "  <thead>\n",
       "    <tr style=\"text-align: right;\">\n",
       "      <th></th>\n",
       "      <th>attributes</th>\n",
       "      <th>min</th>\n",
       "      <th>max</th>\n",
       "      <th>range</th>\n",
       "      <th>mean</th>\n",
       "      <th>median</th>\n",
       "      <th>std</th>\n",
       "      <th>skew</th>\n",
       "      <th>kurtosis</th>\n",
       "    </tr>\n",
       "  </thead>\n",
       "  <tbody>\n",
       "    <tr>\n",
       "      <th>0</th>\n",
       "      <td>id</td>\n",
       "      <td>1.0</td>\n",
       "      <td>381109.0</td>\n",
       "      <td>381108.0</td>\n",
       "      <td>190555.000000</td>\n",
       "      <td>190555.0</td>\n",
       "      <td>110016.691870</td>\n",
       "      <td>-8.071174e-18</td>\n",
       "      <td>-1.200000</td>\n",
       "    </tr>\n",
       "    <tr>\n",
       "      <th>1</th>\n",
       "      <td>age</td>\n",
       "      <td>20.0</td>\n",
       "      <td>85.0</td>\n",
       "      <td>65.0</td>\n",
       "      <td>38.822584</td>\n",
       "      <td>36.0</td>\n",
       "      <td>15.511591</td>\n",
       "      <td>6.725390e-01</td>\n",
       "      <td>-0.565655</td>\n",
       "    </tr>\n",
       "    <tr>\n",
       "      <th>2</th>\n",
       "      <td>region_code</td>\n",
       "      <td>0.0</td>\n",
       "      <td>52.0</td>\n",
       "      <td>52.0</td>\n",
       "      <td>26.388807</td>\n",
       "      <td>28.0</td>\n",
       "      <td>13.229871</td>\n",
       "      <td>-1.152664e-01</td>\n",
       "      <td>-0.867857</td>\n",
       "    </tr>\n",
       "    <tr>\n",
       "      <th>3</th>\n",
       "      <td>policy_sales_channel</td>\n",
       "      <td>1.0</td>\n",
       "      <td>163.0</td>\n",
       "      <td>162.0</td>\n",
       "      <td>112.034295</td>\n",
       "      <td>133.0</td>\n",
       "      <td>54.203924</td>\n",
       "      <td>-9.000081e-01</td>\n",
       "      <td>-0.970810</td>\n",
       "    </tr>\n",
       "    <tr>\n",
       "      <th>4</th>\n",
       "      <td>driving_license</td>\n",
       "      <td>0.0</td>\n",
       "      <td>1.0</td>\n",
       "      <td>1.0</td>\n",
       "      <td>0.997869</td>\n",
       "      <td>1.0</td>\n",
       "      <td>0.046109</td>\n",
       "      <td>-2.159518e+01</td>\n",
       "      <td>464.354302</td>\n",
       "    </tr>\n",
       "    <tr>\n",
       "      <th>5</th>\n",
       "      <td>previously_insured</td>\n",
       "      <td>0.0</td>\n",
       "      <td>1.0</td>\n",
       "      <td>1.0</td>\n",
       "      <td>0.458210</td>\n",
       "      <td>0.0</td>\n",
       "      <td>0.498251</td>\n",
       "      <td>1.677471e-01</td>\n",
       "      <td>-1.971871</td>\n",
       "    </tr>\n",
       "    <tr>\n",
       "      <th>6</th>\n",
       "      <td>annual_premium</td>\n",
       "      <td>2630.0</td>\n",
       "      <td>540165.0</td>\n",
       "      <td>537535.0</td>\n",
       "      <td>30564.389581</td>\n",
       "      <td>31669.0</td>\n",
       "      <td>17213.132474</td>\n",
       "      <td>1.766087e+00</td>\n",
       "      <td>34.004569</td>\n",
       "    </tr>\n",
       "    <tr>\n",
       "      <th>7</th>\n",
       "      <td>vintage</td>\n",
       "      <td>10.0</td>\n",
       "      <td>299.0</td>\n",
       "      <td>289.0</td>\n",
       "      <td>154.347397</td>\n",
       "      <td>154.0</td>\n",
       "      <td>83.671194</td>\n",
       "      <td>3.029517e-03</td>\n",
       "      <td>-1.200688</td>\n",
       "    </tr>\n",
       "    <tr>\n",
       "      <th>8</th>\n",
       "      <td>response</td>\n",
       "      <td>0.0</td>\n",
       "      <td>1.0</td>\n",
       "      <td>1.0</td>\n",
       "      <td>0.122563</td>\n",
       "      <td>0.0</td>\n",
       "      <td>0.327935</td>\n",
       "      <td>2.301906e+00</td>\n",
       "      <td>3.298788</td>\n",
       "    </tr>\n",
       "  </tbody>\n",
       "</table>\n",
       "</div>"
      ],
      "text/plain": [
       "             attributes     min       max     range           mean    median            std          skew    kurtosis\n",
       "0                    id     1.0  381109.0  381108.0  190555.000000  190555.0  110016.691870 -8.071174e-18   -1.200000\n",
       "1                   age    20.0      85.0      65.0      38.822584      36.0      15.511591  6.725390e-01   -0.565655\n",
       "2           region_code     0.0      52.0      52.0      26.388807      28.0      13.229871 -1.152664e-01   -0.867857\n",
       "3  policy_sales_channel     1.0     163.0     162.0     112.034295     133.0      54.203924 -9.000081e-01   -0.970810\n",
       "4       driving_license     0.0       1.0       1.0       0.997869       1.0       0.046109 -2.159518e+01  464.354302\n",
       "5    previously_insured     0.0       1.0       1.0       0.458210       0.0       0.498251  1.677471e-01   -1.971871\n",
       "6        annual_premium  2630.0  540165.0  537535.0   30564.389581   31669.0   17213.132474  1.766087e+00   34.004569\n",
       "7               vintage    10.0     299.0     289.0     154.347397     154.0      83.671194  3.029517e-03   -1.200688\n",
       "8              response     0.0       1.0       1.0       0.122563       0.0       0.327935  2.301906e+00    3.298788"
      ]
     },
     "execution_count": 11,
     "metadata": {},
     "output_type": "execute_result"
    }
   ],
   "source": [
    "# Central Tendency\n",
    "_mean = pd.DataFrame(num_attributes.apply(np.mean)).T\n",
    "_median = pd.DataFrame(num_attributes.apply(np.median)).T\n",
    "\n",
    "# Dispersion\n",
    "_min = pd.DataFrame(num_attributes.apply(min)).T\n",
    "_max = pd.DataFrame(num_attributes.apply(max)).T\n",
    "_range = pd.DataFrame(num_attributes.apply(lambda x: x.max() - x.min())).T\n",
    "_std = pd.DataFrame(num_attributes.apply(np.std)).T\n",
    "_skew = pd.DataFrame(num_attributes.apply(lambda x: x.skew())).T\n",
    "_kurtosis = pd.DataFrame(num_attributes.apply(lambda x: x.kurtosis())).T\n",
    "\n",
    "# concatenate\n",
    "summary = pd.concat([_min, _max, _range, _mean, _median, _std, _skew, _kurtosis]).T.reset_index()\n",
    "summary.columns = ['attributes','min','max','range','mean','median','std','skew','kurtosis']\n",
    "summary"
   ]
  },
  {
   "cell_type": "markdown",
   "id": "b771603e",
   "metadata": {},
   "source": [
    "* Although \"driving_license\", \"previously_insured\" and \"response\" have numerical values, they are considered as categorical attributes, because the numbers represent categories."
   ]
  },
  {
   "cell_type": "markdown",
   "id": "17d10b56",
   "metadata": {},
   "source": [
    "### 2.5.2 Categorical Attributes"
   ]
  },
  {
   "cell_type": "code",
   "execution_count": 12,
   "id": "1f44005a",
   "metadata": {
    "ExecuteTime": {
     "end_time": "2022-02-17T23:04:16.532459Z",
     "start_time": "2022-02-17T23:04:16.517454Z"
    }
   },
   "outputs": [
    {
     "data": {
      "text/html": [
       "<div>\n",
       "<style scoped>\n",
       "    .dataframe tbody tr th:only-of-type {\n",
       "        vertical-align: middle;\n",
       "    }\n",
       "\n",
       "    .dataframe tbody tr th {\n",
       "        vertical-align: top;\n",
       "    }\n",
       "\n",
       "    .dataframe thead th {\n",
       "        text-align: right;\n",
       "    }\n",
       "</style>\n",
       "<table border=\"1\" class=\"dataframe\">\n",
       "  <thead>\n",
       "    <tr style=\"text-align: right;\">\n",
       "      <th></th>\n",
       "      <th>gender</th>\n",
       "      <th>vehicle_age</th>\n",
       "      <th>vehicle_damage</th>\n",
       "      <th>driving_license</th>\n",
       "      <th>previously_insured</th>\n",
       "      <th>response</th>\n",
       "    </tr>\n",
       "  </thead>\n",
       "  <tbody>\n",
       "    <tr>\n",
       "      <th>0</th>\n",
       "      <td>Male</td>\n",
       "      <td>&lt; 1 Year</td>\n",
       "      <td>Yes</td>\n",
       "      <td>1</td>\n",
       "      <td>0</td>\n",
       "      <td>0</td>\n",
       "    </tr>\n",
       "    <tr>\n",
       "      <th>1</th>\n",
       "      <td>Female</td>\n",
       "      <td>1-2 Year</td>\n",
       "      <td>No</td>\n",
       "      <td>1</td>\n",
       "      <td>1</td>\n",
       "      <td>0</td>\n",
       "    </tr>\n",
       "    <tr>\n",
       "      <th>2</th>\n",
       "      <td>Female</td>\n",
       "      <td>&lt; 1 Year</td>\n",
       "      <td>No</td>\n",
       "      <td>1</td>\n",
       "      <td>1</td>\n",
       "      <td>0</td>\n",
       "    </tr>\n",
       "    <tr>\n",
       "      <th>3</th>\n",
       "      <td>Female</td>\n",
       "      <td>&lt; 1 Year</td>\n",
       "      <td>No</td>\n",
       "      <td>1</td>\n",
       "      <td>0</td>\n",
       "      <td>0</td>\n",
       "    </tr>\n",
       "    <tr>\n",
       "      <th>4</th>\n",
       "      <td>Male</td>\n",
       "      <td>1-2 Year</td>\n",
       "      <td>Yes</td>\n",
       "      <td>1</td>\n",
       "      <td>0</td>\n",
       "      <td>0</td>\n",
       "    </tr>\n",
       "  </tbody>\n",
       "</table>\n",
       "</div>"
      ],
      "text/plain": [
       "   gender vehicle_age vehicle_damage  driving_license  previously_insured  response\n",
       "0    Male    < 1 Year            Yes                1                   0         0\n",
       "1  Female    1-2 Year             No                1                   1         0\n",
       "2  Female    < 1 Year             No                1                   1         0\n",
       "3  Female    < 1 Year             No                1                   0         0\n",
       "4    Male    1-2 Year            Yes                1                   0         0"
      ]
     },
     "execution_count": 12,
     "metadata": {},
     "output_type": "execute_result"
    }
   ],
   "source": [
    "cat_attributes = df2[['gender', 'vehicle_age', 'vehicle_damage', 'driving_license', 'previously_insured', 'response']]\n",
    "cat_attributes.head()"
   ]
  },
  {
   "cell_type": "code",
   "execution_count": 13,
   "id": "605a95a0",
   "metadata": {
    "ExecuteTime": {
     "end_time": "2022-02-17T23:04:16.596473Z",
     "start_time": "2022-02-17T23:04:16.534459Z"
    }
   },
   "outputs": [
    {
     "data": {
      "text/plain": [
       "gender                2\n",
       "vehicle_age           3\n",
       "vehicle_damage        2\n",
       "driving_license       2\n",
       "previously_insured    2\n",
       "response              2\n",
       "dtype: int64"
      ]
     },
     "execution_count": 13,
     "metadata": {},
     "output_type": "execute_result"
    }
   ],
   "source": [
    "# Qtd. of unique attributes per feature\n",
    "cat_attributes.apply(lambda x: x.unique().shape[0])"
   ]
  },
  {
   "cell_type": "code",
   "execution_count": 14,
   "id": "11ef8192",
   "metadata": {
    "ExecuteTime": {
     "end_time": "2022-02-17T23:04:17.544456Z",
     "start_time": "2022-02-17T23:04:16.597473Z"
    }
   },
   "outputs": [
    {
     "data": {
      "image/png": "[encoded data removed]",
      "text/plain": [
       "<Figure size 1440x576 with 6 Axes>"
      ]
     },
     "metadata": {},
     "output_type": "display_data"
    }
   ],
   "source": [
    "fig, axes = plt.subplots(2,3)\n",
    "\n",
    "sns.countplot( x='gender'             , data=cat_attributes, ax=axes[0,0] )\n",
    "sns.countplot( x='vehicle_age'        , data=cat_attributes, ax=axes[0,1] )\n",
    "sns.countplot( x='vehicle_damage'     , data=cat_attributes, ax=axes[0,2] )\n",
    "sns.countplot( x='driving_license'    , data=cat_attributes, ax=axes[1,0] )\n",
    "sns.countplot( x='previously_insured' , data=cat_attributes, ax=axes[1,1] )\n",
    "sns.countplot( x='response'           , data=cat_attributes, ax=axes[1,2] );"
   ]
  },
  {
   "cell_type": "markdown",
   "id": "16f41967",
   "metadata": {},
   "source": [
    "# 3. Feature Engineering"
   ]
  },
  {
   "cell_type": "code",
   "execution_count": 15,
   "id": "8deadc4d",
   "metadata": {
    "ExecuteTime": {
     "end_time": "2022-02-17T23:04:17.560149Z",
     "start_time": "2022-02-17T23:04:17.545458Z"
    }
   },
   "outputs": [],
   "source": [
    "df3 = df2.copy()"
   ]
  },
  {
   "cell_type": "markdown",
   "id": "2d3356bc",
   "metadata": {},
   "source": [
    "## 3.1. Creating New Features"
   ]
  },
  {
   "cell_type": "code",
   "execution_count": 16,
   "id": "3785cb4a",
   "metadata": {
    "ExecuteTime": {
     "end_time": "2022-02-17T23:04:17.751194Z",
     "start_time": "2022-02-17T23:04:17.561151Z"
    }
   },
   "outputs": [
    {
     "data": {
      "text/html": [
       "<div>\n",
       "<style scoped>\n",
       "    .dataframe tbody tr th:only-of-type {\n",
       "        vertical-align: middle;\n",
       "    }\n",
       "\n",
       "    .dataframe tbody tr th {\n",
       "        vertical-align: top;\n",
       "    }\n",
       "\n",
       "    .dataframe thead th {\n",
       "        text-align: right;\n",
       "    }\n",
       "</style>\n",
       "<table border=\"1\" class=\"dataframe\">\n",
       "  <thead>\n",
       "    <tr style=\"text-align: right;\">\n",
       "      <th></th>\n",
       "      <th>id</th>\n",
       "      <th>gender</th>\n",
       "      <th>age</th>\n",
       "      <th>region_code</th>\n",
       "      <th>policy_sales_channel</th>\n",
       "      <th>driving_license</th>\n",
       "      <th>vehicle_age</th>\n",
       "      <th>vehicle_damage</th>\n",
       "      <th>previously_insured</th>\n",
       "      <th>annual_premium</th>\n",
       "      <th>vintage</th>\n",
       "      <th>response</th>\n",
       "    </tr>\n",
       "  </thead>\n",
       "  <tbody>\n",
       "    <tr>\n",
       "      <th>0</th>\n",
       "      <td>7</td>\n",
       "      <td>Male</td>\n",
       "      <td>23</td>\n",
       "      <td>11.0</td>\n",
       "      <td>152.0</td>\n",
       "      <td>1</td>\n",
       "      <td>below_1_year</td>\n",
       "      <td>1</td>\n",
       "      <td>0</td>\n",
       "      <td>23367.0</td>\n",
       "      <td>249</td>\n",
       "      <td>0</td>\n",
       "    </tr>\n",
       "    <tr>\n",
       "      <th>1</th>\n",
       "      <td>13</td>\n",
       "      <td>Female</td>\n",
       "      <td>41</td>\n",
       "      <td>15.0</td>\n",
       "      <td>14.0</td>\n",
       "      <td>1</td>\n",
       "      <td>between_1_2_years</td>\n",
       "      <td>0</td>\n",
       "      <td>1</td>\n",
       "      <td>31409.0</td>\n",
       "      <td>221</td>\n",
       "      <td>0</td>\n",
       "    </tr>\n",
       "    <tr>\n",
       "      <th>2</th>\n",
       "      <td>18</td>\n",
       "      <td>Female</td>\n",
       "      <td>25</td>\n",
       "      <td>35.0</td>\n",
       "      <td>152.0</td>\n",
       "      <td>1</td>\n",
       "      <td>below_1_year</td>\n",
       "      <td>0</td>\n",
       "      <td>1</td>\n",
       "      <td>46622.0</td>\n",
       "      <td>299</td>\n",
       "      <td>0</td>\n",
       "    </tr>\n",
       "    <tr>\n",
       "      <th>3</th>\n",
       "      <td>31</td>\n",
       "      <td>Female</td>\n",
       "      <td>26</td>\n",
       "      <td>8.0</td>\n",
       "      <td>160.0</td>\n",
       "      <td>1</td>\n",
       "      <td>below_1_year</td>\n",
       "      <td>0</td>\n",
       "      <td>0</td>\n",
       "      <td>2630.0</td>\n",
       "      <td>136</td>\n",
       "      <td>0</td>\n",
       "    </tr>\n",
       "    <tr>\n",
       "      <th>4</th>\n",
       "      <td>39</td>\n",
       "      <td>Male</td>\n",
       "      <td>45</td>\n",
       "      <td>8.0</td>\n",
       "      <td>124.0</td>\n",
       "      <td>1</td>\n",
       "      <td>between_1_2_years</td>\n",
       "      <td>1</td>\n",
       "      <td>0</td>\n",
       "      <td>42297.0</td>\n",
       "      <td>264</td>\n",
       "      <td>0</td>\n",
       "    </tr>\n",
       "  </tbody>\n",
       "</table>\n",
       "</div>"
      ],
      "text/plain": [
       "   id  gender  age  region_code  policy_sales_channel  driving_license        vehicle_age  vehicle_damage  previously_insured  annual_premium  vintage  response\n",
       "0   7    Male   23         11.0                 152.0                1       below_1_year               1                   0         23367.0      249         0\n",
       "1  13  Female   41         15.0                  14.0                1  between_1_2_years               0                   1         31409.0      221         0\n",
       "2  18  Female   25         35.0                 152.0                1       below_1_year               0                   1         46622.0      299         0\n",
       "3  31  Female   26          8.0                 160.0                1       below_1_year               0                   0          2630.0      136         0\n",
       "4  39    Male   45          8.0                 124.0                1  between_1_2_years               1                   0         42297.0      264         0"
      ]
     },
     "execution_count": 16,
     "metadata": {},
     "output_type": "execute_result"
    }
   ],
   "source": [
    "# vehicle age\n",
    "df3['vehicle_age'] = df3['vehicle_age'].apply( lambda x: 'over_2_years'      if x == '> 2 Years' else\n",
    "                                                         'between_1_2_years' if x == '1-2 Year' else \n",
    "                                                         'below_1_year' )\n",
    "\n",
    "# vehicle damage\n",
    "df3['vehicle_damage'] = df3['vehicle_damage'].apply(lambda x: 1 if x == 'Yes' else 0)\n",
    "\n",
    "\n",
    "# check\n",
    "df3.head()"
   ]
  },
  {
   "cell_type": "markdown",
   "id": "514c5c68",
   "metadata": {},
   "source": [
    "# 4. Data Filtering"
   ]
  },
  {
   "cell_type": "code",
   "execution_count": 17,
   "id": "417b42ad",
   "metadata": {
    "ExecuteTime": {
     "end_time": "2022-02-17T23:04:17.783201Z",
     "start_time": "2022-02-17T23:04:17.752196Z"
    }
   },
   "outputs": [],
   "source": [
    "df4 = df3.copy()"
   ]
  },
  {
   "cell_type": "markdown",
   "id": "1f65e7b8",
   "metadata": {},
   "source": [
    "# 5. EDA"
   ]
  },
  {
   "cell_type": "code",
   "execution_count": 18,
   "id": "af159c37",
   "metadata": {
    "ExecuteTime": {
     "end_time": "2022-02-17T23:04:17.799205Z",
     "start_time": "2022-02-17T23:04:17.785203Z"
    }
   },
   "outputs": [],
   "source": [
    "df5 = df4.copy()"
   ]
  },
  {
   "cell_type": "markdown",
   "id": "e8743817",
   "metadata": {},
   "source": [
    "## 5.1. Univariate Analysis"
   ]
  },
  {
   "cell_type": "markdown",
   "id": "ce129203",
   "metadata": {
    "ExecuteTime": {
     "end_time": "2022-02-16T23:17:33.942364Z",
     "start_time": "2022-02-16T23:17:33.934370Z"
    },
    "heading_collapsed": true
   },
   "source": [
    "### 5.1.1. Age"
   ]
  },
  {
   "cell_type": "code",
   "execution_count": 19,
   "id": "5c059c4a",
   "metadata": {
    "ExecuteTime": {
     "end_time": "2022-02-17T23:04:17.943023Z",
     "start_time": "2022-02-17T23:04:17.800205Z"
    },
    "hidden": true
   },
   "outputs": [
    {
     "data": {
      "image/png": "[encoded data removed]",
      "text/plain": [
       "<Figure size 1440x576 with 1 Axes>"
      ]
     },
     "metadata": {},
     "output_type": "display_data"
    }
   ],
   "source": [
    "sns.boxplot( x='response', y='age', data=df5  );"
   ]
  },
  {
   "cell_type": "code",
   "execution_count": 20,
   "id": "76eb1315",
   "metadata": {
    "ExecuteTime": {
     "end_time": "2022-02-17T23:04:18.530522Z",
     "start_time": "2022-02-17T23:04:17.944024Z"
    },
    "hidden": true
   },
   "outputs": [
    {
     "data": {
      "image/png": "[encoded data removed]",
      "text/plain": [
       "<Figure size 1440x576 with 2 Axes>"
      ]
     },
     "metadata": {},
     "output_type": "display_data"
    }
   ],
   "source": [
    "fig, axes = plt.subplots(1,2)\n",
    "\n",
    "sns.histplot( df5[ df5['response'] == 0 ]['age'], ax=axes[0] )\n",
    "sns.histplot( df5[ df5['response'] == 1 ]['age'], ax=axes[1] );"
   ]
  },
  {
   "cell_type": "markdown",
   "id": "148af3ff",
   "metadata": {
    "hidden": true
   },
   "source": [
    "* We can see by the distribution that younger people are less interested about the insurance than older people.\n",
    "    * But we have much more cases of people who are not interested as we can see by comparing the y-axis magnitude."
   ]
  },
  {
   "cell_type": "markdown",
   "id": "985668e1",
   "metadata": {
    "heading_collapsed": true
   },
   "source": [
    "### 5.1.2. Annual Premium"
   ]
  },
  {
   "cell_type": "code",
   "execution_count": 21,
   "id": "03748388",
   "metadata": {
    "ExecuteTime": {
     "end_time": "2022-02-17T23:04:18.690563Z",
     "start_time": "2022-02-17T23:04:18.531523Z"
    },
    "hidden": true
   },
   "outputs": [
    {
     "data": {
      "image/png": "[encoded data removed]",
      "text/plain": [
       "<Figure size 1440x576 with 1 Axes>"
      ]
     },
     "metadata": {},
     "output_type": "display_data"
    }
   ],
   "source": [
    "sns.boxplot( x='response', y='annual_premium', data=df5 );"
   ]
  },
  {
   "cell_type": "markdown",
   "id": "61a69fa3",
   "metadata": {
    "hidden": true
   },
   "source": [
    "* There is a lot of outliers, so it's hard to analyze the distribution"
   ]
  },
  {
   "cell_type": "code",
   "execution_count": 22,
   "id": "4f9fbe75",
   "metadata": {
    "ExecuteTime": {
     "end_time": "2022-02-17T23:04:20.068871Z",
     "start_time": "2022-02-17T23:04:18.691563Z"
    },
    "hidden": true
   },
   "outputs": [
    {
     "data": {
      "image/png": "[encoded data removed]",
      "text/plain": [
       "<Figure size 1440x576 with 1 Axes>"
      ]
     },
     "metadata": {},
     "output_type": "display_data"
    }
   ],
   "source": [
    "df_aux = df5[ df5['annual_premium'] < 80000 ]\n",
    "sns.boxplot( x='response', y='annual_premium', data=df_aux );"
   ]
  },
  {
   "cell_type": "code",
   "execution_count": 23,
   "id": "b88fd211",
   "metadata": {
    "ExecuteTime": {
     "end_time": "2022-02-17T23:04:20.798039Z",
     "start_time": "2022-02-17T23:04:20.069872Z"
    },
    "hidden": true
   },
   "outputs": [
    {
     "data": {
      "image/png": "[encoded data removed]",
      "text/plain": [
       "<Figure size 1440x576 with 2 Axes>"
      ]
     },
     "metadata": {},
     "output_type": "display_data"
    }
   ],
   "source": [
    "fig, axes = plt.subplots(1,2)\n",
    "\n",
    "sns.histplot( df5[ (df5['annual_premium'] > 10000) & (df5['annual_premium'] < 80000) & (df5['response'] == 0) ]['annual_premium'] , ax=axes[0])\n",
    "sns.histplot( df5[ (df5['annual_premium'] > 10000) & (df5['annual_premium'] < 80000) & (df5['response'] == 1) ]['annual_premium'] , ax=axes[1]);"
   ]
  },
  {
   "cell_type": "markdown",
   "id": "8fc5d673",
   "metadata": {
    "hidden": true
   },
   "source": [
    "* We can see that the distribution for each response is very similar. This feature alone probably doesn't help the prediction."
   ]
  },
  {
   "cell_type": "markdown",
   "id": "f77d333c",
   "metadata": {
    "heading_collapsed": true
   },
   "source": [
    "### 5.1.3. Driving License"
   ]
  },
  {
   "cell_type": "code",
   "execution_count": 24,
   "id": "b79df4cf",
   "metadata": {
    "ExecuteTime": {
     "end_time": "2022-02-17T23:04:20.956675Z",
     "start_time": "2022-02-17T23:04:20.799039Z"
    },
    "hidden": true
   },
   "outputs": [
    {
     "data": {
      "image/png": "[encoded data removed]",
      "text/plain": [
       "<Figure size 1440x576 with 1 Axes>"
      ]
     },
     "metadata": {},
     "output_type": "display_data"
    }
   ],
   "source": [
    "sns.countplot( x='response', hue='driving_license',  data=df5);"
   ]
  },
  {
   "cell_type": "markdown",
   "id": "c23abec8",
   "metadata": {
    "hidden": true
   },
   "source": [
    "* We can see a huge difference in magnitude for people who has a driving license, but I think that we will need to analyse it with another feature, such as age."
   ]
  },
  {
   "cell_type": "markdown",
   "id": "de1bd70f",
   "metadata": {
    "heading_collapsed": true
   },
   "source": [
    "### 5.1.4. Region Code"
   ]
  },
  {
   "cell_type": "code",
   "execution_count": 25,
   "id": "671380af",
   "metadata": {
    "ExecuteTime": {
     "end_time": "2022-02-17T23:04:21.159965Z",
     "start_time": "2022-02-17T23:04:20.957676Z"
    },
    "hidden": true
   },
   "outputs": [
    {
     "data": {
      "image/png": "[encoded data removed]",
      "text/plain": [
       "<Figure size 1440x576 with 1 Axes>"
      ]
     },
     "metadata": {},
     "output_type": "display_data"
    }
   ],
   "source": [
    "df_aux = df5[ ['id', 'region_code', 'response'] ].groupby( ['region_code', 'response'] ).count().reset_index()\n",
    "sns.scatterplot( x='region_code', y='id', hue='response', data=df_aux );"
   ]
  },
  {
   "cell_type": "markdown",
   "id": "0c088a71",
   "metadata": {
    "hidden": true
   },
   "source": [
    "* We can see there is no clear separation between interested and not interested people per region code, so this feature alone is not helpful."
   ]
  },
  {
   "cell_type": "markdown",
   "id": "9ebe25a8",
   "metadata": {
    "heading_collapsed": true
   },
   "source": [
    "### 5.1.5. Previously Insured"
   ]
  },
  {
   "cell_type": "code",
   "execution_count": 26,
   "id": "cd7609e4",
   "metadata": {
    "ExecuteTime": {
     "end_time": "2022-02-17T23:04:21.206785Z",
     "start_time": "2022-02-17T23:04:21.160966Z"
    },
    "hidden": true
   },
   "outputs": [
    {
     "data": {
      "text/html": [
       "<div>\n",
       "<style scoped>\n",
       "    .dataframe tbody tr th:only-of-type {\n",
       "        vertical-align: middle;\n",
       "    }\n",
       "\n",
       "    .dataframe tbody tr th {\n",
       "        vertical-align: top;\n",
       "    }\n",
       "\n",
       "    .dataframe thead th {\n",
       "        text-align: right;\n",
       "    }\n",
       "</style>\n",
       "<table border=\"1\" class=\"dataframe\">\n",
       "  <thead>\n",
       "    <tr style=\"text-align: right;\">\n",
       "      <th>response</th>\n",
       "      <th>0</th>\n",
       "      <th>1</th>\n",
       "    </tr>\n",
       "    <tr>\n",
       "      <th>previously_insured</th>\n",
       "      <th></th>\n",
       "      <th></th>\n",
       "    </tr>\n",
       "  </thead>\n",
       "  <tbody>\n",
       "    <tr>\n",
       "      <th>0</th>\n",
       "      <td>0.774546</td>\n",
       "      <td>0.225454</td>\n",
       "    </tr>\n",
       "    <tr>\n",
       "      <th>1</th>\n",
       "      <td>0.999095</td>\n",
       "      <td>0.000905</td>\n",
       "    </tr>\n",
       "  </tbody>\n",
       "</table>\n",
       "</div>"
      ],
      "text/plain": [
       "response                   0         1\n",
       "previously_insured                    \n",
       "0                   0.774546  0.225454\n",
       "1                   0.999095  0.000905"
      ]
     },
     "execution_count": 26,
     "metadata": {},
     "output_type": "execute_result"
    }
   ],
   "source": [
    "pd.crosstab( df5['previously_insured'], df5['response'] ).apply( lambda x: x / x.sum(), axis=1 )"
   ]
  },
  {
   "cell_type": "markdown",
   "id": "dd2c81d3",
   "metadata": {
    "hidden": true
   },
   "source": [
    "* Almost everyone that already has a vehicle insurance doesn't want to get a new one."
   ]
  },
  {
   "cell_type": "markdown",
   "id": "50f0e789",
   "metadata": {
    "heading_collapsed": true
   },
   "source": [
    "### 5.1.6. Vehicle Age"
   ]
  },
  {
   "cell_type": "code",
   "execution_count": 27,
   "id": "c636ad4b",
   "metadata": {
    "ExecuteTime": {
     "end_time": "2022-02-17T23:04:21.270306Z",
     "start_time": "2022-02-17T23:04:21.207786Z"
    },
    "hidden": true
   },
   "outputs": [
    {
     "data": {
      "text/html": [
       "<div>\n",
       "<style scoped>\n",
       "    .dataframe tbody tr th:only-of-type {\n",
       "        vertical-align: middle;\n",
       "    }\n",
       "\n",
       "    .dataframe tbody tr th {\n",
       "        vertical-align: top;\n",
       "    }\n",
       "\n",
       "    .dataframe thead th {\n",
       "        text-align: right;\n",
       "    }\n",
       "</style>\n",
       "<table border=\"1\" class=\"dataframe\">\n",
       "  <thead>\n",
       "    <tr style=\"text-align: right;\">\n",
       "      <th></th>\n",
       "      <th>vehicle_age</th>\n",
       "      <th>response</th>\n",
       "      <th>0</th>\n",
       "    </tr>\n",
       "  </thead>\n",
       "  <tbody>\n",
       "    <tr>\n",
       "      <th>1</th>\n",
       "      <td>below_1_year</td>\n",
       "      <td>0</td>\n",
       "      <td>0.413488</td>\n",
       "    </tr>\n",
       "    <tr>\n",
       "      <th>4</th>\n",
       "      <td>below_1_year</td>\n",
       "      <td>1</td>\n",
       "      <td>0.018897</td>\n",
       "    </tr>\n",
       "    <tr>\n",
       "      <th>0</th>\n",
       "      <td>between_1_2_years</td>\n",
       "      <td>0</td>\n",
       "      <td>0.434285</td>\n",
       "    </tr>\n",
       "    <tr>\n",
       "      <th>2</th>\n",
       "      <td>between_1_2_years</td>\n",
       "      <td>1</td>\n",
       "      <td>0.091328</td>\n",
       "    </tr>\n",
       "    <tr>\n",
       "      <th>3</th>\n",
       "      <td>over_2_years</td>\n",
       "      <td>0</td>\n",
       "      <td>0.029663</td>\n",
       "    </tr>\n",
       "    <tr>\n",
       "      <th>5</th>\n",
       "      <td>over_2_years</td>\n",
       "      <td>1</td>\n",
       "      <td>0.012338</td>\n",
       "    </tr>\n",
       "  </tbody>\n",
       "</table>\n",
       "</div>"
      ],
      "text/plain": [
       "         vehicle_age  response         0\n",
       "1       below_1_year         0  0.413488\n",
       "4       below_1_year         1  0.018897\n",
       "0  between_1_2_years         0  0.434285\n",
       "2  between_1_2_years         1  0.091328\n",
       "3       over_2_years         0  0.029663\n",
       "5       over_2_years         1  0.012338"
      ]
     },
     "execution_count": 27,
     "metadata": {},
     "output_type": "execute_result"
    }
   ],
   "source": [
    "df5[ ['vehicle_age', 'response'] ].value_counts( normalize=True ).reset_index().sort_values(by=['vehicle_age'])"
   ]
  },
  {
   "cell_type": "markdown",
   "id": "867cff2e",
   "metadata": {
    "hidden": true
   },
   "source": [
    "* For cars that has below 2 years there is a clear separation.\n",
    " * But over 2 years the percentage is very close, wich can be a problem for the model."
   ]
  },
  {
   "cell_type": "markdown",
   "id": "5f15ba01",
   "metadata": {
    "heading_collapsed": true
   },
   "source": [
    "### 5.1.7. Policy Sales Channel"
   ]
  },
  {
   "cell_type": "code",
   "execution_count": 28,
   "id": "358a8c56",
   "metadata": {
    "ExecuteTime": {
     "end_time": "2022-02-17T23:04:24.616878Z",
     "start_time": "2022-02-17T23:04:21.271306Z"
    },
    "hidden": true
   },
   "outputs": [
    {
     "data": {
      "image/png": "[encoded data removed]",
      "text/plain": [
       "<Figure size 1440x576 with 1 Axes>"
      ]
     },
     "metadata": {},
     "output_type": "display_data"
    }
   ],
   "source": [
    "df_total = df5[ ['policy_sales_channel', 'response'] ].groupby( 'policy_sales_channel' ).count().reset_index()\n",
    "df_resp1 = df5[ ['policy_sales_channel', 'response'] ].groupby( 'policy_sales_channel' ).sum().reset_index()\n",
    "\n",
    "df_resp1['response'] = [i / j * 100 for i,j in zip(df_resp1['response'], df_total['response'])]\n",
    "df_total['response'] = 100\n",
    "\n",
    "bar1 = sns.barplot(x=\"policy_sales_channel\",  y=\"response\", data=df_total, color='darkblue')\n",
    "bar2 = sns.barplot(x=\"policy_sales_channel\", y=\"response\", data=df_resp1, color='lightblue')\n",
    "\n",
    "top_bar = mpatches.Patch(color='darkblue', label='response = 0')\n",
    "bottom_bar = mpatches.Patch(color='lightblue', label='response = 1')\n",
    "plt.legend(handles=[top_bar, bottom_bar]);"
   ]
  },
  {
   "cell_type": "markdown",
   "id": "80f2264e",
   "metadata": {
    "hidden": true
   },
   "source": [
    "* We can see that for most of the policy sales channel there is a clear difference between the percentages for each response, wich could indicate a good discriminatory feature."
   ]
  },
  {
   "cell_type": "markdown",
   "id": "3b4d7efc",
   "metadata": {
    "heading_collapsed": true
   },
   "source": [
    "### 5.1.8. Vintage"
   ]
  },
  {
   "cell_type": "code",
   "execution_count": 29,
   "id": "08113a9f",
   "metadata": {
    "ExecuteTime": {
     "end_time": "2022-02-17T23:04:24.744910Z",
     "start_time": "2022-02-17T23:04:24.617879Z"
    },
    "hidden": true
   },
   "outputs": [
    {
     "data": {
      "image/png": "[encoded data removed]",
      "text/plain": [
       "<Figure size 1440x576 with 1 Axes>"
      ]
     },
     "metadata": {},
     "output_type": "display_data"
    }
   ],
   "source": [
    "sns.boxplot( x='response', y='vintage', data=df5  );"
   ]
  },
  {
   "cell_type": "code",
   "execution_count": 30,
   "id": "d171d4d1",
   "metadata": {
    "ExecuteTime": {
     "end_time": "2022-02-17T23:04:25.280895Z",
     "start_time": "2022-02-17T23:04:24.745910Z"
    },
    "hidden": true
   },
   "outputs": [
    {
     "data": {
      "image/png": "[encoded data removed]",
      "text/plain": [
       "<Figure size 1440x576 with 2 Axes>"
      ]
     },
     "metadata": {},
     "output_type": "display_data"
    }
   ],
   "source": [
    "fig, axes = plt.subplots(1,2)\n",
    "\n",
    "sns.histplot( df5[ df5['response'] == 0 ]['vintage'], ax=axes[0] )\n",
    "sns.histplot( df5[ df5['response'] == 1 ]['vintage'], ax=axes[1] );"
   ]
  },
  {
   "cell_type": "markdown",
   "id": "cbebbc84",
   "metadata": {
    "hidden": true
   },
   "source": [
    "* There is no significant difference between the distributions."
   ]
  },
  {
   "cell_type": "markdown",
   "id": "e50f80e2",
   "metadata": {},
   "source": [
    "# 6. Data Preparation"
   ]
  },
  {
   "cell_type": "code",
   "execution_count": 102,
   "id": "9563bbf0",
   "metadata": {
    "ExecuteTime": {
     "end_time": "2022-02-18T01:51:00.116896Z",
     "start_time": "2022-02-18T01:51:00.020550Z"
    }
   },
   "outputs": [],
   "source": [
    "X = df5.drop( 'response', axis=1 )\n",
    "Y = df5['response'].copy()\n",
    "\n",
    "x_train, x_val, y_train, y_val = train_test_split( X, Y, test_size=0.2 )\n",
    "\n",
    "df6 = pd.concat( [x_train, y_train], axis=1 )"
   ]
  },
  {
   "cell_type": "markdown",
   "id": "8ec62a65",
   "metadata": {},
   "source": [
    "## 6.1. Standardization"
   ]
  },
  {
   "cell_type": "code",
   "execution_count": 103,
   "id": "7833b33d",
   "metadata": {
    "ExecuteTime": {
     "end_time": "2022-02-18T01:51:03.750417Z",
     "start_time": "2022-02-18T01:51:03.717405Z"
    }
   },
   "outputs": [],
   "source": [
    "ss = StandardScaler()\n",
    "\n",
    "# annual_premium\n",
    "df6['annual_premium'] = ss.fit_transform( df6[['annual_premium']].values )"
   ]
  },
  {
   "cell_type": "markdown",
   "id": "7a9e052c",
   "metadata": {},
   "source": [
    "## 6.2. Rescaling"
   ]
  },
  {
   "cell_type": "code",
   "execution_count": 104,
   "id": "9d23b8e7",
   "metadata": {
    "ExecuteTime": {
     "end_time": "2022-02-18T01:51:05.179346Z",
     "start_time": "2022-02-18T01:51:05.168334Z"
    }
   },
   "outputs": [],
   "source": [
    "mms_age = MinMaxScaler()\n",
    "mms_vintage = MinMaxScaler()\n",
    "\n",
    "# age\n",
    "df6['age'] = mms_age.fit_transform( df6[['age']].values )\n",
    "\n",
    "# vintage\n",
    "df6['vintage'] = mms_vintage.fit_transform( df6[['vintage']].values )"
   ]
  },
  {
   "cell_type": "markdown",
   "id": "27c1b4d8",
   "metadata": {},
   "source": [
    "## 6.3. Encoding"
   ]
  },
  {
   "cell_type": "code",
   "execution_count": 105,
   "id": "ae5a739a",
   "metadata": {
    "ExecuteTime": {
     "end_time": "2022-02-18T01:51:08.926316Z",
     "start_time": "2022-02-18T01:51:08.808056Z"
    }
   },
   "outputs": [],
   "source": [
    "# gender - One Hot Enconding / Target Enconding\n",
    "target_encode_gender = df6.groupby( 'gender' )['response'].mean()\n",
    "df6['gender'] = df6['gender'].map( target_encode_gender )\n",
    "\n",
    "# region code - Frequency Enconding / Target Enconding / Weighted Target Enconding\n",
    "target_enconde_region_code = df6.groupby( 'region_code' )['response'].mean()\n",
    "df6['region_code'] = df6['region_code'].map( target_enconde_region_code )\n",
    "    \n",
    "# vehicle_age - One Hot Enconding / Order Enconding / Frequency Enconding\n",
    "df6 = pd.get_dummies( df6, prefix='vehicle_age', columns=['vehicle_age'] )\n",
    "\n",
    "# policy_sales_channel - Target Enconding / Frequency Enconding\n",
    "freq_policy_sales_channel = df6.groupby( 'policy_sales_channel' ).size() / len(df6)\n",
    "df6['policy_sales_channel'] = df6['policy_sales_channel'].map( freq_policy_sales_channel )"
   ]
  },
  {
   "cell_type": "markdown",
   "id": "b50f881d",
   "metadata": {},
   "source": [
    "## 6.4. Validation Preparation"
   ]
  },
  {
   "cell_type": "code",
   "execution_count": 106,
   "id": "5a0b4780",
   "metadata": {
    "ExecuteTime": {
     "end_time": "2022-02-18T01:51:10.216552Z",
     "start_time": "2022-02-18T01:51:10.176552Z"
    }
   },
   "outputs": [],
   "source": [
    "# gender\n",
    "x_val['gender'] = x_val['gender'].map( target_encode_gender )\n",
    "\n",
    "# region_code\n",
    "x_val['age'] = mms_age.transform( x_val[['age']].values )\n",
    "\n",
    "# vehicle_age\n",
    "x_val = pd.get_dummies( x_val, prefix='vehicle_age', columns=['vehicle_age'] )\n",
    "\n",
    "# policy_sales_channel\n",
    "x_val['policy_sales_channel'] = x_val['policy_sales_channel'].map( freq_policy_sales_channel )\n",
    "\n",
    "# age\n",
    "x_val['age']  = mms_age.fit_transform( x_val[['age']].values )\n",
    "\n",
    "# vintage\n",
    "x_val['vintage'] = mms_vintage.fit_transform( x_val[['vintage']].values )\n",
    "\n",
    "# annual_premium\n",
    "x_val['annual_premium'] = ss.fit_transform( x_val[['annual_premium']].values )\n",
    "\n",
    "# fillna\n",
    "x_val = x_val.fillna( 0 )"
   ]
  },
  {
   "cell_type": "markdown",
   "id": "429f1e47",
   "metadata": {},
   "source": [
    "# 7. Feature Selection"
   ]
  },
  {
   "cell_type": "markdown",
   "id": "c91d467b",
   "metadata": {},
   "source": [
    "## 7.1. Features Importance"
   ]
  },
  {
   "cell_type": "code",
   "execution_count": 107,
   "id": "1433f0e9",
   "metadata": {
    "ExecuteTime": {
     "end_time": "2022-02-18T01:51:27.986756Z",
     "start_time": "2022-02-18T01:51:13.633598Z"
    }
   },
   "outputs": [
    {
     "data": {
      "text/plain": [
       "ExtraTreesClassifier(n_estimators=250, n_jobs=-1, random_state=0)"
      ]
     },
     "execution_count": 107,
     "metadata": {},
     "output_type": "execute_result"
    }
   ],
   "source": [
    "# model definition\n",
    "forest = ExtraTreesClassifier( n_estimators=250, random_state=0, n_jobs=-1 )\n",
    "\n",
    "# data preparation\n",
    "x_train_n = df6.drop( ['id', 'response'], axis=1 )\n",
    "y_train_n = y_train.values\n",
    "forest.fit( x_train_n, y_train_n )"
   ]
  },
  {
   "cell_type": "code",
   "execution_count": 108,
   "id": "4c48bab0",
   "metadata": {
    "ExecuteTime": {
     "end_time": "2022-02-18T01:51:28.670426Z",
     "start_time": "2022-02-18T01:51:27.987757Z"
    }
   },
   "outputs": [
    {
     "name": "stdout",
     "output_type": "stream",
     "text": [
      "Feature Ranking:\n",
      "                         feature  importance\n",
      "0                        vintage    0.272557\n",
      "0                 annual_premium    0.244364\n",
      "0                            age    0.165789\n",
      "0                    region_code    0.105566\n",
      "0                 vehicle_damage    0.068304\n",
      "0           policy_sales_channel    0.059114\n",
      "0             previously_insured    0.056082\n",
      "0       vehicle_age_below_1_year    0.013883\n",
      "0  vehicle_age_between_1_2_years    0.006462\n",
      "0                         gender    0.005350\n",
      "0       vehicle_age_over_2_years    0.002053\n",
      "0                driving_license    0.000475\n"
     ]
    },
    {
     "data": {
      "image/png": "[encoded data removed]",
      "text/plain": [
       "<Figure size 1440x576 with 1 Axes>"
      ]
     },
     "metadata": {},
     "output_type": "display_data"
    }
   ],
   "source": [
    "importances = forest.feature_importances_\n",
    "std = np.std( [tree.feature_importances_ for tree in forest.estimators_], axis=0 )\n",
    "indices = np.argsort( importances )[::-1]\n",
    "\n",
    "# print the feature ranking\n",
    "df = pd.DataFrame()\n",
    "\n",
    "print( 'Feature Ranking:' )\n",
    "for i, j in zip( x_train_n, forest.feature_importances_ ):\n",
    "    df_aux = pd.DataFrame( {'feature':i, 'importance':j}, index=[0] )\n",
    "    df = pd.concat( [df, df_aux], axis=0 )\n",
    "    \n",
    "print( df.sort_values( 'importance', ascending=False ) )\n",
    "\n",
    "# plot the impurity-based feature importances of the forest\n",
    "plt.figure()\n",
    "plt.title('Feature Importance')\n",
    "plt.bar( range(x_train_n.shape[1]), importances[indices], color='r', yerr=std[indices], align='center' )\n",
    "plt.xticks( range(x_train_n.shape[1]), indices )\n",
    "plt.xlim( [-1, x_train_n.shape[1]] )\n",
    "plt.show()"
   ]
  },
  {
   "cell_type": "markdown",
   "id": "b712da45",
   "metadata": {
    "ExecuteTime": {
     "end_time": "2022-02-18T01:25:55.396398Z",
     "start_time": "2022-02-18T01:25:55.381395Z"
    }
   },
   "source": [
    "* It will be selected the seven most important feature, because they have a importance over 5\\%."
   ]
  },
  {
   "cell_type": "markdown",
   "id": "d5fa9465",
   "metadata": {},
   "source": [
    "# 8. Machine Learning Model"
   ]
  },
  {
   "cell_type": "code",
   "execution_count": 109,
   "id": "9adcf3f4",
   "metadata": {
    "ExecuteTime": {
     "end_time": "2022-02-18T01:52:20.604396Z",
     "start_time": "2022-02-18T01:52:20.584390Z"
    }
   },
   "outputs": [],
   "source": [
    "cols_selected = ['annual_premium', 'vintage', 'age', 'region_code', \n",
    "                 'vehicle_damage', 'previously_insured', 'policy_sales_channel']\n",
    "\n",
    "# get selected features\n",
    "x_train = df6[ cols_selected ]\n",
    "x_val = x_val[ cols_selected ]"
   ]
  },
  {
   "cell_type": "markdown",
   "id": "155bf6a3",
   "metadata": {},
   "source": [
    "## 8.1. KNN"
   ]
  },
  {
   "cell_type": "code",
   "execution_count": 135,
   "id": "74ebe125",
   "metadata": {
    "ExecuteTime": {
     "end_time": "2022-02-18T02:07:44.108436Z",
     "start_time": "2022-02-18T02:07:32.783896Z"
    }
   },
   "outputs": [
    {
     "data": {
      "image/png": "[encoded data removed]",
      "text/plain": [
       "<Figure size 1440x576 with 1 Axes>"
      ]
     },
     "metadata": {},
     "output_type": "display_data"
    }
   ],
   "source": [
    "# model definition\n",
    "knn_model = KNeighborsClassifier( n_neighbors=7 )\n",
    "\n",
    "# model training\n",
    "knn_model.fit( x_train, y_train )\n",
    "\n",
    "# model prediction\n",
    "yhat_knn = knn_model.predict_proba( x_val )\n",
    "\n",
    "# accumulative gain\n",
    "skplt.metrics.plot_cumulative_gain( y_val, yhat_knn );"
   ]
  },
  {
   "cell_type": "markdown",
   "id": "2806c670",
   "metadata": {},
   "source": [
    "## 8.2. Logistic Regression"
   ]
  },
  {
   "cell_type": "code",
   "execution_count": 134,
   "id": "f98c2eae",
   "metadata": {
    "ExecuteTime": {
     "end_time": "2022-02-18T02:07:27.810981Z",
     "start_time": "2022-02-18T02:07:26.869770Z"
    }
   },
   "outputs": [
    {
     "data": {
      "image/png": "[encoded data removed]",
      "text/plain": [
       "<Figure size 1440x576 with 1 Axes>"
      ]
     },
     "metadata": {},
     "output_type": "display_data"
    }
   ],
   "source": [
    "# model definition\n",
    "lr_model = LogisticRegression( random_state=42 )\n",
    "\n",
    "# model training\n",
    "lr_model.fit( x_train, y_train )\n",
    "\n",
    "# model prediction\n",
    "yhat_lr = lr_model.predict_proba( x_val )\n",
    "\n",
    "# accumulative gain\n",
    "skplt.metrics.plot_cumulative_gain( y_val, yhat_lr );"
   ]
  }
 ],
 "metadata": {
  "kernelspec": {
   "display_name": "Python 3 (ipykernel)",
   "language": "python",
   "name": "python3"
  },
  "language_info": {
   "codemirror_mode": {
    "name": "ipython",
    "version": 3
   },
   "file_extension": ".py",
   "mimetype": "text/x-python",
   "name": "python",
   "nbconvert_exporter": "python",
   "pygments_lexer": "ipython3",
   "version": "3.9.7"
  }
 },
 "nbformat": 4,
 "nbformat_minor": 5
}
